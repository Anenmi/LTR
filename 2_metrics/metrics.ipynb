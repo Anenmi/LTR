{
 "cells": [
  {
   "cell_type": "code",
   "execution_count": 1,
   "id": "5a2293dc-cad5-4edc-96c8-d0ec87932463",
   "metadata": {},
   "outputs": [],
   "source": [
    "from solution_template import *\n",
    "import torch"
   ]
  },
  {
   "cell_type": "code",
   "execution_count": 2,
   "id": "52f452a0-6b72-43c7-a434-c7c1b838c296",
   "metadata": {},
   "outputs": [],
   "source": [
    "ys_true = torch.rand(10)\n",
    "ys_pred = torch.rand(10)"
   ]
  },
  {
   "cell_type": "code",
   "execution_count": 12,
   "id": "75ce3e14-7aa5-4328-9f90-6a69a5403a50",
   "metadata": {},
   "outputs": [],
   "source": [
    "ys_true = torch.tensor([0,1,2])\n",
    "ys_pred = torch.tensor([0.1, 0.5, 0.4])\n",
    "\n",
    "ys_true = torch.tensor([0, 2, 2])\n",
    "ys_pred = torch.tensor([0.1, 0.4, 0.5])\n",
    "\n",
    "\n",
    "\n",
    "# ys_true = torch.tensor([1, 1, 1, 1, 1, 0, 0, 0, 0, 0])\n",
    "# ys_pred = torch.tensor([0.9, 0.8, 0.7, 0.6, 0.5, 0.55, 0.1, 0.6, 0.1, 0.1])\n",
    "\n",
    "\n",
    "ys_true = torch.tensor([1,1,1,0,0, 0, 0, 0, 0, 0])\n",
    "ys_pred = torch.tensor([0.9, 0.8, 0.7, 0.6, 0.5, 0.55, 0.1, 0.6, 0.1, 0.1])"
   ]
  },
  {
   "cell_type": "code",
   "execution_count": 13,
   "id": "8958be23-4224-4bd1-b51e-4cc905710ff9",
   "metadata": {},
   "outputs": [
    {
     "data": {
      "text/plain": [
       "0"
      ]
     },
     "execution_count": 13,
     "metadata": {},
     "output_type": "execute_result"
    }
   ],
   "source": [
    "# 1\n",
    "num_swapped_pairs(ys_true, ys_pred)"
   ]
  },
  {
   "cell_type": "code",
   "execution_count": 14,
   "id": "a3d02cf8-8ee1-46cc-bcf3-0c52490706f5",
   "metadata": {},
   "outputs": [
    {
     "data": {
      "text/plain": [
       "1"
      ]
     },
     "execution_count": 14,
     "metadata": {},
     "output_type": "execute_result"
    }
   ],
   "source": [
    "# 2\n",
    "compute_gain(1, \"exp2\")"
   ]
  },
  {
   "cell_type": "code",
   "execution_count": 15,
   "id": "e3f442a4-c149-4d83-b1b5-dc63b7ed9abc",
   "metadata": {},
   "outputs": [
    {
     "data": {
      "text/plain": [
       "2.1309297535714578"
      ]
     },
     "execution_count": 15,
     "metadata": {},
     "output_type": "execute_result"
    }
   ],
   "source": [
    "# 3\n",
    "dcg(ys_true, ys_pred, 'exp2')"
   ]
  },
  {
   "cell_type": "code",
   "execution_count": 16,
   "id": "e7812054-0962-414a-bf30-6609c604a4c7",
   "metadata": {},
   "outputs": [
    {
     "data": {
      "text/plain": [
       "1.0"
      ]
     },
     "execution_count": 16,
     "metadata": {},
     "output_type": "execute_result"
    }
   ],
   "source": [
    "# 4\n",
    "ndcg(ys_true, ys_pred, 'exp2')"
   ]
  },
  {
   "cell_type": "code",
   "execution_count": 17,
   "id": "dbd7a9b1-46f7-4930-a536-ab10af69e38c",
   "metadata": {},
   "outputs": [
    {
     "data": {
      "text/plain": [
       "1.0"
      ]
     },
     "execution_count": 17,
     "metadata": {},
     "output_type": "execute_result"
    }
   ],
   "source": [
    "# 4\n",
    "ndcg(ys_true, ys_pred, 'const')"
   ]
  },
  {
   "cell_type": "code",
   "execution_count": 18,
   "id": "6189e7a5-40a4-4fbe-9ae5-74e7955cb559",
   "metadata": {},
   "outputs": [
    {
     "data": {
      "text/plain": [
       "1.0"
      ]
     },
     "execution_count": 18,
     "metadata": {},
     "output_type": "execute_result"
    }
   ],
   "source": [
    "# 5\n",
    "precission_at_k(ys_true, ys_pred, 10)"
   ]
  },
  {
   "cell_type": "code",
   "execution_count": 19,
   "id": "5cd2834b-f5b8-4ced-a8f5-d07b9341dfdb",
   "metadata": {},
   "outputs": [
    {
     "data": {
      "text/plain": [
       "1.0"
      ]
     },
     "execution_count": 19,
     "metadata": {},
     "output_type": "execute_result"
    }
   ],
   "source": [
    "# 6\n",
    "p_found(ys_true, ys_pred)"
   ]
  },
  {
   "cell_type": "code",
   "execution_count": 20,
   "id": "f5b4f40f-c485-4866-a2f2-054c481d4964",
   "metadata": {},
   "outputs": [
    {
     "data": {
      "text/plain": [
       "1.0"
      ]
     },
     "execution_count": 20,
     "metadata": {},
     "output_type": "execute_result"
    }
   ],
   "source": [
    "# 7 \n",
    "average_precision(ys_true, ys_pred)"
   ]
  },
  {
   "cell_type": "code",
   "execution_count": null,
   "id": "8aff21cf-6e9f-486b-bf52-85e1cf2c3ca1",
   "metadata": {},
   "outputs": [],
   "source": []
  },
  {
   "cell_type": "code",
   "execution_count": null,
   "id": "bcf1a8b2-7255-40a2-bb80-989069b7fa32",
   "metadata": {},
   "outputs": [],
   "source": []
  }
 ],
 "metadata": {
  "kernelspec": {
   "display_name": "Python 3 (ipykernel)",
   "language": "python",
   "name": "python3"
  },
  "language_info": {
   "codemirror_mode": {
    "name": "ipython",
    "version": 3
   },
   "file_extension": ".py",
   "mimetype": "text/x-python",
   "name": "python",
   "nbconvert_exporter": "python",
   "pygments_lexer": "ipython3",
   "version": "3.8.10"
  }
 },
 "nbformat": 4,
 "nbformat_minor": 5
}
