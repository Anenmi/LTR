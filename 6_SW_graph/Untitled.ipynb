{
 "cells": [
  {
   "cell_type": "code",
   "execution_count": 1,
   "id": "127d1d0b-a4ab-4374-8134-4a28e4810d54",
   "metadata": {},
   "outputs": [],
   "source": [
    "import numpy as np\n",
    "a = np.array([1, 1])"
   ]
  },
  {
   "cell_type": "code",
   "execution_count": 3,
   "id": "49aa19e4-33a2-4735-a7d4-f0a341167459",
   "metadata": {},
   "outputs": [],
   "source": [
    "b = np.concatenate([np.random.rand(14,2)])"
   ]
  },
  {
   "cell_type": "code",
   "execution_count": 89,
   "id": "fa4c46b9-645f-48a4-b0de-331d26c854f7",
   "metadata": {},
   "outputs": [
    {
     "data": {
      "text/plain": [
       "array([0.63557112, 0.69121926, 1.07529218, 1.11459708, 1.10697105,\n",
       "       1.11142313, 1.16092606, 0.37838278, 0.20970306, 0.53279204,\n",
       "       0.26685408, 0.15579975, 0.55003828, 0.92917004])"
      ]
     },
     "execution_count": 89,
     "metadata": {},
     "output_type": "execute_result"
    }
   ],
   "source": [
    "np.linalg.norm(a-b, axis=1)"
   ]
  },
  {
   "cell_type": "code",
   "execution_count": 38,
   "id": "b091e246-fbec-46c1-8145-56efc7229315",
   "metadata": {},
   "outputs": [
    {
     "ename": "ValueError",
     "evalue": "either both or neither of x and y should be given",
     "output_type": "error",
     "traceback": [
      "\u001b[0;31m---------------------------------------------------------------------------\u001b[0m",
      "\u001b[0;31mValueError\u001b[0m                                Traceback (most recent call last)",
      "Input \u001b[0;32mIn [38]\u001b[0m, in \u001b[0;36m<module>\u001b[0;34m\u001b[0m\n\u001b[0;32m----> 1\u001b[0m \u001b[43mnp\u001b[49m\u001b[38;5;241;43m.\u001b[39;49m\u001b[43mwhere\u001b[49m\u001b[43m(\u001b[49m\u001b[43mnp\u001b[49m\u001b[38;5;241;43m.\u001b[39;49m\u001b[43margsort\u001b[49m\u001b[43m(\u001b[49m\u001b[43mdistances\u001b[49m\u001b[43m,\u001b[49m\u001b[43m \u001b[49m\u001b[43maxis\u001b[49m\u001b[38;5;241;43m=\u001b[39;49m\u001b[38;5;241;43m0\u001b[39;49m\u001b[43m)\u001b[49m\u001b[38;5;241;43m!=\u001b[39;49m\u001b[43mi\u001b[49m\u001b[43m,\u001b[49m\u001b[43m \u001b[49m\u001b[43mnp\u001b[49m\u001b[38;5;241;43m.\u001b[39;49m\u001b[43margsort\u001b[49m\u001b[43m(\u001b[49m\u001b[43mdistances\u001b[49m\u001b[43m,\u001b[49m\u001b[43m \u001b[49m\u001b[43maxis\u001b[49m\u001b[38;5;241;43m=\u001b[39;49m\u001b[38;5;241;43m0\u001b[39;49m\u001b[43m)\u001b[49m\u001b[43m)\u001b[49m\n",
      "File \u001b[0;32m<__array_function__ internals>:5\u001b[0m, in \u001b[0;36mwhere\u001b[0;34m(*args, **kwargs)\u001b[0m\n",
      "\u001b[0;31mValueError\u001b[0m: either both or neither of x and y should be given"
     ]
    }
   ],
   "source": [
    "np.where(np.argsort(distances, axis=0)!=i, np.argsort(distances, axis=0))"
   ]
  },
  {
   "cell_type": "code",
   "execution_count": 73,
   "id": "ab7f5cfb-0063-42c7-917a-4a2ce7ae916a",
   "metadata": {},
   "outputs": [
    {
     "name": "stdout",
     "output_type": "stream",
     "text": [
      "The autoreload extension is already loaded. To reload it, use:\n",
      "  %reload_ext autoreload\n"
     ]
    }
   ],
   "source": [
    "from solution_template import *\n",
    "%load_ext autoreload\n",
    "%autoreload 2"
   ]
  },
  {
   "cell_type": "code",
   "execution_count": 74,
   "id": "b5cdfe50-1517-48b9-b6e3-cc61b044ae60",
   "metadata": {},
   "outputs": [],
   "source": [
    "from solution_template import *\n",
    "%load_ext autoreload\n",
    "%autoreload 2\n",
    "data = np.concatenate([np.array([[0,0], [1,1], [1,2], [2,1], [3,1], [3,3], [3,-1]]), np.random.rand(14,2)])"
   ]
  },
  {
   "cell_type": "code",
   "execution_count": 75,
   "id": "09de1508-c86d-46f6-a963-f203a0ebc396",
   "metadata": {},
   "outputs": [],
   "source": [
    "num_candidates_for_choice_long = 10\n",
    "num_edges_long = 5\n",
    "num_candidates_for_choice_short = 10\n",
    "num_edges_short = 5"
   ]
  },
  {
   "cell_type": "code",
   "execution_count": 51,
   "id": "40be5f4c-17f6-43b2-ac9d-f310b3455d57",
   "metadata": {},
   "outputs": [],
   "source": [
    "result = {}\n",
    "for i, point in enumerate(data): \n",
    "    distances = distance(point, data)\n",
    "    candidates = np.argsort(distances, axis=0)\n",
    "\n",
    "    candidates_long = candidates[-num_candidates_for_choice_long:]\n",
    "    edges_long = candidates_long[np.random.choice(num_candidates_for_choice_long, num_edges_long)]\n",
    "    #edges_long = np.unique(edges_long)\n",
    "\n",
    "    candidates_short = candidates[candidates != i][:num_candidates_for_choice_short]\n",
    "    edges_short = candidates_short[np.random.choice(num_candidates_for_choice_short, num_edges_short)]\n",
    "    #edges_short = np.unique(edges_short)\n",
    "\n",
    "    candidates = np.concatenate([edges_long.flatten(), edges_short.flatten()]).tolist()\n",
    "\n",
    "    result[i] = candidates"
   ]
  },
  {
   "cell_type": "code",
   "execution_count": 60,
   "id": "b274afbd-ec11-4fd8-b046-f14eee04c9ce",
   "metadata": {},
   "outputs": [],
   "source": [
    "i = 8\n",
    "point = data[8]\n",
    "distances = distance(point, data)\n",
    "candidates = np.argsort(distances, axis=0)\n",
    "\n",
    "candidates_long = candidates[-num_candidates_for_choice_long:]\n",
    "edges_long = candidates_long[np.random.choice(num_candidates_for_choice_long, num_edges_long)]\n",
    "#edges_long = np.unique(edges_long)\n",
    "\n",
    "candidates_short = candidates[candidates != i][:num_candidates_for_choice_short]\n",
    "edges_short = candidates_short[np.random.choice(num_candidates_for_choice_short, num_edges_short)]\n",
    "#edges_short = np.unique(edges_short)\n",
    "\n",
    "candidates = np.concatenate([edges_long.flatten(), edges_short.flatten()]).tolist()"
   ]
  },
  {
   "cell_type": "code",
   "execution_count": 58,
   "id": "0ddbe927-fa99-4e6a-a550-da806234015a",
   "metadata": {},
   "outputs": [
    {
     "data": {
      "text/plain": [
       "[6, 1, 0, 15, 4, 9, 16, 16, 14, 10]"
      ]
     },
     "execution_count": 58,
     "metadata": {},
     "output_type": "execute_result"
    }
   ],
   "source": [
    "candidates[:num_candidates_for_choice_short]"
   ]
  },
  {
   "cell_type": "code",
   "execution_count": 102,
   "id": "3a8ee1e1-db9f-46ce-ba6d-795ca060eb81",
   "metadata": {},
   "outputs": [
    {
     "data": {
      "text/plain": [
       "array([ 1, 12, 15,  5, 11])"
      ]
     },
     "execution_count": 102,
     "metadata": {},
     "output_type": "execute_result"
    }
   ],
   "source": [
    "np.random.choice(all_documents.shape[0], 5, replace=False)"
   ]
  },
  {
   "cell_type": "code",
   "execution_count": 106,
   "id": "72962aa7-c12b-434a-8832-4e261f971ae2",
   "metadata": {},
   "outputs": [
    {
     "data": {
      "text/plain": [
       "[1, 2, 3, 3, 4]"
      ]
     },
     "execution_count": 106,
     "metadata": {},
     "output_type": "execute_result"
    }
   ],
   "source": [
    "p = [1,2,3]\n",
    "p+[3,4]"
   ]
  },
  {
   "cell_type": "code",
   "execution_count": 105,
   "id": "a446ed98-12ee-4cc0-b0bb-23e49ed70440",
   "metadata": {},
   "outputs": [
    {
     "data": {
      "text/plain": [
       "[1, 2, 3, [3, 4]]"
      ]
     },
     "execution_count": 105,
     "metadata": {},
     "output_type": "execute_result"
    }
   ],
   "source": [
    "p"
   ]
  },
  {
   "cell_type": "code",
   "execution_count": 30,
   "id": "496f0314-3fd1-44c0-924a-802648cd9ce1",
   "metadata": {},
   "outputs": [
    {
     "ename": "ValueError",
     "evalue": "list.remove(x): x not in list",
     "output_type": "error",
     "traceback": [
      "\u001b[0;31m---------------------------------------------------------------------------\u001b[0m",
      "\u001b[0;31mValueError\u001b[0m                                Traceback (most recent call last)",
      "Input \u001b[0;32mIn [30]\u001b[0m, in \u001b[0;36m<module>\u001b[0;34m\u001b[0m\n\u001b[1;32m      1\u001b[0m l \u001b[38;5;241m=\u001b[39m [\u001b[38;5;241m1\u001b[39m, \u001b[38;5;241m2\u001b[39m, \u001b[38;5;241m3\u001b[39m, \u001b[38;5;241m4\u001b[39m, \u001b[38;5;241m6\u001b[39m, \u001b[38;5;241m7\u001b[39m, \u001b[38;5;241m10\u001b[39m, \u001b[38;5;241m17\u001b[39m]\n\u001b[0;32m----> 2\u001b[0m \u001b[43ml\u001b[49m\u001b[38;5;241;43m.\u001b[39;49m\u001b[43mremove\u001b[49m\u001b[43m(\u001b[49m\u001b[38;5;241;43m5\u001b[39;49m\u001b[43m)\u001b[49m\n",
      "\u001b[0;31mValueError\u001b[0m: list.remove(x): x not in list"
     ]
    }
   ],
   "source": [
    "l = [1, 2, 3, 4, 6, 7, 10, 17]\n",
    "l.remove(5)"
   ]
  },
  {
   "cell_type": "code",
   "execution_count": 5,
   "id": "fc8f7c7a-a5de-4d1d-95b1-b264e7b5af2c",
   "metadata": {},
   "outputs": [
    {
     "data": {
      "text/plain": [
       "{0: [2, 3, 5, 7, 10, 12, 14, 15, 17, 20],\n",
       " 1: [2, 3, 5, 6, 10, 11, 13, 16, 17, 20],\n",
       " 2: [0, 3, 4, 5, 6, 12, 13, 16, 17, 18],\n",
       " 3: [1, 2, 5, 6, 7, 8, 11, 13, 15, 20],\n",
       " 4: [0, 2, 3, 6, 7, 8, 13, 15, 18, 20],\n",
       " 5: [1, 3, 6, 7, 8, 12, 13, 14, 15, 20],\n",
       " 6: [0, 5, 10, 11, 12, 15, 16, 17, 19, 20],\n",
       " 7: [0, 1, 2, 8, 9, 13, 14, 15, 16, 17],\n",
       " 8: [1, 2, 4, 7, 10, 11, 12, 14, 16, 17],\n",
       " 9: [0, 1, 3, 4, 7, 8, 12, 17, 19, 20],\n",
       " 10: [0, 1, 2, 5, 8, 9, 15, 16, 18, 20],\n",
       " 11: [1, 3, 4, 6, 8, 10, 14, 15, 18, 19],\n",
       " 12: [0, 1, 3, 5, 7, 9, 13, 14, 16, 19],\n",
       " 13: [5, 6, 8, 9, 11, 12, 16, 18, 19, 20],\n",
       " 14: [2, 3, 6, 7, 8, 9, 11, 12, 15, 18],\n",
       " 15: [1, 2, 3, 4, 6, 10, 11, 12, 14, 19],\n",
       " 16: [0, 4, 5, 8, 9, 10, 12, 14, 17, 18],\n",
       " 17: [0, 1, 2, 3, 9, 10, 12, 15, 18, 19],\n",
       " 18: [0, 1, 2, 4, 9, 10, 11, 13, 15, 19],\n",
       " 19: [0, 2, 3, 7, 8, 11, 13, 14, 17, 18],\n",
       " 20: [0, 1, 4, 7, 13, 14, 16, 17, 18, 19]}"
      ]
     },
     "execution_count": 5,
     "metadata": {},
     "output_type": "execute_result"
    }
   ],
   "source": [
    "create_sw_graph(data)"
   ]
  },
  {
   "cell_type": "code",
   "execution_count": 78,
   "id": "66ce5176-74be-4e66-bca4-067bad843f56",
   "metadata": {},
   "outputs": [],
   "source": [
    "from solution_template import *\n",
    "%load_ext autoreload\n",
    "%autoreload 2\n",
    "data = np.concatenate([np.array([[0,0], [1,1], [1,2], [2,1], [3,1], [3,3], [3,-1]]), np.random.rand(14,2)])\n",
    "\n",
    "query_point = np.array([1,1])\n",
    "\n",
    "all_documents = data\n",
    "\n",
    "graph_edges = create_sw_graph(data)"
   ]
  },
  {
   "cell_type": "code",
   "execution_count": 9,
   "id": "2b30b080-9f53-4720-abd1-865f45e95476",
   "metadata": {},
   "outputs": [],
   "source": [
    "search_k= 10\n",
    "num_start_points= 5"
   ]
  },
  {
   "cell_type": "code",
   "execution_count": 100,
   "id": "058398f6-7f76-4d9e-8bc7-1dbdb785e31a",
   "metadata": {},
   "outputs": [
    {
     "data": {
      "text/plain": [
       "[2, 3]"
      ]
     },
     "execution_count": 100,
     "metadata": {},
     "output_type": "execute_result"
    }
   ],
   "source": [
    "k_neighbors = set()\n",
    "for i in range(num_start_points):\n",
    "    #print('new',i)\n",
    "    entry_point = np.random.choice(all_documents.shape[0], 1)[0]\n",
    "    #print(entry_point)\n",
    "    new_point = entry_point\n",
    "    prev_point=-1\n",
    "    #candidates = []\n",
    "    while prev_point!=new_point:\n",
    "        point_edges = graph_edges[new_point]\n",
    "        distances = distance(query_point, data[point_edges])\n",
    "        prev_point = new_point\n",
    "        new_point = entry_point_edges[np.argmin(distances)]\n",
    "        #print(new_point)\n",
    "        #candidates.append(new_point)\n",
    "        \n",
    "        #print(candidates)\n",
    "    k_neighbors.add(new_point)\n",
    "\n",
    "k_neighbors = list(k_neighbors)\n",
    "distances = distance(query_point, data[k_neighbors])\n",
    "k_neighbors_idx = np.argsort(distances, axis=0)[:search_k]#.flatten().tolist()\n",
    "\n",
    "[k_neighbors[i[0]] for i in k_neighbors_idx]\n",
    "#k_neighbors[k_neighbors_idx]"
   ]
  },
  {
   "cell_type": "code",
   "execution_count": 101,
   "id": "b1120d62-c5a7-4a35-891e-d29913ae6246",
   "metadata": {},
   "outputs": [
    {
     "data": {
      "text/plain": [
       "2"
      ]
     },
     "execution_count": 101,
     "metadata": {},
     "output_type": "execute_result"
    }
   ],
   "source": [
    "len(k_neighbors)"
   ]
  },
  {
   "cell_type": "code",
   "execution_count": 44,
   "id": "efdc785f-ea75-4207-b4ef-c86a3441f6f3",
   "metadata": {},
   "outputs": [],
   "source": [
    "new_point = entry_point_edges[np.argmin(distances)]\n",
    "new_point_edges = graph_edges[new_point]\n",
    "new_point_distances = distance(query_point, data[new_point_edges])"
   ]
  },
  {
   "cell_type": "code",
   "execution_count": 45,
   "id": "5865369b-6adc-430e-9822-4f933e0023bb",
   "metadata": {},
   "outputs": [
    {
     "data": {
      "text/plain": [
       "array([[1.41421356],\n",
       "       [0.        ],\n",
       "       [1.        ],\n",
       "       [2.82842712],\n",
       "       [1.32148394],\n",
       "       [0.32803136],\n",
       "       [0.43967611],\n",
       "       [1.02699314],\n",
       "       [0.54295864],\n",
       "       [1.32992921]])"
      ]
     },
     "execution_count": 45,
     "metadata": {},
     "output_type": "execute_result"
    }
   ],
   "source": [
    "new_point_distances"
   ]
  },
  {
   "cell_type": "code",
   "execution_count": 35,
   "id": "a36d31cf-0a4d-4bdc-a467-a1d142dc2e00",
   "metadata": {},
   "outputs": [
    {
     "data": {
      "text/plain": [
       "[2, 3, 4, 7, 8, 9, 11, 12, 14, 19]"
      ]
     },
     "execution_count": 35,
     "metadata": {},
     "output_type": "execute_result"
    }
   ],
   "source": [
    "entry_point_edges"
   ]
  },
  {
   "cell_type": "code",
   "execution_count": 39,
   "id": "819ffc90-9add-4c89-9fe7-ffa90ff7782b",
   "metadata": {},
   "outputs": [
    {
     "data": {
      "text/plain": [
       "array([0.51397018, 0.81289766])"
      ]
     },
     "execution_count": 40,
     "metadata": {},
     "output_type": "execute_result"
    }
   ],
   "source": [
    "data[new_point][:, np.newaxis]"
   ]
  },
  {
   "cell_type": "code",
   "execution_count": null,
   "id": "2f7b2d9a-66a6-45a3-9397-9657ee3cf8b7",
   "metadata": {},
   "outputs": [],
   "source": []
  },
  {
   "cell_type": "code",
   "execution_count": 95,
   "id": "9feb3cc6-8070-4a90-9a14-82c0625a5667",
   "metadata": {},
   "outputs": [
    {
     "data": {
      "text/plain": [
       "array([[0.        ],\n",
       "       [0.1617946 ],\n",
       "       [0.1831922 ],\n",
       "       [0.23924253],\n",
       "       [0.25145912],\n",
       "       [0.29648633],\n",
       "       [0.47138888],\n",
       "       [0.49596236],\n",
       "       [0.51434038],\n",
       "       [0.52503103],\n",
       "       [0.59179443],\n",
       "       [0.7212111 ],\n",
       "       [0.77449469],\n",
       "       [0.78419802]])"
      ]
     },
     "execution_count": 95,
     "metadata": {},
     "output_type": "execute_result"
    }
   ],
   "source": [
    "np.sort(distances, axis=0)[-4:]"
   ]
  },
  {
   "cell_type": "code",
   "execution_count": 98,
   "id": "e1d33cad-f05a-4ff2-b71c-aa3519b40a6c",
   "metadata": {},
   "outputs": [
    {
     "data": {
      "text/plain": [
       "array([[0.1617946 ],\n",
       "       [0.1831922 ],\n",
       "       [0.23924253]])"
      ]
     },
     "execution_count": 98,
     "metadata": {},
     "output_type": "execute_result"
    }
   ],
   "source": [
    "np.sort(distances, axis=0)[:4][1:]"
   ]
  },
  {
   "cell_type": "code",
   "execution_count": 62,
   "id": "e178dd57-554f-461c-84d9-98affd56ab10",
   "metadata": {},
   "outputs": [
    {
     "data": {
      "text/plain": [
       "{0: [2, 5, 7, 9, 11, 15],\n",
       " 1: [1, 2, 4, 5, 8, 11, 14, 16],\n",
       " 2: [2, 3, 4, 5, 6, 7, 10],\n",
       " 3: [0, 2, 3, 5, 6, 7, 9],\n",
       " 4: [1, 2, 5, 7, 8, 11, 12],\n",
       " 5: [4, 8, 11, 12, 16],\n",
       " 6: [2, 3, 5, 6, 9, 11, 16],\n",
       " 7: [4, 5, 6, 7, 10, 15],\n",
       " 8: [1, 2, 5, 7, 8, 14, 16],\n",
       " 9: [0, 2, 3, 9, 10, 11],\n",
       " 10: [0, 2, 3, 7, 9, 10],\n",
       " 11: [8, 13, 6, 7],\n",
       " 12: [4, 5, 6, 8, 10, 11, 12, 16],\n",
       " 13: [1, 4, 5, 7, 13, 14, 16],\n",
       " 14: [2, 4, 8, 11, 13, 14],\n",
       " 15: [8, 9, 11, 15],\n",
       " 16: [2, 5, 7, 8, 11, 12, 16]}"
      ]
     },
     "execution_count": 62,
     "metadata": {},
     "output_type": "execute_result"
    }
   ],
   "source": [
    "result"
   ]
  },
  {
   "cell_type": "code",
   "execution_count": 63,
   "id": "c0f4a83d-5fa9-4805-9926-e8093cb501ea",
   "metadata": {},
   "outputs": [
    {
     "data": {
      "text/plain": [
       "{0: [0, 3, 5, 7, 9, 11],\n",
       " 1: [1, 2, 5, 8, 11, 12, 14],\n",
       " 2: [5, 6, 7, 8, 12, 13, 15],\n",
       " 3: [0, 5, 6, 7, 9, 15],\n",
       " 4: [2, 4, 5, 8, 11, 14, 16],\n",
       " 5: [5, 6, 7, 8, 11, 12, 13, 15],\n",
       " 6: [2, 5, 7, 10, 11, 15],\n",
       " 7: [2, 5, 6, 11, 15, 16],\n",
       " 8: [2, 4, 7, 12, 13, 14, 16],\n",
       " 9: [0, 2, 9, 10, 11, 15],\n",
       " 10: [0, 2, 5, 7, 9, 15],\n",
       " 11: [2, 5, 7, 8, 11, 12, 15],\n",
       " 12: [2, 5, 7, 12, 16],\n",
       " 13: [2, 4, 5, 11, 16],\n",
       " 14: [2, 4, 5, 8, 11, 12, 14],\n",
       " 15: [5, 9, 10, 11, 15, 16],\n",
       " 16: [2, 4, 5, 7, 8, 11, 13]}"
      ]
     },
     "execution_count": 63,
     "metadata": {},
     "output_type": "execute_result"
    }
   ],
   "source": [
    "create_sw_graph(d)"
   ]
  },
  {
   "cell_type": "code",
   "execution_count": 26,
   "id": "548b4dff-d09e-4080-bec6-cc2c80783169",
   "metadata": {},
   "outputs": [
    {
     "data": {
      "text/plain": [
       "array([[0.        ],\n",
       "       [0.28074532],\n",
       "       [0.31660972],\n",
       "       [0.35692959],\n",
       "       [0.53173035],\n",
       "       [0.63162659],\n",
       "       [0.7432584 ],\n",
       "       [0.77006846],\n",
       "       [0.790732  ],\n",
       "       [0.79639358]])"
      ]
     },
     "execution_count": 26,
     "metadata": {},
     "output_type": "execute_result"
    }
   ],
   "source": [
    "np.sort(data, axis=0)[:num_candidates_for_choice_long]"
   ]
  },
  {
   "cell_type": "code",
   "execution_count": 29,
   "id": "d3fba03e-9ac3-4d6d-9df3-cc63780d0507",
   "metadata": {},
   "outputs": [
    {
     "data": {
      "text/plain": [
       "array([[ 0],\n",
       "       [ 9],\n",
       "       [ 3],\n",
       "       [10],\n",
       "       [ 6],\n",
       "       [15],\n",
       "       [ 7],\n",
       "       [ 2],\n",
       "       [11],\n",
       "       [ 5]])"
      ]
     },
     "execution_count": 29,
     "metadata": {},
     "output_type": "execute_result"
    }
   ],
   "source": [
    "candidates_long = np.argsort(data, axis=0)[:num_candidates_for_choice_long]\n",
    "candidates_long"
   ]
  },
  {
   "cell_type": "code",
   "execution_count": 33,
   "id": "b3716422-8e6a-40df-8247-62b2656cce1b",
   "metadata": {},
   "outputs": [
    {
     "data": {
      "text/plain": [
       "array([[ 7],\n",
       "       [ 9],\n",
       "       [ 7],\n",
       "       [11],\n",
       "       [ 5]])"
      ]
     },
     "execution_count": 33,
     "metadata": {},
     "output_type": "execute_result"
    }
   ],
   "source": [
    "edges_long = candidates_long[np.random.choice(num_candidates_for_choice_long, num_edges_long)]\n",
    "edges_long"
   ]
  },
  {
   "cell_type": "code",
   "execution_count": 50,
   "id": "723f0caa-4985-445c-a6ca-81891521aa52",
   "metadata": {},
   "outputs": [
    {
     "name": "stdout",
     "output_type": "stream",
     "text": [
      "new 0\n",
      "19\n",
      "[19, 15, 1, 1] [15, 1]\n",
      "new 1\n",
      "2\n",
      "[2, 1, 1] [2, 1]\n",
      "new 2\n",
      "18\n",
      "[18, 1, 1] [18, 1]\n",
      "new 3\n",
      "13\n",
      "[13, 1, 1] [13, 1]\n",
      "new 4\n",
      "9\n",
      "[9, 1, 1] [9, 1]\n"
     ]
    }
   ],
   "source": [
    "k_neighbors = []\n",
    "entry_points = np.random.choice(all_documents.shape[0], num_start_points, replace=False)\n",
    "for i in range(num_start_points):\n",
    "    print('new',i)\n",
    "    entry_point = entry_points[i]\n",
    "    print(entry_point)\n",
    "    new_point = entry_point\n",
    "    prev_point=-1\n",
    "    candidates = [new_point]\n",
    "    while prev_point!=new_point:\n",
    "        #print(candidates)\n",
    "        point_edges = graph_edges[new_point]\n",
    "        #print(point_edges + [new_point])\n",
    "        distances = distance(query_point, all_documents[point_edges + [new_point]])\n",
    "        prev_point = new_point\n",
    "        new_point = (point_edges + [new_point])[np.argmin(distances)]\n",
    "        #print(new_point)\n",
    "        candidates.append(new_point)\n",
    "\n",
    "        #print(candidates)\n",
    "    print(candidates, candidates[-3:-1])\n",
    "    k_neighbors+=candidates[-3:-1]\n",
    "    #print(k_neighbors)"
   ]
  },
  {
   "cell_type": "code",
   "execution_count": 53,
   "id": "e6d6cca6-f264-4008-b885-6378b9ba1d85",
   "metadata": {},
   "outputs": [
    {
     "ename": "ValueError",
     "evalue": "operands could not be broadcast together with shapes (3,) (2,) ",
     "output_type": "error",
     "traceback": [
      "\u001b[0;31m---------------------------------------------------------------------------\u001b[0m",
      "\u001b[0;31mValueError\u001b[0m                                Traceback (most recent call last)",
      "Input \u001b[0;32mIn [53]\u001b[0m, in \u001b[0;36m<module>\u001b[0;34m\u001b[0m\n\u001b[0;32m----> 1\u001b[0m \u001b[43mnp\u001b[49m\u001b[38;5;241;43m.\u001b[39;49m\u001b[43marray\u001b[49m\u001b[43m(\u001b[49m\u001b[43m[\u001b[49m\u001b[38;5;241;43m1\u001b[39;49m\u001b[43m,\u001b[49m\u001b[38;5;241;43m2\u001b[39;49m\u001b[43m,\u001b[49m\u001b[38;5;241;43m3\u001b[39;49m\u001b[43m]\u001b[49m\u001b[43m)\u001b[49m\u001b[43m \u001b[49m\u001b[38;5;241;43m+\u001b[39;49m\u001b[43m \u001b[49m\u001b[43mnp\u001b[49m\u001b[38;5;241;43m.\u001b[39;49m\u001b[43marray\u001b[49m\u001b[43m(\u001b[49m\u001b[43m[\u001b[49m\u001b[38;5;241;43m5\u001b[39;49m\u001b[43m,\u001b[49m\u001b[38;5;241;43m6\u001b[39;49m\u001b[43m]\u001b[49m\u001b[43m)\u001b[49m\n",
      "\u001b[0;31mValueError\u001b[0m: operands could not be broadcast together with shapes (3,) (2,) "
     ]
    }
   ],
   "source": [
    "np.array([1,2,3]) + np.array([5,6])"
   ]
  },
  {
   "cell_type": "code",
   "execution_count": 19,
   "id": "78ecbc90-e4e4-4b50-993d-0937c1b3a22d",
   "metadata": {},
   "outputs": [],
   "source": [
    "i=0\n",
    "entry_point = entry_points[i]\n",
    "entry_point\n",
    "new_point = entry_point"
   ]
  },
  {
   "cell_type": "code",
   "execution_count": 22,
   "id": "716e119c-21ee-42ea-a6e2-5bd7b96342f1",
   "metadata": {},
   "outputs": [],
   "source": [
    "candidates = []"
   ]
  },
  {
   "cell_type": "code",
   "execution_count": 34,
   "id": "abab11e6-6760-43c0-8da1-e3cbd65e7d31",
   "metadata": {},
   "outputs": [],
   "source": [
    "point_edges = graph_edges[new_point]\n",
    "distances = distance(query_point, all_documents[point_edges])\n",
    "prev_point = new_point\n",
    "new_point = point_edges[np.argmin(distances)]\n",
    "candidates.append(new_point)"
   ]
  },
  {
   "cell_type": "code",
   "execution_count": 37,
   "id": "ee4f99ba-6320-41d6-9c38-4d290587ce3c",
   "metadata": {},
   "outputs": [
    {
     "data": {
      "text/plain": [
       "[15, 1, 17, 20, 1, 17, 20, 20]"
      ]
     },
     "execution_count": 37,
     "metadata": {},
     "output_type": "execute_result"
    }
   ],
   "source": [
    "candidates + [new_point]"
   ]
  },
  {
   "cell_type": "code",
   "execution_count": 36,
   "id": "36eb65be-0cd0-48a3-a64d-31a666df4a64",
   "metadata": {},
   "outputs": [
    {
     "data": {
      "text/plain": [
       "[2, 3, 9, 10, 11, 12, 13, 16, 19, 20]"
      ]
     },
     "execution_count": 36,
     "metadata": {},
     "output_type": "execute_result"
    }
   ],
   "source": [
    "point_edges"
   ]
  },
  {
   "cell_type": "code",
   "execution_count": 79,
   "id": "05c84ec0-efa5-4d70-8dc2-23a282f4ff19",
   "metadata": {},
   "outputs": [
    {
     "name": "stdout",
     "output_type": "stream",
     "text": [
      "[14]\n",
      "[14, 1]\n",
      "[14, 1] \n",
      "_______________\n",
      "[5]\n",
      "[5, 16]\n",
      "[5, 16, 8]\n",
      "[14, 1, 5, 16, 8] \n",
      "_______________\n",
      "[13]\n",
      "[13, 15]\n",
      "[13, 15, 10]\n",
      "[14, 1, 5, 16, 8, 13, 15, 10] \n",
      "_______________\n",
      "[20]\n",
      "[20, 17]\n",
      "[14, 1, 5, 16, 8, 13, 15, 10, 20, 17] \n",
      "_______________\n",
      "[7]\n",
      "[7, 19]\n",
      "[14, 1, 5, 16, 8, 13, 15, 10, 20, 17, 7, 19] \n",
      "_______________\n"
     ]
    },
    {
     "data": {
      "text/plain": [
       "[1, 8, 10, 16, 15, 17, 19, 20, 14, 7]"
      ]
     },
     "execution_count": 79,
     "metadata": {},
     "output_type": "execute_result"
    }
   ],
   "source": [
    "nsw(query_point, all_documents, graph_edges)"
   ]
  },
  {
   "cell_type": "code",
   "execution_count": null,
   "id": "6a1e5303-49b3-447d-b1ae-83584606b4bb",
   "metadata": {},
   "outputs": [],
   "source": []
  },
  {
   "cell_type": "code",
   "execution_count": null,
   "id": "c9322d22-e56a-4556-a52b-72a2476d3f79",
   "metadata": {},
   "outputs": [],
   "source": [
    "query_point"
   ]
  },
  {
   "cell_type": "code",
   "execution_count": null,
   "id": "32156259-470a-4858-b1c4-92672d8f0ffd",
   "metadata": {},
   "outputs": [],
   "source": []
  },
  {
   "cell_type": "code",
   "execution_count": 56,
   "id": "8063cdcf-69f4-4c0d-a395-49d71c67063d",
   "metadata": {},
   "outputs": [],
   "source": [
    "def nsw(query_point: np.ndarray, all_documents: np.ndarray, \n",
    "        graph_edges: Dict[int, List[int]],\n",
    "        search_k: int = 10, num_start_points: int = 5,\n",
    "        dist_f: Callable = distance) -> np.ndarray:\n",
    "    # допишите ваш код здесь \n",
    "    k_neighbors = []\n",
    "    entry_points = np.random.choice(all_documents.shape[0], num_start_points, replace=False)\n",
    "    for i in range(num_start_points):\n",
    "        #print('new',i)\n",
    "        entry_point = entry_points[i]\n",
    "        #print(entry_point)\n",
    "        new_point = entry_point\n",
    "        prev_point=-1\n",
    "        candidates = [new_point]\n",
    "        while prev_point!=new_point:\n",
    "            print(candidates)\n",
    "            point_edges = graph_edges[new_point]\n",
    "            distances = dist_f(query_point, all_documents[point_edges + [new_point]])\n",
    "            prev_point = new_point\n",
    "            new_point = (point_edges + [new_point])[np.argmin(distances)]\n",
    "            #print(new_point)\n",
    "            candidates.append(new_point)\n",
    "\n",
    "            #print(candidates)\n",
    "        k_neighbors+=candidates[-3:-1]\n",
    "        print(k_neighbors)\n",
    "\n",
    "    k_neighbors = list(set(k_neighbors))\n",
    "    distances = dist_f(query_point, all_documents[k_neighbors])\n",
    "    k_neighbors_idx = np.argsort(distances, axis=0)[:search_k]#.flatten().tolist()\n",
    "\n",
    "    k_neighbors = [k_neighbors[i[0]] for i in k_neighbors_idx]\n",
    "    #k_neighbors[k_neighbors_idx]\n",
    "    return k_neighbors"
   ]
  },
  {
   "cell_type": "code",
   "execution_count": 63,
   "id": "e7e669cc-3057-4adc-98c0-6d69d8cf5073",
   "metadata": {},
   "outputs": [
    {
     "name": "stdout",
     "output_type": "stream",
     "text": [
      "[15]\n",
      "[15, 1]\n",
      "[15, 1]\n",
      "[11]\n",
      "[11, 20]\n",
      "[15, 1, 11, 20]\n",
      "[6]\n",
      "[6, 17]\n",
      "[15, 1, 11, 20, 6, 17]\n",
      "[16]\n",
      "[16, 10]\n",
      "[15, 1, 11, 20, 6, 17, 16, 10]\n",
      "[20]\n",
      "[15, 1, 11, 20, 6, 17, 16, 10, 20]\n"
     ]
    },
    {
     "ename": "SyntaxError",
     "evalue": "'return' outside function (147040535.py, line 31)",
     "output_type": "error",
     "traceback": [
      "\u001b[0;36m  Input \u001b[0;32mIn [63]\u001b[0;36m\u001b[0m\n\u001b[0;31m    return k_neighbors\u001b[0m\n\u001b[0m    ^\u001b[0m\n\u001b[0;31mSyntaxError\u001b[0m\u001b[0;31m:\u001b[0m 'return' outside function\n"
     ]
    }
   ],
   "source": [
    "# допишите ваш код здесь \n",
    "k_neighbors = []\n",
    "entry_points = np.random.choice(all_documents.shape[0], num_start_points, replace=False)\n",
    "for i in range(num_start_points):\n",
    "    #print('new',i)\n",
    "    entry_point = entry_points[i]\n",
    "    #print(entry_point)\n",
    "    new_point = entry_point\n",
    "    prev_point=-1\n",
    "    candidates = [new_point]\n",
    "    while prev_point!=new_point:\n",
    "        print(candidates)\n",
    "        point_edges = graph_edges[new_point]\n",
    "        point_edges = [i for i in point_edges if i not in k_neighbors]\n",
    "        distances = dist_f(query_point, all_documents[point_edges + [new_point]])\n",
    "        prev_point = new_point\n",
    "        new_point = (point_edges + [new_point])[np.argmin(distances)]\n",
    "        #print(new_point)\n",
    "        candidates.append(new_point)\n",
    "\n",
    "        #print(candidates)\n",
    "    k_neighbors+=candidates[-3:-1]\n",
    "    print(k_neighbors)\n",
    "\n",
    "k_neighbors = list(set(k_neighbors))\n",
    "distances = dist_f(query_point, all_documents[k_neighbors])\n",
    "k_neighbors_idx = np.argsort(distances, axis=0)[:search_k]#.flatten().tolist()\n",
    "\n",
    "k_neighbors = [k_neighbors[i[0]] for i in k_neighbors_idx]\n",
    "#k_neighbors[k_neighbors_idx]\n",
    "return k_neighbors"
   ]
  },
  {
   "cell_type": "code",
   "execution_count": 58,
   "id": "957686b6-f7af-46ac-8316-b75fa27f0d4f",
   "metadata": {},
   "outputs": [],
   "source": [
    "dist_f = distance"
   ]
  },
  {
   "cell_type": "code",
   "execution_count": 60,
   "id": "62f7a101-7741-48e1-a3f1-2f09585abdc3",
   "metadata": {},
   "outputs": [],
   "source": [
    "search_k = 10"
   ]
  },
  {
   "cell_type": "code",
   "execution_count": 62,
   "id": "bd6f00e9-b318-415b-a021-ead68406ae0f",
   "metadata": {},
   "outputs": [
    {
     "data": {
      "text/plain": [
       "[0, 5, 6, 8, 12, 14, 16, 17, 18, 19]"
      ]
     },
     "execution_count": 62,
     "metadata": {},
     "output_type": "execute_result"
    }
   ],
   "source": [
    "[i for i in point_edges if i not in k_neighbors]"
   ]
  },
  {
   "cell_type": "code",
   "execution_count": 70,
   "id": "8a07344e-b304-4f2a-9415-9f15d3dc7b6e",
   "metadata": {},
   "outputs": [
    {
     "data": {
      "text/plain": [
       "2"
      ]
     },
     "execution_count": 70,
     "metadata": {},
     "output_type": "execute_result"
    }
   ],
   "source": [
    "search_k // num_start_points"
   ]
  },
  {
   "cell_type": "code",
   "execution_count": 65,
   "id": "ff0bdbc1-ba31-40f4-8e13-02fe0d0b129f",
   "metadata": {},
   "outputs": [],
   "source": [
    "search_k = 13\n",
    "num_start_points = 5"
   ]
  },
  {
   "cell_type": "code",
   "execution_count": 68,
   "id": "48bf7185-0aee-4b4a-8c02-dfea3af7e19d",
   "metadata": {},
   "outputs": [
    {
     "name": "stdout",
     "output_type": "stream",
     "text": [
      "The autoreload extension is already loaded. To reload it, use:\n",
      "  %reload_ext autoreload\n"
     ]
    }
   ],
   "source": [
    "from solution_template import *\n",
    "%load_ext autoreload\n",
    "%autoreload 2\n",
    "data = np.concatenate([np.array([[0,0], [1,1], [1,2], [2,1], [3,1], [3,3], [3,-1]]), np.random.rand(10000,2)])\n",
    "\n",
    "query_point = np.array([1,1])\n",
    "\n",
    "all_documents = data\n",
    "\n",
    "graph_edges = create_sw_graph(data)"
   ]
  },
  {
   "cell_type": "code",
   "execution_count": 69,
   "id": "6717a557-1753-4d22-8342-09c93171bb0e",
   "metadata": {},
   "outputs": [
    {
     "name": "stdout",
     "output_type": "stream",
     "text": [
      "[490   1] \n",
      "_______________\n",
      "[ 490    1 3791 1717 8381] \n",
      "_______________\n",
      "[ 490    1 3791 1717 8381 2634] \n",
      "_______________\n",
      "[ 490    1 3791 1717 8381 2634 9609 3673  359] \n",
      "_______________\n",
      "[  490     1  3791  1717  8381  2634  9609  3673   359  9219  5181 10000] \n",
      "_______________\n"
     ]
    },
    {
     "data": {
      "text/plain": [
       "[1, 8381, 1717, 3791, 359, 3673, 9609, 2634, 10000, 5181]"
      ]
     },
     "execution_count": 69,
     "metadata": {},
     "output_type": "execute_result"
    }
   ],
   "source": [
    "nsw(query_point, all_documents, graph_edges)"
   ]
  },
  {
   "cell_type": "code",
   "execution_count": 79,
   "id": "73177af4-e114-41bf-9678-705a9ceb6a60",
   "metadata": {},
   "outputs": [],
   "source": [
    "def create_sw_graph(\n",
    "        data: np.ndarray,\n",
    "        num_candidates_for_choice_long: int = 10,\n",
    "        num_edges_long: int = 5,\n",
    "        num_candidates_for_choice_short: int = 10,\n",
    "        num_edges_short: int = 5,\n",
    "        use_sampling: bool = False,\n",
    "        sampling_share: float = 0.05,\n",
    "        dist_f: Callable = distance\n",
    "    ) -> Dict[int, List[int]]:\n",
    "    # допишите ваш код здесь \n",
    "    result = defaultdict()\n",
    "    for i, point in enumerate(data): \n",
    "        distances = dist_f(point, data)\n",
    "        candidates = np.argsort(distances, axis=0)\n",
    "\n",
    "        candidates_long = candidates[-num_candidates_for_choice_long:]\n",
    "        edges_long = candidates_long[np.random.choice(num_candidates_for_choice_long, num_edges_long, replace=False)]\n",
    "        #edges_long = np.unique(edges_long)\n",
    "\n",
    "        candidates_short = candidates[candidates != i][:num_candidates_for_choice_short+1]\n",
    "        candidates_short = candidates_short[candidates_short != i][:num_candidates_for_choice_short]\n",
    "        edges_short = candidates_short[np.random.choice(num_candidates_for_choice_short, num_edges_short, replace=False)]\n",
    "        #edges_short = np.unique(edges_short)\n",
    "\n",
    "        candidates = np.unique(np.concatenate([edges_long.flatten(), edges_short.flatten()])).tolist()\n",
    "\n",
    "        result[i] = candidates\n",
    "        #result[i].append(candidates)\n",
    "    return result"
   ]
  },
  {
   "cell_type": "code",
   "execution_count": 76,
   "id": "16f54d08-f6cc-48dc-a89e-015b82319793",
   "metadata": {},
   "outputs": [
    {
     "data": {
      "text/plain": [
       "defaultdict(None, {})"
      ]
     },
     "execution_count": 76,
     "metadata": {},
     "output_type": "execute_result"
    }
   ],
   "source": [
    "defaultdict()"
   ]
  },
  {
   "cell_type": "code",
   "execution_count": 113,
   "id": "c7229a71-b798-4b96-88da-c3514f897e32",
   "metadata": {},
   "outputs": [],
   "source": [
    "def nsw(query_point: np.ndarray, all_documents: np.ndarray, \n",
    "        graph_edges: Dict[int, List[int]],\n",
    "        search_k: int = 10, num_start_points: int = 5,\n",
    "        dist_f: Callable = distance) -> np.ndarray:\n",
    "    # допишите ваш код здесь \n",
    "    numb_per_point = search_k // num_start_points + 1\n",
    "    #k_neighbors = []\n",
    "    #k_neighbors = np.array([], dtype=int)\n",
    "    k_neighbors = defaultdict()\n",
    "    entry_points = np.random.choice(all_documents.shape[0], num_start_points, replace=False)\n",
    "    for i in range(num_start_points):\n",
    "        #print('new',i)\n",
    "        entry_point = entry_points[i]\n",
    "        #print(entry_point)\n",
    "        new_point = entry_point\n",
    "        prev_point=-1\n",
    "        #candidates = np.array([new_point], dtype=int)\n",
    "        candidates = {}\n",
    "        while prev_point!=new_point:\n",
    "            #print(candidates)\n",
    "            point_edges = graph_edges[new_point]\n",
    "            #point_edges = [i for i in point_edges if i not in k_neighbors]\n",
    "            distances = dist_f(query_point, all_documents[point_edges + [new_point]])\n",
    "            prev_point = new_point\n",
    "            new_point = (point_edges + [new_point])[np.argmin(distances)]\n",
    "            new_dist = np.min(distances)\n",
    "            #print(new_point)\n",
    "            #candidates.append(new_point)\n",
    "            #print(candidates)\n",
    "            #candidates = np.concatenate([candidates, np.array([new_point], dtype=int)])\n",
    "            \n",
    "            k_neighbors[new_point] = new_dist\n",
    "            #print(candidates)\n",
    "        #k_neighbors+=candidates[-1 - numb_per_point:-1]\n",
    "        #print(candidates[-1 - numb_per_point:-1])\n",
    "        #k_neighbors = np.concatenate([k_neighbors, candidates[-1 - numb_per_point:-1]])\n",
    "        #print(k_neighbors, '\\n_______________')\n",
    "\n",
    "    #k_neighbors = list(set(k_neighbors))\n",
    "    return list(dict(sorted(k_neighbors.items(), key=lambda x: x[1])[:search_k]).keys())\n",
    "#     k_neighbors = np.unique(k_neighbors.flatten()).tolist()\n",
    "#     distances = dist_f(query_point, all_documents[k_neighbors])\n",
    "#     k_neighbors_idx = np.argsort(distances, axis=0)[:search_k]#.flatten().tolist()\n",
    "\n",
    "#     k_neighbors = [k_neighbors[i[0]] for i in k_neighbors_idx]\n",
    "#     #k_neighbors[k_neighbors_idx]\n",
    "#     return k_neighbors\n"
   ]
  },
  {
   "cell_type": "code",
   "execution_count": 84,
   "id": "5c510fdb-afb7-4742-8f08-64460b45db22",
   "metadata": {},
   "outputs": [],
   "source": [
    "# %%time\n",
    "# create_sw_graph(all_documents)"
   ]
  },
  {
   "cell_type": "code",
   "execution_count": 116,
   "id": "66b0fc26-9c56-488a-8819-8bb738e3ff78",
   "metadata": {},
   "outputs": [
    {
     "name": "stdout",
     "output_type": "stream",
     "text": [
      "CPU times: user 3.66 ms, sys: 0 ns, total: 3.66 ms\n",
      "Wall time: 2.98 ms\n"
     ]
    }
   ],
   "source": [
    "%%time\n",
    "a = nsw(query_point, all_documents, graph_edges)"
   ]
  },
  {
   "cell_type": "code",
   "execution_count": 98,
   "id": "bbb1dee8-fa32-45b8-9cd5-780cec41a697",
   "metadata": {},
   "outputs": [
    {
     "data": {
      "text/plain": [
       "OrderedDict([(1, 0.0),\n",
       "             (608, 0.6578129431134905),\n",
       "             (717, 0.3590938555118491),\n",
       "             (992, 0.4338305524335377),\n",
       "             (1017, 0.262612750703719),\n",
       "             (1100, 0.2279345740410995),\n",
       "             (1103, 0.5917839452120786),\n",
       "             (1147, 0.4739897068318367),\n",
       "             (1253, 0.2892281267001507),\n",
       "             (1450, 0.005257349344286137)])"
      ]
     },
     "execution_count": 98,
     "metadata": {},
     "output_type": "execute_result"
    }
   ],
   "source": [
    "OrderedDict(sorted(a.items())[:10])"
   ]
  },
  {
   "cell_type": "code",
   "execution_count": 112,
   "id": "3957de59-2399-4ac6-ab86-dd1def6ea04a",
   "metadata": {},
   "outputs": [
    {
     "data": {
      "text/plain": [
       "[1, 1450, 4648, 4290, 2864, 5525, 6041, 1100, 5636, 2220]"
      ]
     },
     "execution_count": 112,
     "metadata": {},
     "output_type": "execute_result"
    }
   ],
   "source": [
    "list(dict(sorted(a.items(), key=lambda x: x[1])[:10]).keys())"
   ]
  },
  {
   "cell_type": "code",
   "execution_count": 28,
   "id": "10dbb854-0871-4122-b304-2032275c70df",
   "metadata": {},
   "outputs": [
    {
     "name": "stdout",
     "output_type": "stream",
     "text": [
      "[4174, 1475, 1] \n",
      "_______________\n",
      "[4174, 1475, 1, 6226, 2146, 805] \n",
      "_______________\n",
      "[4174, 1475, 1, 6226, 2146, 805, 6491, 8194] \n",
      "_______________\n",
      "[4174, 1475, 1, 6226, 2146, 805, 6491, 8194, 5637, 7380, 9875] \n",
      "_______________\n",
      "[4174, 1475, 1, 6226, 2146, 805, 6491, 8194, 5637, 7380, 9875, 8266, 6210, 2706] \n",
      "_______________\n",
      "CPU times: user 3.46 ms, sys: 107 µs, total: 3.56 ms\n",
      "Wall time: 2.93 ms\n"
     ]
    },
    {
     "data": {
      "text/plain": [
       "[1, 1475, 8194, 9875, 7380, 5637, 805, 2146, 6226, 2706]"
      ]
     },
     "execution_count": 28,
     "metadata": {},
     "output_type": "execute_result"
    }
   ],
   "source": [
    "%%time\n",
    "nsw(query_point, all_documents, graph_edges)"
   ]
  },
  {
   "cell_type": "code",
   "execution_count": 42,
   "id": "8922d365-4d14-4c17-a913-e1f8886c5843",
   "metadata": {},
   "outputs": [
    {
     "ename": "NameError",
     "evalue": "name 'k_neighbors' is not defined",
     "output_type": "error",
     "traceback": [
      "\u001b[0;31m---------------------------------------------------------------------------\u001b[0m",
      "\u001b[0;31mNameError\u001b[0m                                 Traceback (most recent call last)",
      "Input \u001b[0;32mIn [42]\u001b[0m, in \u001b[0;36m<module>\u001b[0;34m\u001b[0m\n\u001b[0;32m----> 1\u001b[0m \u001b[43mk_neighbors\u001b[49m\n",
      "\u001b[0;31mNameError\u001b[0m: name 'k_neighbors' is not defined"
     ]
    }
   ],
   "source": [
    "k_neighbors"
   ]
  },
  {
   "cell_type": "code",
   "execution_count": 45,
   "id": "bbe094cf-4670-4f58-bd3a-aba2c211719c",
   "metadata": {},
   "outputs": [
    {
     "data": {
      "text/plain": [
       "array([[0.        , 0.        ],\n",
       "       [1.        , 1.        ],\n",
       "       [1.        , 2.        ],\n",
       "       ...,\n",
       "       [0.57255137, 0.77389264],\n",
       "       [0.77965083, 0.98591934],\n",
       "       [0.78851623, 0.29600078]])"
      ]
     },
     "execution_count": 45,
     "metadata": {},
     "output_type": "execute_result"
    }
   ],
   "source": [
    "all_documents"
   ]
  },
  {
   "cell_type": "code",
   "execution_count": 37,
   "id": "1cb785d7-18ea-4087-b908-ac9c29f28e26",
   "metadata": {},
   "outputs": [
    {
     "data": {
      "text/plain": [
       "array([4, 5, 6])"
      ]
     },
     "execution_count": 37,
     "metadata": {},
     "output_type": "execute_result"
    }
   ],
   "source": [
    "np.concatenate([a,a])[1:4]"
   ]
  },
  {
   "cell_type": "code",
   "execution_count": null,
   "id": "c1adb08f-4971-47cf-9718-5f948ccc3052",
   "metadata": {},
   "outputs": [],
   "source": []
  }
 ],
 "metadata": {
  "kernelspec": {
   "display_name": "Python 3 (ipykernel)",
   "language": "python",
   "name": "python3"
  },
  "language_info": {
   "codemirror_mode": {
    "name": "ipython",
    "version": 3
   },
   "file_extension": ".py",
   "mimetype": "text/x-python",
   "name": "python",
   "nbconvert_exporter": "python",
   "pygments_lexer": "ipython3",
   "version": "3.8.10"
  }
 },
 "nbformat": 4,
 "nbformat_minor": 5
}
