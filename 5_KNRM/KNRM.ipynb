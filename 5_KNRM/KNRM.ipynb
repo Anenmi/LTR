{
 "cells": [
  {
   "cell_type": "code",
   "execution_count": 3,
   "id": "6e434930-c823-49c5-871f-421a68c9251b",
   "metadata": {},
   "outputs": [],
   "source": [
    "from solution_template import *\n",
    "%load_ext autoreload\n",
    "%autoreload 2"
   ]
  },
  {
   "cell_type": "code",
   "execution_count": 4,
   "id": "ecc418bf-cf24-4456-8cd9-b0d522280ce2",
   "metadata": {},
   "outputs": [],
   "source": [
    "entity = Solution(glue_qqp_dir='data/QQP/', \n",
    "                  glove_vectors_path='data/glove.6B.50d.txt')"
   ]
  },
  {
   "cell_type": "code",
   "execution_count": null,
   "id": "5a25b567-baca-454c-8cb8-d496ce658922",
   "metadata": {},
   "outputs": [],
   "source": [
    "#entity.create_glove_emb_from_file(file_path='data/glove.6B.50d.txt', inner_keys=entity.all_tokens, random_seed=entity.random_seed, rand_uni_bound=entity.emb_rand_uni_bound)"
   ]
  },
  {
   "cell_type": "code",
   "execution_count": 4,
   "id": "496a63f7-2416-4850-aed3-ff454d33906b",
   "metadata": {},
   "outputs": [
    {
     "data": {
      "text/plain": [
       "0         How is the life of a math student? Could you d...\n",
       "1                       How do I control my horny emotions?\n",
       "2              What causes stool color to change to yellow?\n",
       "3                               What can one do after MBBS?\n",
       "4         Where can I find a power outlet for my laptop ...\n",
       "                                ...                        \n",
       "320755    Why might a girl feel bad when she gets a love...\n",
       "320756    Have the Ancient Mayans been scientifically te...\n",
       "320757    What is the best solution to the Kashmir confl...\n",
       "320758    Are there any free public company financial da...\n",
       "320759    What are the top books that teach Android eCom...\n",
       "Name: text_left, Length: 320760, dtype: object"
      ]
     },
     "execution_count": 4,
     "metadata": {},
     "output_type": "execute_result"
    }
   ],
   "source": [
    "entity.glue_train_df['text_left']"
   ]
  },
  {
   "cell_type": "code",
   "execution_count": 8,
   "id": "e583d1d5-f307-45a7-b3ad-072ef4992eb2",
   "metadata": {},
   "outputs": [
    {
     "data": {
      "text/plain": [
       "31095"
      ]
     },
     "execution_count": 8,
     "metadata": {},
     "output_type": "execute_result"
    }
   ],
   "source": [
    "len(entity.dev_pairs_for_ndcg)"
   ]
  },
  {
   "cell_type": "code",
   "execution_count": 9,
   "id": "0a6fca5b-3ee2-466e-940f-0f3e8b940e2e",
   "metadata": {},
   "outputs": [
    {
     "data": {
      "text/plain": [
       "'!\"#$%&\\'()*+,-./:;<=>?@[\\\\]^_`{|}~'"
      ]
     },
     "execution_count": 9,
     "metadata": {},
     "output_type": "execute_result"
    }
   ],
   "source": [
    "string.punctuation"
   ]
  },
  {
   "cell_type": "code",
   "execution_count": 32,
   "id": "7eb3b62d-cf2c-41d9-b121-f25434a5b3d8",
   "metadata": {},
   "outputs": [],
   "source": [
    "def hadle_punctuation(inp_str: str) -> str:\n",
    "    trans_table = str.maketrans({i:' ' for i in string.punctuation})\n",
    "    out_str = inp_str.translate(trans_table)\n",
    "    return out_str"
   ]
  },
  {
   "cell_type": "code",
   "execution_count": 33,
   "id": "e5d2c7f9-a4e9-4511-acce-79bc82d6047d",
   "metadata": {},
   "outputs": [
    {
     "name": "stdout",
     "output_type": "stream",
     "text": [
      "How is the life of a math student? Could you describe your own experiences?\n",
      "How is the life of a math student  Could you describe your own experiences \n"
     ]
    }
   ],
   "source": [
    "print(entity.glue_train_df.iloc[0,2])\n",
    "print(hadle_punctuation(entity.glue_train_df.iloc[0,2]))"
   ]
  },
  {
   "cell_type": "code",
   "execution_count": 34,
   "id": "fc783595-df72-4791-8642-6331300f842a",
   "metadata": {},
   "outputs": [],
   "source": [
    "def simple_preproc(inp_str: str) -> List[str]:\n",
    "    out_str = inp_str.lower()\n",
    "    out_str = hadle_punctuation(out_str)\n",
    "    out_str = nltk.tokenize.word_tokenize(out_str)\n",
    "    return out_str"
   ]
  },
  {
   "cell_type": "code",
   "execution_count": 35,
   "id": "bf212d5b-5a0f-475d-81df-f49dcff97842",
   "metadata": {},
   "outputs": [
    {
     "name": "stderr",
     "output_type": "stream",
     "text": [
      "[nltk_data] Downloading package punkt to /home/karpov/nltk_data...\n",
      "[nltk_data]   Package punkt is already up-to-date!\n"
     ]
    },
    {
     "data": {
      "text/plain": [
       "True"
      ]
     },
     "execution_count": 35,
     "metadata": {},
     "output_type": "execute_result"
    }
   ],
   "source": [
    "import nltk\n",
    "nltk.download('punkt')"
   ]
  },
  {
   "cell_type": "code",
   "execution_count": 56,
   "id": "9fafa4e5-4c0e-4588-b36b-e140d9141b5b",
   "metadata": {},
   "outputs": [
    {
     "data": {
      "text/plain": [
       "446540"
      ]
     },
     "execution_count": 59,
     "metadata": {},
     "output_type": "execute_result"
    }
   ],
   "source": [
    "pd.concat([entity.glue_train_df[['id_left']], entity.glue_train_df[['id_right']]], axis=0)"
   ]
  },
  {
   "cell_type": "code",
   "execution_count": 64,
   "id": "5ac5c955-b3c2-4de8-a9b0-c9d347206ac1",
   "metadata": {},
   "outputs": [
    {
     "name": "stdout",
     "output_type": "stream",
     "text": [
      "<class 'pandas.core.frame.DataFrame'>\n",
      "RangeIndex: 320760 entries, 0 to 320759\n",
      "Data columns (total 1 columns):\n",
      " #   Column  Non-Null Count   Dtype \n",
      "---  ------  --------------   ----- \n",
      " 0   id      320760 non-null  object\n",
      "dtypes: object(1)\n",
      "memory usage: 2.4+ MB\n"
     ]
    }
   ],
   "source": [
    "entity.glue_train_df[['id_right']].rename(columns={'id_right':'id'}).info()"
   ]
  },
  {
   "cell_type": "code",
   "execution_count": 66,
   "id": "d0d2ce02-9730-4d42-9027-fc059186e29e",
   "metadata": {},
   "outputs": [
    {
     "name": "stdout",
     "output_type": "stream",
     "text": [
      "<class 'pandas.core.frame.DataFrame'>\n",
      "RangeIndex: 320760 entries, 0 to 320759\n",
      "Data columns (total 1 columns):\n",
      " #   Column  Non-Null Count   Dtype \n",
      "---  ------  --------------   ----- \n",
      " 0   id      320760 non-null  object\n",
      "dtypes: object(1)\n",
      "memory usage: 2.4+ MB\n"
     ]
    }
   ],
   "source": [
    "entity.glue_train_df[['id_left']].rename(columns={'id_left':'id'}).info()"
   ]
  },
  {
   "cell_type": "code",
   "execution_count": 68,
   "id": "345b0d3f-8aed-4fbc-8ded-2f7f447cfd97",
   "metadata": {},
   "outputs": [],
   "source": [
    "#entity.glue_train_df[['id_left']].rename(columns={'id_left':'id'}).join(entity.glue_train_df[['id_right']].rename(columns={'id_right':'id'}), on='id')"
   ]
  },
  {
   "cell_type": "code",
   "execution_count": 103,
   "id": "95258062-844b-4cfb-a5eb-0fd41b1cc4a9",
   "metadata": {},
   "outputs": [],
   "source": [
    "a=entity.glue_train_df\n",
    "a['id_left'] = a['id_left'].astype(str)\n",
    "a['id_right'] = a['id_right'].astype(str)"
   ]
  },
  {
   "cell_type": "code",
   "execution_count": 74,
   "id": "c834ba5d-6c69-43ed-b310-46e5c2547b27",
   "metadata": {},
   "outputs": [
    {
     "data": {
      "text/html": [
       "<div>\n",
       "<style scoped>\n",
       "    .dataframe tbody tr th:only-of-type {\n",
       "        vertical-align: middle;\n",
       "    }\n",
       "\n",
       "    .dataframe tbody tr th {\n",
       "        vertical-align: top;\n",
       "    }\n",
       "\n",
       "    .dataframe thead th {\n",
       "        text-align: right;\n",
       "    }\n",
       "</style>\n",
       "<table border=\"1\" class=\"dataframe\">\n",
       "  <thead>\n",
       "    <tr style=\"text-align: right;\">\n",
       "      <th></th>\n",
       "      <th>id_left_x</th>\n",
       "      <th>id_right_x</th>\n",
       "      <th>text_left_x</th>\n",
       "      <th>text_right_x</th>\n",
       "      <th>label_x</th>\n",
       "      <th>id_left_y</th>\n",
       "      <th>id_right_y</th>\n",
       "      <th>text_left_y</th>\n",
       "      <th>text_right_y</th>\n",
       "      <th>label_y</th>\n",
       "    </tr>\n",
       "  </thead>\n",
       "  <tbody>\n",
       "    <tr>\n",
       "      <th>0</th>\n",
       "      <td>422862</td>\n",
       "      <td>96457</td>\n",
       "      <td>How is air traffic controlled?</td>\n",
       "      <td>How do you become an air traffic controller?</td>\n",
       "      <td>0</td>\n",
       "      <td>96458</td>\n",
       "      <td>422862</td>\n",
       "      <td>How does one become an air traffic controller?</td>\n",
       "      <td>How is air traffic controlled?</td>\n",
       "      <td>0</td>\n",
       "    </tr>\n",
       "    <tr>\n",
       "      <th>1</th>\n",
       "      <td>422862</td>\n",
       "      <td>96457</td>\n",
       "      <td>How is air traffic controlled?</td>\n",
       "      <td>How do you become an air traffic controller?</td>\n",
       "      <td>0</td>\n",
       "      <td>422861</td>\n",
       "      <td>422862</td>\n",
       "      <td>What is Air Traffic Control?</td>\n",
       "      <td>How is air traffic controlled?</td>\n",
       "      <td>0</td>\n",
       "    </tr>\n",
       "    <tr>\n",
       "      <th>2</th>\n",
       "      <td>147570</td>\n",
       "      <td>787</td>\n",
       "      <td>What is the best self help book you have read?...</td>\n",
       "      <td>What are the top self help books I should read?</td>\n",
       "      <td>1</td>\n",
       "      <td>147569</td>\n",
       "      <td>147570</td>\n",
       "      <td>What are some of the best self help books out ...</td>\n",
       "      <td>What is the best self help book you have read?...</td>\n",
       "      <td>1</td>\n",
       "    </tr>\n",
       "    <tr>\n",
       "      <th>3</th>\n",
       "      <td>147570</td>\n",
       "      <td>114122</td>\n",
       "      <td>What is the best self help book you have read?...</td>\n",
       "      <td>Which is the best self help book you've ever r...</td>\n",
       "      <td>1</td>\n",
       "      <td>147569</td>\n",
       "      <td>147570</td>\n",
       "      <td>What are some of the best self help books out ...</td>\n",
       "      <td>What is the best self help book you have read?...</td>\n",
       "      <td>1</td>\n",
       "    </tr>\n",
       "    <tr>\n",
       "      <th>4</th>\n",
       "      <td>37932</td>\n",
       "      <td>371478</td>\n",
       "      <td>Do you need a passport to go to Jamaica from t...</td>\n",
       "      <td>How can I move to Jamaica?</td>\n",
       "      <td>0</td>\n",
       "      <td>360877</td>\n",
       "      <td>37932</td>\n",
       "      <td>Is a passport required to go to Jamaica?</td>\n",
       "      <td>Do you need a passport to go to Jamaica from t...</td>\n",
       "      <td>0</td>\n",
       "    </tr>\n",
       "    <tr>\n",
       "      <th>...</th>\n",
       "      <td>...</td>\n",
       "      <td>...</td>\n",
       "      <td>...</td>\n",
       "      <td>...</td>\n",
       "      <td>...</td>\n",
       "      <td>...</td>\n",
       "      <td>...</td>\n",
       "      <td>...</td>\n",
       "      <td>...</td>\n",
       "      <td>...</td>\n",
       "    </tr>\n",
       "    <tr>\n",
       "      <th>252202</th>\n",
       "      <td>353923</td>\n",
       "      <td>434187</td>\n",
       "      <td>Why would my laptop not be turning off?</td>\n",
       "      <td>How can I turn off my laptop screen completely?</td>\n",
       "      <td>0</td>\n",
       "      <td>181260</td>\n",
       "      <td>353923</td>\n",
       "      <td>Why is my laptop not turning on?</td>\n",
       "      <td>Why would my laptop not be turning off?</td>\n",
       "      <td>0</td>\n",
       "    </tr>\n",
       "    <tr>\n",
       "      <th>252203</th>\n",
       "      <td>446140</td>\n",
       "      <td>284801</td>\n",
       "      <td>What are some fun things to do/ must see thing...</td>\n",
       "      <td>What are some good things to do in Phuket Thai...</td>\n",
       "      <td>1</td>\n",
       "      <td>284800</td>\n",
       "      <td>446140</td>\n",
       "      <td>Which things I must do in phuket (thailand)?</td>\n",
       "      <td>What are some fun things to do/ must see thing...</td>\n",
       "      <td>1</td>\n",
       "    </tr>\n",
       "    <tr>\n",
       "      <th>252204</th>\n",
       "      <td>379402</td>\n",
       "      <td>271315</td>\n",
       "      <td>Which is better, SLR or DSLR?</td>\n",
       "      <td>Should beginning photographers purchase an SLR...</td>\n",
       "      <td>0</td>\n",
       "      <td>379401</td>\n",
       "      <td>379402</td>\n",
       "      <td>Slr or DSLR better?</td>\n",
       "      <td>Which is better, SLR or DSLR?</td>\n",
       "      <td>1</td>\n",
       "    </tr>\n",
       "    <tr>\n",
       "      <th>252205</th>\n",
       "      <td>136002</td>\n",
       "      <td>136003</td>\n",
       "      <td>How can I send money from my debit card to ano...</td>\n",
       "      <td>I need to send money now from debit to debit. ...</td>\n",
       "      <td>0</td>\n",
       "      <td>58820</td>\n",
       "      <td>136002</td>\n",
       "      <td>How can you transfer money from a debit card t...</td>\n",
       "      <td>How can I send money from my debit card to ano...</td>\n",
       "      <td>0</td>\n",
       "    </tr>\n",
       "    <tr>\n",
       "      <th>252206</th>\n",
       "      <td>122541</td>\n",
       "      <td>20255</td>\n",
       "      <td>What are the trolls?</td>\n",
       "      <td>How do trolls troll trolls?</td>\n",
       "      <td>0</td>\n",
       "      <td>511657</td>\n",
       "      <td>122541</td>\n",
       "      <td>What is it that you do to troll people?</td>\n",
       "      <td>What are the trolls?</td>\n",
       "      <td>0</td>\n",
       "    </tr>\n",
       "  </tbody>\n",
       "</table>\n",
       "<p>252207 rows × 10 columns</p>\n",
       "</div>"
      ],
      "text/plain": [
       "       id_left_x id_right_x  \\\n",
       "0         422862      96457   \n",
       "1         422862      96457   \n",
       "2         147570        787   \n",
       "3         147570     114122   \n",
       "4          37932     371478   \n",
       "...          ...        ...   \n",
       "252202    353923     434187   \n",
       "252203    446140     284801   \n",
       "252204    379402     271315   \n",
       "252205    136002     136003   \n",
       "252206    122541      20255   \n",
       "\n",
       "                                              text_left_x  \\\n",
       "0                          How is air traffic controlled?   \n",
       "1                          How is air traffic controlled?   \n",
       "2       What is the best self help book you have read?...   \n",
       "3       What is the best self help book you have read?...   \n",
       "4       Do you need a passport to go to Jamaica from t...   \n",
       "...                                                   ...   \n",
       "252202            Why would my laptop not be turning off?   \n",
       "252203  What are some fun things to do/ must see thing...   \n",
       "252204                      Which is better, SLR or DSLR?   \n",
       "252205  How can I send money from my debit card to ano...   \n",
       "252206                               What are the trolls?   \n",
       "\n",
       "                                             text_right_x  label_x id_left_y  \\\n",
       "0            How do you become an air traffic controller?        0     96458   \n",
       "1            How do you become an air traffic controller?        0    422861   \n",
       "2         What are the top self help books I should read?        1    147569   \n",
       "3       Which is the best self help book you've ever r...        1    147569   \n",
       "4                              How can I move to Jamaica?        0    360877   \n",
       "...                                                   ...      ...       ...   \n",
       "252202    How can I turn off my laptop screen completely?        0    181260   \n",
       "252203  What are some good things to do in Phuket Thai...        1    284800   \n",
       "252204  Should beginning photographers purchase an SLR...        0    379401   \n",
       "252205  I need to send money now from debit to debit. ...        0     58820   \n",
       "252206                        How do trolls troll trolls?        0    511657   \n",
       "\n",
       "       id_right_y                                        text_left_y  \\\n",
       "0          422862     How does one become an air traffic controller?   \n",
       "1          422862                       What is Air Traffic Control?   \n",
       "2          147570  What are some of the best self help books out ...   \n",
       "3          147570  What are some of the best self help books out ...   \n",
       "4           37932           Is a passport required to go to Jamaica?   \n",
       "...           ...                                                ...   \n",
       "252202     353923                   Why is my laptop not turning on?   \n",
       "252203     446140       Which things I must do in phuket (thailand)?   \n",
       "252204     379402                                Slr or DSLR better?   \n",
       "252205     136002  How can you transfer money from a debit card t...   \n",
       "252206     122541            What is it that you do to troll people?   \n",
       "\n",
       "                                             text_right_y  label_y  \n",
       "0                          How is air traffic controlled?        0  \n",
       "1                          How is air traffic controlled?        0  \n",
       "2       What is the best self help book you have read?...        1  \n",
       "3       What is the best self help book you have read?...        1  \n",
       "4       Do you need a passport to go to Jamaica from t...        0  \n",
       "...                                                   ...      ...  \n",
       "252202            Why would my laptop not be turning off?        0  \n",
       "252203  What are some fun things to do/ must see thing...        1  \n",
       "252204                      Which is better, SLR or DSLR?        1  \n",
       "252205  How can I send money from my debit card to ano...        0  \n",
       "252206                               What are the trolls?        0  \n",
       "\n",
       "[252207 rows x 10 columns]"
      ]
     },
     "execution_count": 74,
     "metadata": {},
     "output_type": "execute_result"
    }
   ],
   "source": [
    "a.merge(a, left_on='id_left', right_on='id_right')"
   ]
  },
  {
   "cell_type": "code",
   "execution_count": 36,
   "id": "3509ff15-67f2-48ab-9d6a-5e0cb1987349",
   "metadata": {},
   "outputs": [
    {
     "name": "stdout",
     "output_type": "stream",
     "text": [
      "How is the life of a math student? Could you describe your own experiences?\n",
      "['how', 'is', 'the', 'life', 'of', 'a', 'math', 'student', 'could', 'you', 'describe', 'your', 'own', 'experiences']\n"
     ]
    }
   ],
   "source": [
    "print(entity.glue_train_df.iloc[0,2])\n",
    "print(simple_preproc(entity.glue_train_df.iloc[0,2]))"
   ]
  },
  {
   "cell_type": "code",
   "execution_count": 38,
   "id": "c4e2b065-d97f-4cf7-9729-208a16079b93",
   "metadata": {},
   "outputs": [
    {
     "data": {
      "text/plain": [
       "0         [how, is, the, life, of, a, math, student, cou...\n",
       "1                [how, do, i, control, my, horny, emotions]\n",
       "2         [what, causes, stool, color, to, change, to, y...\n",
       "3                         [what, can, one, do, after, mbbs]\n",
       "4         [where, can, i, find, a, power, outlet, for, m...\n",
       "                                ...                        \n",
       "320755    [why, might, a, girl, feel, bad, when, she, ge...\n",
       "320756    [have, the, ancient, mayans, been, scientifica...\n",
       "320757    [what, is, the, best, solution, to, the, kashm...\n",
       "320758    [are, there, any, free, public, company, finan...\n",
       "320759    [what, are, the, top, books, that, teach, andr...\n",
       "Name: text_left, Length: 320760, dtype: object"
      ]
     },
     "execution_count": 38,
     "metadata": {},
     "output_type": "execute_result"
    }
   ],
   "source": [
    "entity.glue_train_df['text_left'].apply(lambda x: simple_preproc(x))"
   ]
  },
  {
   "cell_type": "code",
   "execution_count": 126,
   "id": "ba28b4d3-cf90-49c5-8509-3a45cf98019d",
   "metadata": {},
   "outputs": [],
   "source": [
    "def get_all_tokens(list_of_df: List[pd.DataFrame], min_occurancies: int) -> List[str]:\n",
    "    union_df = pd.DataFrame(columns=['id', 'text'])\n",
    "    for df in list_of_df:\n",
    "        for text_col, id_col in zip (['text_left', 'text_right'],\n",
    "                                     ['id_left', 'id_right']):\n",
    "            curr_df = df[[id_col, text_col]]\n",
    "            curr_df.columns = ['id', 'text']\n",
    "            union_df = pd.concat([union_df, curr_df], axis=0)\n",
    "    union_df = union_df.drop_duplicates('id')\n",
    "    union_df['words_list'] = union_df['text'].apply(lambda x: simple_preproc(x))\n",
    "    vocab = pd.Series([word for doc in union_df['words_list'] for word in doc])\n",
    "    vocab = vocab.value_counts().to_dict()\n",
    "    filtered_vocab = _filter_rare_words(vocab=vocab, min_occurancies=min_occurancies)\n",
    "    return filtered_vocab\n",
    "\n",
    "def _filter_rare_words(vocab: Dict[str, int], min_occurancies: int) -> Dict[str, int]:\n",
    "    return dict((k, v) for k, v in vocab.items() if v >= min_occurancies)"
   ]
  },
  {
   "cell_type": "code",
   "execution_count": 127,
   "id": "4feeb00e-b0ce-414a-8e82-616b165ad9ef",
   "metadata": {},
   "outputs": [
    {
     "name": "stdout",
     "output_type": "stream",
     "text": [
      "CPU times: user 1min 55s, sys: 232 ms, total: 1min 55s\n",
      "Wall time: 1min 55s\n"
     ]
    }
   ],
   "source": [
    "%%time\n",
    "a  = get_all_tokens([entity.glue_train_df, entity.glue_dev_df], min_occurancies=1)"
   ]
  },
  {
   "cell_type": "code",
   "execution_count": 131,
   "id": "23b34672-8a03-49b8-80e1-a1fff7eb387e",
   "metadata": {},
   "outputs": [],
   "source": [
    "#entity.all_tokens"
   ]
  },
  {
   "cell_type": "markdown",
   "id": "a60588a5-2dd3-4069-8823-81883a3ae208",
   "metadata": {},
   "source": [
    "# 2"
   ]
  },
  {
   "cell_type": "code",
   "execution_count": 4,
   "id": "8ac2731d-0a32-4952-b91a-8a914660d49b",
   "metadata": {},
   "outputs": [],
   "source": [
    "glove_vectors_path='data/glove.6B.50d.txt'"
   ]
  },
  {
   "cell_type": "code",
   "execution_count": 5,
   "id": "5ec9b99b-6a90-4a99-a81d-aef07b724cfc",
   "metadata": {},
   "outputs": [],
   "source": [
    "glove_embeddings = {}\n",
    "with open(glove_vectors_path,'r') as f:\n",
    "    for line in f:\n",
    "        split_line = line.split()\n",
    "        word = split_line[0]\n",
    "        embedding = np.array(split_line[1:], dtype=str)\n",
    "        glove_embeddings[word] = embedding"
   ]
  },
  {
   "cell_type": "code",
   "execution_count": null,
   "id": "ee231c67-3d5e-4263-969b-9954ffce5f3d",
   "metadata": {},
   "outputs": [],
   "source": [
    "#glove_embeddings"
   ]
  },
  {
   "cell_type": "code",
   "execution_count": 3,
   "id": "ff306dd0-97ae-4209-8d1f-1ac05a392524",
   "metadata": {},
   "outputs": [],
   "source": [
    "matrix, vocab, unk_words = entity.create_glove_emb_from_file(file_path='data/glove.6B.50d.txt', inner_keys=entity.all_tokens, random_seed=entity.random_seed, rand_uni_bound=entity.emb_rand_uni_bound)"
   ]
  },
  {
   "cell_type": "code",
   "execution_count": 44,
   "id": "7d842857-dbbc-4a0a-8637-ca28bb0b114c",
   "metadata": {},
   "outputs": [],
   "source": [
    "#np.random.seed(random_seed)\n",
    "#glove_embeddings = self._read_glove_embeddings(file_path=file_path)\n",
    "glove_embeddings = entity._read_glove_embeddings(file_path=file_path)\n",
    "\n",
    "#glove_words = [key for key in glove_embeddings]\n",
    "\n",
    "matrix = np.array([value for key,value in glove_embeddings.items()], dtype=float)\n",
    "vocab = {key: i for i,key in enumerate(glove_embeddings)}\n",
    "\n",
    "index = [vocab[key] for key in inner_keys if key in vocab.keys()]\n",
    "words = [key for key in inner_keys if key in vocab.keys()]\n",
    "unk_words = ['PAD', 'OOV'] + [key for key in inner_keys if key not in vocab.keys()]\n",
    "\n",
    "emb_size = next(iter(glove_embeddings.values())).shape[0]\n",
    "mask_matrix = np.zeros((2, emb_size))\n",
    "unk_words_matrix = np.random.uniform(low=-rand_uni_bound, high=rand_uni_bound, size=(len(unk_words) - 2, emb_size))\n",
    "words_matrix = np.array([value for key,value in glove_embeddings.items()], dtype=float)\n",
    "matrix = np.concatenate((mask_matrix, unk_words_matrix, words_matrix))\n",
    "\n",
    "vocab = {key: i for i,key in enumerate(unk_words)}\n",
    "vocab.update({key: i+len(vocab) for i,key in enumerate(words)})"
   ]
  },
  {
   "cell_type": "code",
   "execution_count": 6,
   "id": "321c32ca-60c0-47f7-b7ba-6f7837c51aa1",
   "metadata": {},
   "outputs": [],
   "source": [
    "file_path='data/glove.6B.50d.txt'\n",
    "inner_keys=entity.all_tokens\n",
    "rand_uni_bound=entity.emb_rand_uni_bound"
   ]
  },
  {
   "cell_type": "code",
   "execution_count": 41,
   "id": "f939b232-edc3-4903-a922-b1b2149813c0",
   "metadata": {},
   "outputs": [],
   "source": [
    "glove_embeddings = entity._read_glove_embeddings(file_path=file_path)\n",
    "\n",
    "#glove_words = [key for key in glove_embeddings]\n",
    "\n",
    "matrix = np.array([value for key,value in glove_embeddings.items()], dtype=float)\n",
    "vocab = {key: i for i,key in enumerate(glove_embeddings)}\n",
    "\n",
    "index = [vocab[key] for key in inner_keys if key in vocab.keys()]\n",
    "words = [key for key in inner_keys if key in vocab.keys()]"
   ]
  },
  {
   "cell_type": "code",
   "execution_count": 33,
   "id": "817fd4b4-b6ef-496e-865b-612a66dbdda5",
   "metadata": {},
   "outputs": [],
   "source": [
    "matrix = matrix[index]"
   ]
  },
  {
   "cell_type": "code",
   "execution_count": 46,
   "id": "a0bf4156-a359-4145-97de-ea506969d8b0",
   "metadata": {},
   "outputs": [
    {
     "data": {
      "text/plain": [
       "83011"
      ]
     },
     "execution_count": 46,
     "metadata": {},
     "output_type": "execute_result"
    }
   ],
   "source": [
    "len(vocab)"
   ]
  },
  {
   "cell_type": "code",
   "execution_count": 47,
   "id": "47e684b6-fb8d-450e-ae4f-bd9a8b81b9f0",
   "metadata": {},
   "outputs": [
    {
     "data": {
      "text/plain": [
       "24106"
      ]
     },
     "execution_count": 47,
     "metadata": {},
     "output_type": "execute_result"
    }
   ],
   "source": [
    "len(unk_words)"
   ]
  },
  {
   "cell_type": "code",
   "execution_count": 48,
   "id": "85fc552a-4946-4b9a-8ac1-20d7aeb88a72",
   "metadata": {},
   "outputs": [
    {
     "data": {
      "text/plain": [
       "0.2903952488224452"
      ]
     },
     "execution_count": 48,
     "metadata": {},
     "output_type": "execute_result"
    }
   ],
   "source": [
    "24106/83011"
   ]
  },
  {
   "cell_type": "code",
   "execution_count": 8,
   "id": "18c254ca-5379-4047-ac0c-d0c772b1d72e",
   "metadata": {},
   "outputs": [],
   "source": [
    "emb_size=50"
   ]
  },
  {
   "cell_type": "code",
   "execution_count": 15,
   "id": "cfd0a2f4-0cdf-4793-ba82-c1108515c17a",
   "metadata": {},
   "outputs": [],
   "source": [
    "#np.zeros((2,50))"
   ]
  },
  {
   "cell_type": "markdown",
   "id": "5746a94f-8e09-4769-9683-03da43f2e6bd",
   "metadata": {},
   "source": [
    "# 3"
   ]
  },
  {
   "cell_type": "code",
   "execution_count": 5,
   "id": "8eb48c6d-162c-4228-8529-533b95cbbe41",
   "metadata": {},
   "outputs": [],
   "source": [
    "x = np.array([0.1,0,-0.05])\n",
    "mu=0\n",
    "sigma=1\n",
    "\n",
    "distances = np.sum((x[:, np.newaxis] - mu) ** 2, axis=-1)\n",
    "kernel_matrix = np.exp(-distances / (2 * sigma ** 2))"
   ]
  },
  {
   "cell_type": "code",
   "execution_count": 5,
   "id": "ca159a4d-1db6-4efb-bda6-95218b926324",
   "metadata": {},
   "outputs": [],
   "source": [
    "matrix, _, __ = entity.create_glove_emb_from_file(file_path='data/glove.6B.50d.txt', inner_keys=entity.all_tokens, random_seed=entity.random_seed, rand_uni_bound=entity.emb_rand_uni_bound)"
   ]
  },
  {
   "cell_type": "code",
   "execution_count": 7,
   "id": "eae014ac-eaaf-4a28-bdfd-2d336b5fb3be",
   "metadata": {},
   "outputs": [
    {
     "data": {
      "text/plain": [
       "83011"
      ]
     },
     "execution_count": 7,
     "metadata": {},
     "output_type": "execute_result"
    }
   ],
   "source": [
    "len(_)"
   ]
  },
  {
   "cell_type": "code",
   "execution_count": 8,
   "id": "18728dc0-6541-4684-9346-664a4df762a9",
   "metadata": {},
   "outputs": [
    {
     "data": {
      "text/plain": [
       "(83011, 50)"
      ]
     },
     "execution_count": 8,
     "metadata": {},
     "output_type": "execute_result"
    }
   ],
   "source": [
    "matrix.shape"
   ]
  },
  {
   "cell_type": "code",
   "execution_count": 9,
   "id": "d662cbd0-47a3-481b-9971-e9c515e89e14",
   "metadata": {},
   "outputs": [
    {
     "data": {
      "text/plain": [
       "array([[ 0.1 ],\n",
       "       [ 0.  ],\n",
       "       [-0.05]])"
      ]
     },
     "execution_count": 9,
     "metadata": {},
     "output_type": "execute_result"
    }
   ],
   "source": [
    "x[:, np.newaxis] "
   ]
  },
  {
   "cell_type": "markdown",
   "id": "4eefac9d-bf85-40d0-abf1-406827074ce8",
   "metadata": {},
   "source": [
    "knrm = KNRM(embedding_matrix=matrix, freeze_embeddings=True)"
   ]
  },
  {
   "cell_type": "code",
   "execution_count": 10,
   "id": "a625cada-b888-45a8-9407-e2dfb007fe86",
   "metadata": {},
   "outputs": [],
   "source": [
    "kernel_num = 11\n",
    "if kernel_num % 2 == 1:\n",
    "    n = (kernel_num - 1) * 2 + 1\n",
    "    kernel_list = np.linspace(-1, 1, num=n)\n",
    "    kernel_list = [round(val, 2) for i, val in enumerate(kernel_list) if i % 2 == 1] + [round(kernel_list[-1], 2)]"
   ]
  },
  {
   "cell_type": "code",
   "execution_count": 18,
   "id": "2256c435-a683-434c-a80a-71937f6736fe",
   "metadata": {},
   "outputs": [
    {
     "data": {
      "text/plain": [
       "array([-0.9, -0.7, -0.5, -0.3, -0.1,  0.1,  0.3,  0.5,  0.7,  0.9,  0. ])"
      ]
     },
     "execution_count": 18,
     "metadata": {},
     "output_type": "execute_result"
    }
   ],
   "source": [
    "kernel_list"
   ]
  },
  {
   "cell_type": "code",
   "execution_count": 19,
   "id": "b4db5cf5-49d4-4ad0-8b6e-8f521cfd14c6",
   "metadata": {},
   "outputs": [],
   "source": [
    "exact_sigma = .1"
   ]
  },
  {
   "cell_type": "code",
   "execution_count": 20,
   "id": "d76494ad-bfc7-4950-befd-fc9286d20024",
   "metadata": {},
   "outputs": [],
   "source": [
    "kernel_list = np.concatenate([np.linspace(-1 + exact_sigma, 1 - exact_sigma, num=kernel_num - 1), [0]])"
   ]
  },
  {
   "cell_type": "code",
   "execution_count": 21,
   "id": "6cec2318-9997-41a3-b3ed-30c184239c7c",
   "metadata": {},
   "outputs": [
    {
     "data": {
      "text/plain": [
       "array([-0.9, -0.7, -0.5, -0.3, -0.1,  0.1,  0.3,  0.5,  0.7,  0.9,  0. ])"
      ]
     },
     "execution_count": 21,
     "metadata": {},
     "output_type": "execute_result"
    }
   ],
   "source": [
    "kernel_list"
   ]
  },
  {
   "cell_type": "code",
   "execution_count": null,
   "id": "0960f90f-2ffe-413e-8c19-ac77a05b05be",
   "metadata": {},
   "outputs": [],
   "source": [
    "out_layers = [10,5]"
   ]
  },
  {
   "cell_type": "code",
   "execution_count": null,
   "id": "f6364f5a-26a8-4a44-a8ec-bb101a89e041",
   "metadata": {},
   "outputs": [],
   "source": [
    "modules = []   \n",
    "if len(out_layers) == 0:\n",
    "    modules.append(torch.nn.Linear(kernel_num, 1))\n",
    "else:\n",
    "    i_prev = kernel_num\n",
    "    for i in out_layers:\n",
    "        modules.append(torch.nn.ReLU())\n",
    "        modules.append(torch.nn.Linear(i_prev, i))  \n",
    "        i_prev = i\n",
    "    modules.append(torch.nn.ReLU())\n",
    "    modules.append(torch.nn.Linear(i, 1))\n",
    "\n",
    "sequential = torch.nn.Sequential(*modules)"
   ]
  },
  {
   "cell_type": "code",
   "execution_count": 28,
   "id": "90745416-7615-43ae-be09-219de34954b0",
   "metadata": {},
   "outputs": [
    {
     "data": {
      "text/plain": [
       "Sequential(\n",
       "  (0): ReLU()\n",
       "  (1): Linear(in_features=11, out_features=10, bias=True)\n",
       "  (2): ReLU()\n",
       "  (3): Linear(in_features=10, out_features=5, bias=True)\n",
       "  (4): ReLU()\n",
       "  (5): Linear(in_features=5, out_features=1, bias=True)\n",
       ")"
      ]
     },
     "execution_count": 28,
     "metadata": {},
     "output_type": "execute_result"
    }
   ],
   "source": [
    "sequential"
   ]
  },
  {
   "cell_type": "code",
   "execution_count": 28,
   "id": "673f667d-fd84-4ab5-b505-fe82f3f26ebe",
   "metadata": {},
   "outputs": [],
   "source": [
    "a = entity.glue_train_df"
   ]
  },
  {
   "cell_type": "code",
   "execution_count": 33,
   "id": "b35b40f1-605e-44ad-a19e-030be631ae29",
   "metadata": {},
   "outputs": [],
   "source": [
    "query, doc = a['text_left'][:2].apply(lambda x: entity.simple_preproc(x)), a['text_right'][:2].apply(lambda x: entity.simple_preproc(x))"
   ]
  },
  {
   "cell_type": "code",
   "execution_count": 54,
   "id": "aab12a33-8f49-4226-a461-e775af12c45a",
   "metadata": {},
   "outputs": [
    {
     "data": {
      "text/plain": [
       "0    [how, is, the, life, of, a, math, student, cou...\n",
       "1           [how, do, i, control, my, horny, emotions]\n",
       "Name: text_left, dtype: object"
      ]
     },
     "execution_count": 54,
     "metadata": {},
     "output_type": "execute_result"
    }
   ],
   "source": [
    "query"
   ]
  },
  {
   "cell_type": "code",
   "execution_count": 55,
   "id": "3dae3f8c-34d6-419a-8f0a-13bcf0df3125",
   "metadata": {},
   "outputs": [
    {
     "data": {
      "text/html": [
       "<div>\n",
       "<style scoped>\n",
       "    .dataframe tbody tr th:only-of-type {\n",
       "        vertical-align: middle;\n",
       "    }\n",
       "\n",
       "    .dataframe tbody tr th {\n",
       "        vertical-align: top;\n",
       "    }\n",
       "\n",
       "    .dataframe thead th {\n",
       "        text-align: right;\n",
       "    }\n",
       "</style>\n",
       "<table border=\"1\" class=\"dataframe\">\n",
       "  <thead>\n",
       "    <tr style=\"text-align: right;\">\n",
       "      <th></th>\n",
       "      <th>id_left</th>\n",
       "      <th>id_right</th>\n",
       "      <th>text_left</th>\n",
       "      <th>text_right</th>\n",
       "      <th>label</th>\n",
       "    </tr>\n",
       "  </thead>\n",
       "  <tbody>\n",
       "    <tr>\n",
       "      <th>0</th>\n",
       "      <td>213221</td>\n",
       "      <td>213222</td>\n",
       "      <td>How is the life of a math student? Could you d...</td>\n",
       "      <td>Which level of prepration is enough for the ex...</td>\n",
       "      <td>0</td>\n",
       "    </tr>\n",
       "    <tr>\n",
       "      <th>1</th>\n",
       "      <td>536040</td>\n",
       "      <td>536041</td>\n",
       "      <td>How do I control my horny emotions?</td>\n",
       "      <td>How do you control your horniness?</td>\n",
       "      <td>1</td>\n",
       "    </tr>\n",
       "    <tr>\n",
       "      <th>2</th>\n",
       "      <td>364011</td>\n",
       "      <td>490273</td>\n",
       "      <td>What causes stool color to change to yellow?</td>\n",
       "      <td>What can cause stool to come out as little balls?</td>\n",
       "      <td>0</td>\n",
       "    </tr>\n",
       "    <tr>\n",
       "      <th>3</th>\n",
       "      <td>155721</td>\n",
       "      <td>7256</td>\n",
       "      <td>What can one do after MBBS?</td>\n",
       "      <td>What do i do after my MBBS ?</td>\n",
       "      <td>1</td>\n",
       "    </tr>\n",
       "    <tr>\n",
       "      <th>4</th>\n",
       "      <td>279958</td>\n",
       "      <td>279959</td>\n",
       "      <td>Where can I find a power outlet for my laptop ...</td>\n",
       "      <td>Would a second airport in Sydney, Australia be...</td>\n",
       "      <td>0</td>\n",
       "    </tr>\n",
       "    <tr>\n",
       "      <th>...</th>\n",
       "      <td>...</td>\n",
       "      <td>...</td>\n",
       "      <td>...</td>\n",
       "      <td>...</td>\n",
       "      <td>...</td>\n",
       "    </tr>\n",
       "    <tr>\n",
       "      <th>320755</th>\n",
       "      <td>145775</td>\n",
       "      <td>145776</td>\n",
       "      <td>Why might a girl feel bad when she gets a love...</td>\n",
       "      <td>Should a girl share intimate feelings with her...</td>\n",
       "      <td>0</td>\n",
       "    </tr>\n",
       "    <tr>\n",
       "      <th>320756</th>\n",
       "      <td>12956</td>\n",
       "      <td>12957</td>\n",
       "      <td>Have the Ancient Mayans been scientifically te...</td>\n",
       "      <td>Has Ancient Mesopotamia been scientifically te...</td>\n",
       "      <td>1</td>\n",
       "    </tr>\n",
       "    <tr>\n",
       "      <th>320757</th>\n",
       "      <td>29399</td>\n",
       "      <td>168598</td>\n",
       "      <td>What is the best solution to the Kashmir confl...</td>\n",
       "      <td>What is the solution of Kashmir conflict?</td>\n",
       "      <td>1</td>\n",
       "    </tr>\n",
       "    <tr>\n",
       "      <th>320758</th>\n",
       "      <td>38855</td>\n",
       "      <td>38856</td>\n",
       "      <td>Are there any free public company financial da...</td>\n",
       "      <td>What are the distinguishing features between k...</td>\n",
       "      <td>0</td>\n",
       "    </tr>\n",
       "    <tr>\n",
       "      <th>320759</th>\n",
       "      <td>244865</td>\n",
       "      <td>244866</td>\n",
       "      <td>What are the top books that teach Android eCom...</td>\n",
       "      <td>What are the top books that teach iOS eCommerc...</td>\n",
       "      <td>0</td>\n",
       "    </tr>\n",
       "  </tbody>\n",
       "</table>\n",
       "<p>320760 rows × 5 columns</p>\n",
       "</div>"
      ],
      "text/plain": [
       "       id_left id_right                                          text_left  \\\n",
       "0       213221   213222  How is the life of a math student? Could you d...   \n",
       "1       536040   536041                How do I control my horny emotions?   \n",
       "2       364011   490273       What causes stool color to change to yellow?   \n",
       "3       155721     7256                        What can one do after MBBS?   \n",
       "4       279958   279959  Where can I find a power outlet for my laptop ...   \n",
       "...        ...      ...                                                ...   \n",
       "320755  145775   145776  Why might a girl feel bad when she gets a love...   \n",
       "320756   12956    12957  Have the Ancient Mayans been scientifically te...   \n",
       "320757   29399   168598  What is the best solution to the Kashmir confl...   \n",
       "320758   38855    38856  Are there any free public company financial da...   \n",
       "320759  244865   244866  What are the top books that teach Android eCom...   \n",
       "\n",
       "                                               text_right  label  \n",
       "0       Which level of prepration is enough for the ex...      0  \n",
       "1                      How do you control your horniness?      1  \n",
       "2       What can cause stool to come out as little balls?      0  \n",
       "3                            What do i do after my MBBS ?      1  \n",
       "4       Would a second airport in Sydney, Australia be...      0  \n",
       "...                                                   ...    ...  \n",
       "320755  Should a girl share intimate feelings with her...      0  \n",
       "320756  Has Ancient Mesopotamia been scientifically te...      1  \n",
       "320757          What is the solution of Kashmir conflict?      1  \n",
       "320758  What are the distinguishing features between k...      0  \n",
       "320759  What are the top books that teach iOS eCommerc...      0  \n",
       "\n",
       "[320760 rows x 5 columns]"
      ]
     },
     "execution_count": 55,
     "metadata": {},
     "output_type": "execute_result"
    }
   ],
   "source": [
    "a"
   ]
  },
  {
   "cell_type": "code",
   "execution_count": 35,
   "id": "44bb33c4-7bbc-4f0c-ae16-acd80ab01e59",
   "metadata": {},
   "outputs": [
    {
     "data": {
      "text/plain": [
       "0    [how, is, the, life, of, a, math, student, cou...\n",
       "1           [how, do, i, control, my, horny, emotions]\n",
       "Name: text_left, dtype: object"
      ]
     },
     "execution_count": 35,
     "metadata": {},
     "output_type": "execute_result"
    }
   ],
   "source": [
    "a['text_left'][:2].apply(lambda x: entity.simple_preproc(x))"
   ]
  },
  {
   "cell_type": "code",
   "execution_count": 51,
   "id": "f49cce62-be9a-4221-b3d1-6d01210da1b5",
   "metadata": {},
   "outputs": [
    {
     "name": "stdout",
     "output_type": "stream",
     "text": [
      "mu==1\n"
     ]
    }
   ],
   "source": [
    "knrm = KNRM(embedding_matrix = matrix, freeze_embeddings=True)"
   ]
  },
  {
   "cell_type": "code",
   "execution_count": 10,
   "id": "147e437b-bbd3-4f77-8722-15b6e68d800e",
   "metadata": {},
   "outputs": [],
   "source": [
    "embeddings = knrm.embeddings"
   ]
  },
  {
   "cell_type": "code",
   "execution_count": 34,
   "id": "51c3550a-c60a-4315-8db1-d0aedfa298b5",
   "metadata": {},
   "outputs": [
    {
     "data": {
      "text/plain": [
       "Sequential(\n",
       "  (0): ReLU()\n",
       "  (1): Linear(in_features=21, out_features=10, bias=True)\n",
       "  (2): ReLU()\n",
       "  (3): Linear(in_features=10, out_features=5, bias=True)\n",
       "  (4): ReLU()\n",
       "  (5): Linear(in_features=5, out_features=1, bias=True)\n",
       ")"
      ]
     },
     "execution_count": 34,
     "metadata": {},
     "output_type": "execute_result"
    }
   ],
   "source": [
    "knrm._get_mlp()"
   ]
  },
  {
   "cell_type": "code",
   "execution_count": 35,
   "id": "73e758dc-140a-402a-9935-b62ea746e054",
   "metadata": {},
   "outputs": [
    {
     "ename": "TypeError",
     "evalue": "_apply_kernels() missing 1 required positional argument: 'matching_matrix'",
     "output_type": "error",
     "traceback": [
      "\u001b[0;31m---------------------------------------------------------------------------\u001b[0m",
      "\u001b[0;31mTypeError\u001b[0m                                 Traceback (most recent call last)",
      "Input \u001b[0;32mIn [35]\u001b[0m, in \u001b[0;36m<module>\u001b[0;34m\u001b[0m\n\u001b[0;32m----> 1\u001b[0m \u001b[43mknrm\u001b[49m\u001b[38;5;241;43m.\u001b[39;49m\u001b[43m_apply_kernels\u001b[49m\u001b[43m(\u001b[49m\u001b[43m)\u001b[49m\n",
      "\u001b[0;31mTypeError\u001b[0m: _apply_kernels() missing 1 required positional argument: 'matching_matrix'"
     ]
    }
   ],
   "source": [
    "knrm._apply_kernels()"
   ]
  },
  {
   "cell_type": "code",
   "execution_count": null,
   "id": "034e3d35-8978-4fd6-a910-571711558b4d",
   "metadata": {},
   "outputs": [],
   "source": []
  },
  {
   "cell_type": "code",
   "execution_count": 18,
   "id": "e23021d7-5abf-43e4-aeb2-c18dabbef379",
   "metadata": {},
   "outputs": [
    {
     "data": {
      "text/plain": [
       "2"
      ]
     },
     "execution_count": 18,
     "metadata": {},
     "output_type": "execute_result"
    }
   ],
   "source": [
    "len(knrm.out_layers)"
   ]
  },
  {
   "cell_type": "code",
   "execution_count": 19,
   "id": "22dd72ff-9a0e-46dc-839c-7f6363b0305f",
   "metadata": {},
   "outputs": [],
   "source": [
    "model, vocab, unk_words = entity.build_knrm_model()"
   ]
  },
  {
   "cell_type": "code",
   "execution_count": 1,
   "id": "f4659b82-07c4-4449-a0e2-b1beaf64bbe1",
   "metadata": {},
   "outputs": [
    {
     "ename": "NameError",
     "evalue": "name 'model' is not defined",
     "output_type": "error",
     "traceback": [
      "\u001b[0;31m---------------------------------------------------------------------------\u001b[0m",
      "\u001b[0;31mNameError\u001b[0m                                 Traceback (most recent call last)",
      "Input \u001b[0;32mIn [1]\u001b[0m, in \u001b[0;36m<module>\u001b[0;34m\u001b[0m\n\u001b[0;32m----> 1\u001b[0m \u001b[43mmodel\u001b[49m\n",
      "\u001b[0;31mNameError\u001b[0m: name 'model' is not defined"
     ]
    }
   ],
   "source": [
    "model"
   ]
  },
  {
   "cell_type": "code",
   "execution_count": 2,
   "id": "68cccb4b-c793-4f8b-8cca-880cd3e0780f",
   "metadata": {},
   "outputs": [
    {
     "ename": "NameError",
     "evalue": "name 'np' is not defined",
     "output_type": "error",
     "traceback": [
      "\u001b[0;31m---------------------------------------------------------------------------\u001b[0m",
      "\u001b[0;31mNameError\u001b[0m                                 Traceback (most recent call last)",
      "Input \u001b[0;32mIn [2]\u001b[0m, in \u001b[0;36m<module>\u001b[0;34m\u001b[0m\n\u001b[0;32m----> 1\u001b[0m \u001b[43mnp\u001b[49m\u001b[38;5;241m.\u001b[39mconcatenate([np\u001b[38;5;241m.\u001b[39mlinspace(\u001b[38;5;241m-\u001b[39m\u001b[38;5;241m1\u001b[39m \u001b[38;5;241m+\u001b[39m knrm\u001b[38;5;241m.\u001b[39mexact_sigma, \u001b[38;5;241m1\u001b[39m \u001b[38;5;241m-\u001b[39m knrm\u001b[38;5;241m.\u001b[39mexact_sigma, num\u001b[38;5;241m=\u001b[39mknrm\u001b[38;5;241m.\u001b[39mkernel_num \u001b[38;5;241m-\u001b[39m \u001b[38;5;241m1\u001b[39m), [\u001b[38;5;241m0\u001b[39m]])\n",
      "\u001b[0;31mNameError\u001b[0m: name 'np' is not defined"
     ]
    }
   ],
   "source": [
    "np.concatenate([np.linspace(-1 + knrm.exact_sigma, 1 - knrm.exact_sigma, num=knrm.kernel_num - 1), [0]])"
   ]
  },
  {
   "cell_type": "code",
   "execution_count": 22,
   "id": "6a62536b-f878-417a-94fe-cceda5e39501",
   "metadata": {},
   "outputs": [],
   "source": [
    "kernels = torch.nn.ModuleList()\n",
    "# допишите ваш код здесь\n",
    "kernel_list = np.concatenate([np.linspace(-1 + knrm.exact_sigma, 1 - knrm.exact_sigma, num=knrm.kernel_num - 1), [1]])\n",
    "for mu in kernel_list:\n",
    "    kernel = GaussianKernel(mu=mu, sigma=knrm.sigma)\n",
    "    kernels.append(kernel)"
   ]
  },
  {
   "cell_type": "code",
   "execution_count": 25,
   "id": "2da3e3c9-72dc-4ec4-b1db-56813ede52bf",
   "metadata": {},
   "outputs": [
    {
     "data": {
      "text/plain": [
       "GaussianKernel()"
      ]
     },
     "execution_count": 25,
     "metadata": {},
     "output_type": "execute_result"
    }
   ],
   "source": [
    "GaussianKernel(mu=mu, sigma=knrm.sigma)"
   ]
  },
  {
   "cell_type": "code",
   "execution_count": 58,
   "id": "1b98d9a0-f0af-40ab-b4ae-8984359af7cf",
   "metadata": {},
   "outputs": [],
   "source": [
    "#for i in range(len(query)):\n",
    "query_emb = torch.stack([\n",
    "    torch.stack([embeddings.weight[entity.vocab[word]] for word in query[i]]) \n",
    "    for q in query\n",
    "])\n",
    "doc_emb = torch.stack([\n",
    "    torch.stack([embeddings.weight[entity.vocab[word]] for word in doc[i]])\n",
    "    for d in doc\n",
    "])"
   ]
  },
  {
   "cell_type": "code",
   "execution_count": null,
   "id": "398fd150-ccee-4c35-8aec-d03bdc8477ef",
   "metadata": {},
   "outputs": [],
   "source": [
    "knrm.predict({'query': a['text_left'][:2].apply(lambda x: entity.simple_preproc(x)), 'document': a['text_right'][:2].apply(lambda x: entity.simple_preproc(x))})"
   ]
  },
  {
   "cell_type": "code",
   "execution_count": null,
   "id": "71c6f74c-54a5-41ae-8ff1-52072c43c19b",
   "metadata": {},
   "outputs": [],
   "source": []
  },
  {
   "cell_type": "code",
   "execution_count": 59,
   "id": "731a04ad-d816-40d3-a67f-5340701687f2",
   "metadata": {},
   "outputs": [
    {
     "data": {
      "text/plain": [
       "torch.Size([2, 14, 50])"
      ]
     },
     "execution_count": 59,
     "metadata": {},
     "output_type": "execute_result"
    }
   ],
   "source": [
    "query_emb.shape"
   ]
  },
  {
   "cell_type": "code",
   "execution_count": 60,
   "id": "e2d81066-5482-45ee-b777-5d4b5ad9fa00",
   "metadata": {},
   "outputs": [
    {
     "data": {
      "text/plain": [
       "torch.Size([2, 10, 50])"
      ]
     },
     "execution_count": 60,
     "metadata": {},
     "output_type": "execute_result"
    }
   ],
   "source": [
    "doc_emb.shape"
   ]
  },
  {
   "cell_type": "code",
   "execution_count": 63,
   "id": "bde71719-f022-4987-80c2-7df1e778b815",
   "metadata": {},
   "outputs": [
    {
     "data": {
      "text/plain": [
       "torch.Size([1, 2, 14, 50])"
      ]
     },
     "execution_count": 63,
     "metadata": {},
     "output_type": "execute_result"
    }
   ],
   "source": [
    "query_emb[None,:,:].shape"
   ]
  },
  {
   "cell_type": "code",
   "execution_count": 67,
   "id": "ca3adad7-8390-41fe-8213-77d0a20e64bd",
   "metadata": {},
   "outputs": [
    {
     "data": {
      "text/plain": [
       "torch.Size([2, 10, 1, 50])"
      ]
     },
     "execution_count": 67,
     "metadata": {},
     "output_type": "execute_result"
    }
   ],
   "source": [
    "doc_emb[:,:,None,:].shape"
   ]
  },
  {
   "cell_type": "code",
   "execution_count": 69,
   "id": "772f3240-b47c-4ecd-84ca-ef789dd60c31",
   "metadata": {},
   "outputs": [
    {
     "data": {
      "text/plain": [
       "torch.Size([2, 14, 10])"
      ]
     },
     "execution_count": 69,
     "metadata": {},
     "output_type": "execute_result"
    }
   ],
   "source": [
    "F.cosine_similarity(query_emb[:,:,None,:], doc_emb[:,None,:,:], dim=-1).shape"
   ]
  },
  {
   "cell_type": "code",
   "execution_count": 71,
   "id": "b6a0f4a1-e8b6-448a-86d6-a27ec5d35a28",
   "metadata": {},
   "outputs": [],
   "source": [
    "#entity.build_knrm_model()"
   ]
  },
  {
   "cell_type": "code",
   "execution_count": 35,
   "id": "4cb7e43e-d0b1-4fa7-834d-711f9915c4e3",
   "metadata": {},
   "outputs": [
    {
     "data": {
      "text/plain": [
       "[['100141', '75743', 2],\n",
       " ['100141', '100142', 2],\n",
       " ['100141', '525228', 0],\n",
       " ['100141', '160860', 0],\n",
       " ['100141', '205882', 0]]"
      ]
     },
     "execution_count": 35,
     "metadata": {},
     "output_type": "execute_result"
    }
   ],
   "source": [
    "entity.dev_pairs_for_ndcg[:5]"
   ]
  },
  {
   "cell_type": "code",
   "execution_count": 38,
   "id": "759a05f7-7602-4f21-bb0f-5629ed6866ca",
   "metadata": {},
   "outputs": [
    {
     "data": {
      "text/plain": [
       "'How is the life of a math student? Could you describe your own experiences?'"
      ]
     },
     "execution_count": 38,
     "metadata": {},
     "output_type": "execute_result"
    }
   ],
   "source": [
    "entity.idx_to_text_mapping_train['213221']"
   ]
  },
  {
   "cell_type": "code",
   "execution_count": 39,
   "id": "2104eac2-62f9-4b84-8924-646c77630fae",
   "metadata": {},
   "outputs": [
    {
     "ename": "NameError",
     "evalue": "name 'dev_pairs_for_ndcg' is not defined",
     "output_type": "error",
     "traceback": [
      "\u001b[0;31m---------------------------------------------------------------------------\u001b[0m",
      "\u001b[0;31mNameError\u001b[0m                                 Traceback (most recent call last)",
      "Input \u001b[0;32mIn [39]\u001b[0m, in \u001b[0;36m<module>\u001b[0;34m\u001b[0m\n\u001b[0;32m----> 1\u001b[0m \u001b[43mdev_pairs_for_ndcg\u001b[49m\n",
      "\u001b[0;31mNameError\u001b[0m: name 'dev_pairs_for_ndcg' is not defined"
     ]
    }
   ],
   "source": [
    "entitydev_pairs_for_ndcg"
   ]
  },
  {
   "cell_type": "code",
   "execution_count": null,
   "id": "ec76c327-b110-4075-b48d-65d47c06bd96",
   "metadata": {},
   "outputs": [],
   "source": [
    "query_emb = torch.stack([\n",
    "            torch.stack([self.embeddings.weight[entity.vocab[word]] for word in q]) \n",
    "            for q in query\n",
    "        ])"
   ]
  },
  {
   "cell_type": "code",
   "execution_count": 40,
   "id": "2bb11681-7866-4114-83de-dbf843695f7d",
   "metadata": {},
   "outputs": [
    {
     "data": {
      "text/plain": [
       "Parameter containing:\n",
       "tensor([[ 0.0000,  0.0000,  0.0000,  ...,  0.0000,  0.0000,  0.0000],\n",
       "        [ 0.0000,  0.0000,  0.0000,  ...,  0.0000,  0.0000,  0.0000],\n",
       "        [ 0.0195,  0.0861,  0.0411,  ..., -0.1484, -0.0738, -0.0545],\n",
       "        ...,\n",
       "        [-0.3321,  0.5584,  0.4364,  ...,  0.9613, -0.5368,  0.0657],\n",
       "        [ 2.0335,  0.4762, -0.8951,  ..., -0.2898, -0.3793, -0.0756],\n",
       "        [ 0.4789, -0.0984, -0.2946,  ...,  0.2410,  0.4327, -0.8582]])"
      ]
     },
     "execution_count": 40,
     "metadata": {},
     "output_type": "execute_result"
    }
   ],
   "source": [
    "knrm.embeddings.weight"
   ]
  },
  {
   "cell_type": "code",
   "execution_count": null,
   "id": "7908710c-d5ed-4f68-ae52-7d476bc75ccd",
   "metadata": {},
   "outputs": [],
   "source": [
    "[knrm.embeddings.weight[entity.vocab[word]] for word in q]"
   ]
  },
  {
   "cell_type": "markdown",
   "id": "a8872b15-bf19-4762-a62b-10d0ad801dcb",
   "metadata": {},
   "source": [
    "# 4"
   ]
  },
  {
   "cell_type": "code",
   "execution_count": 7,
   "id": "f43f9717-02dc-4956-a8aa-05fdaee6e77e",
   "metadata": {},
   "outputs": [],
   "source": [
    "val_dataset = ValPairsDataset(entity.dev_pairs_for_ndcg,\n",
    "              entity.idx_to_text_mapping_dev,\n",
    "              vocab=entity.vocab, oov_val=entity.vocab['OOV'],\n",
    "              preproc_func=entity.simple_preproc)"
   ]
  },
  {
   "cell_type": "code",
   "execution_count": 82,
   "id": "b2718e00-0fb9-45c1-b1ad-f2c298d4ab9c",
   "metadata": {},
   "outputs": [
    {
     "data": {
      "text/plain": [
       "31095"
      ]
     },
     "execution_count": 82,
     "metadata": {},
     "output_type": "execute_result"
    }
   ],
   "source": [
    "len(entity.dev_pairs_for_ndcg)"
   ]
  },
  {
   "cell_type": "code",
   "execution_count": 36,
   "id": "c2fabefe-12cb-4a7c-ba84-2381069a48e6",
   "metadata": {},
   "outputs": [],
   "source": [
    "#entity.idx_to_text_mapping_dev"
   ]
  },
  {
   "cell_type": "code",
   "execution_count": 32,
   "id": "ca9ed7a8-8dc2-4bfe-94a7-ba40f5074482",
   "metadata": {},
   "outputs": [
    {
     "data": {
      "text/plain": [
       "<solution_template.ValPairsDataset at 0x7fac0a6f10a0>"
      ]
     },
     "execution_count": 32,
     "metadata": {},
     "output_type": "execute_result"
    }
   ],
   "source": [
    "val_dataset"
   ]
  },
  {
   "cell_type": "code",
   "execution_count": 23,
   "id": "afaf0f34-d62e-42d0-9a32-902b33ee2254",
   "metadata": {},
   "outputs": [
    {
     "data": {
      "text/plain": [
       "[14659, 239068, 0]"
      ]
     },
     "execution_count": 23,
     "metadata": {},
     "output_type": "execute_result"
    }
   ],
   "source": [
    "val_dataset.index_pairs_or_triplets[5555]"
   ]
  },
  {
   "cell_type": "code",
   "execution_count": 24,
   "id": "a99c47b5-8dd3-4594-b8bc-deffc862b686",
   "metadata": {},
   "outputs": [
    {
     "data": {
      "text/plain": [
       "[14659, 351703, 0]"
      ]
     },
     "execution_count": 24,
     "metadata": {},
     "output_type": "execute_result"
    }
   ],
   "source": [
    "val_dataset.index_pairs_or_triplets[5557]"
   ]
  },
  {
   "cell_type": "code",
   "execution_count": 25,
   "id": "c76810be-65cb-46d6-98e0-1e3f2c0d4814",
   "metadata": {},
   "outputs": [
    {
     "data": {
      "text/plain": [
       "({'query': [24107,\n",
       "   24108,\n",
       "   24106,\n",
       "   25082,\n",
       "   24170,\n",
       "   24111,\n",
       "   24138,\n",
       "   24109,\n",
       "   24867,\n",
       "   24329,\n",
       "   24112,\n",
       "   24106,\n",
       "   24211,\n",
       "   0,\n",
       "   0,\n",
       "   0,\n",
       "   0,\n",
       "   0,\n",
       "   0,\n",
       "   0,\n",
       "   0,\n",
       "   0,\n",
       "   0,\n",
       "   0,\n",
       "   0,\n",
       "   0,\n",
       "   0,\n",
       "   0,\n",
       "   0,\n",
       "   0],\n",
       "  'document': [24113,\n",
       "   24119,\n",
       "   24110,\n",
       "   26784,\n",
       "   24123,\n",
       "   25183,\n",
       "   25237,\n",
       "   24150,\n",
       "   24476,\n",
       "   24617,\n",
       "   24149,\n",
       "   25849,\n",
       "   24122,\n",
       "   34569,\n",
       "   24110,\n",
       "   24163,\n",
       "   25179,\n",
       "   24112,\n",
       "   33022,\n",
       "   24112,\n",
       "   59190,\n",
       "   39046,\n",
       "   24248,\n",
       "   24286,\n",
       "   26606,\n",
       "   25237,\n",
       "   25939,\n",
       "   0,\n",
       "   0,\n",
       "   0]},\n",
       " 0)"
      ]
     },
     "execution_count": 25,
     "metadata": {},
     "output_type": "execute_result"
    }
   ],
   "source": [
    "val_dataset.__getitem__(5555)"
   ]
  },
  {
   "cell_type": "code",
   "execution_count": 26,
   "id": "2b5dd9e9-7bb2-44cb-a093-47fffdd83f8e",
   "metadata": {},
   "outputs": [
    {
     "data": {
      "text/plain": [
       "1"
      ]
     },
     "execution_count": 26,
     "metadata": {},
     "output_type": "execute_result"
    }
   ],
   "source": [
    "entity.vocab['OOV']"
   ]
  },
  {
   "cell_type": "code",
   "execution_count": 39,
   "id": "b5413b06-a301-4dc7-88ca-b34ab043f377",
   "metadata": {},
   "outputs": [
    {
     "data": {
      "text/plain": [
       "['100141', '75743', 2]"
      ]
     },
     "execution_count": 39,
     "metadata": {},
     "output_type": "execute_result"
    }
   ],
   "source": [
    "val_dataset.index_pairs_or_triplets[0]"
   ]
  },
  {
   "cell_type": "code",
   "execution_count": 27,
   "id": "c95dfc81-2359-4f64-ab7a-73d2a36b4920",
   "metadata": {},
   "outputs": [
    {
     "name": "stdout",
     "output_type": "stream",
     "text": [
      "<solution_template.ValPairsDataset object at 0x7fceaf277d90>\n"
     ]
    }
   ],
   "source": [
    "print(val_dataset)"
   ]
  },
  {
   "cell_type": "code",
   "execution_count": 19,
   "id": "905c0740-511e-42e6-bee4-e78fb472a9ce",
   "metadata": {},
   "outputs": [
    {
     "data": {
      "text/plain": [
       "[24161,\n",
       " 24119,\n",
       " 24110,\n",
       " 24138,\n",
       " 24135,\n",
       " 37531,\n",
       " 26423,\n",
       " 24737,\n",
       " 24112,\n",
       " 25118,\n",
       " 24118,\n",
       " 25282,\n",
       " 27255,\n",
       " 0,\n",
       " 0,\n",
       " 0,\n",
       " 0,\n",
       " 0,\n",
       " 0,\n",
       " 0,\n",
       " 0,\n",
       " 0,\n",
       " 0,\n",
       " 0,\n",
       " 0,\n",
       " 0,\n",
       " 0,\n",
       " 0,\n",
       " 0,\n",
       " 0]"
      ]
     },
     "execution_count": 19,
     "metadata": {},
     "output_type": "execute_result"
    }
   ],
   "source": [
    "(val_dataset._convert_text_idx_to_token_idxs(5557))"
   ]
  },
  {
   "cell_type": "code",
   "execution_count": 160,
   "id": "a0469ae6-83d7-4040-930a-783457e72a12",
   "metadata": {},
   "outputs": [
    {
     "data": {
      "text/plain": [
       "array([-1.        , -0.9047619 , -0.80952381, -0.71428571, -0.61904762,\n",
       "       -0.52380952, -0.42857143, -0.33333333, -0.23809524, -0.14285714,\n",
       "       -0.04761905,  0.04761905,  0.14285714,  0.23809524,  0.33333333,\n",
       "        0.42857143,  0.52380952,  0.61904762,  0.71428571,  0.80952381,\n",
       "        0.9047619 ,  1.        ,  1.        ])"
      ]
     },
     "execution_count": 160,
     "metadata": {},
     "output_type": "execute_result"
    }
   ],
   "source": [
    "np.concatenate([np.linspace(-1, 1, num=11*2), [1]])"
   ]
  },
  {
   "cell_type": "code",
   "execution_count": null,
   "id": "5b17011b-a217-4747-8dfd-c19d7944cdd6",
   "metadata": {},
   "outputs": [],
   "source": [
    "[-0.9, -0.7, -0.5, -0.3, -0.1, 0.1, 0.3, 0.5, 0.7, 0.9, 1]."
   ]
  },
  {
   "cell_type": "code",
   "execution_count": 181,
   "id": "cfdf1564-fe62-4713-a9ce-2aee0b61936a",
   "metadata": {},
   "outputs": [
    {
     "data": {
      "text/plain": [
       "array([-0.9, -0.7, -0.5, -0.3, -0.1,  0.1,  0.3,  0.5,  0.7,  0.9,  1. ])"
      ]
     },
     "execution_count": 181,
     "metadata": {},
     "output_type": "execute_result"
    }
   ],
   "source": [
    "np.concatenate([[val for i, val in enumerate(np.linspace(-1, 1, num=11+10)) if i%2==1], [1]])"
   ]
  },
  {
   "cell_type": "code",
   "execution_count": 94,
   "id": "47972f78-c617-4684-977b-ca5bb88b23c7",
   "metadata": {},
   "outputs": [
    {
     "name": "stdout",
     "output_type": "stream",
     "text": [
      "out torch.Size([1024])\n"
     ]
    }
   ],
   "source": [
    "i=0\n",
    "for batch in (entity.val_dataloader):\n",
    "    inp_1, y = batch\n",
    "    \n",
    "    #print(inp_1)\n",
    "    preds = knrm.predict(inp_1)\n",
    "    if i ==0:\n",
    "        break\n",
    "    preds_np = preds.detach().numpy()\n",
    "    all_preds.append(preds_np)"
   ]
  },
  {
   "cell_type": "code",
   "execution_count": 98,
   "id": "12dd419f-1e91-4441-babb-6cc474603458",
   "metadata": {},
   "outputs": [],
   "source": [
    "#list(preds)"
   ]
  },
  {
   "cell_type": "code",
   "execution_count": 188,
   "id": "a246b387-cdd3-462d-adf5-f3d6ef123d2c",
   "metadata": {},
   "outputs": [
    {
     "data": {
      "text/plain": [
       "{'query': tensor([[24107, 24116, 24106,  ..., 24112, 24575,     0],\n",
       "         [24107, 24116, 24106,  ..., 24112, 24575,     0],\n",
       "         [24107, 24116, 24106,  ..., 24112, 24575,     0],\n",
       "         ...,\n",
       "         [24107, 24119, 24131,  ...,     0,     0,     0],\n",
       "         [24107, 24119, 24131,  ...,     0,     0,     0],\n",
       "         [24107, 24119, 24131,  ...,     0,     0,     0]]),\n",
       " 'document': tensor([[24107, 24116, 24106,  ..., 24112, 28627,     0],\n",
       "         [24107, 24116, 24106,  ..., 24112, 31270,     0],\n",
       "         [24113, 24115, 24110,  ...,     0,     0,     0],\n",
       "         ...,\n",
       "         [24107, 24128, 24106,  ...,     0,     0,     0],\n",
       "         [24113, 24119, 24157,  ...,     0,     0,     0],\n",
       "         [24107, 24116, 24136,  ...,     0,     0,     0]])}"
      ]
     },
     "execution_count": 188,
     "metadata": {},
     "output_type": "execute_result"
    }
   ],
   "source": [
    "inp_1"
   ]
  },
  {
   "cell_type": "code",
   "execution_count": 10,
   "id": "b7f6cb24-2e9e-400c-bd55-995913971b2c",
   "metadata": {},
   "outputs": [],
   "source": [
    "query, doc = inp_1['query'], inp_1['document']\n",
    "matching_matrix = knrm._get_matching_matrix(query, doc)"
   ]
  },
  {
   "cell_type": "code",
   "execution_count": null,
   "id": "3fde9590-760d-42d0-9c16-b042bccdc392",
   "metadata": {},
   "outputs": [],
   "source": [
    "knrm.embeddings.weight"
   ]
  },
  {
   "cell_type": "code",
   "execution_count": 26,
   "id": "550d3074-ac9e-46e1-aeee-94cdacb7f780",
   "metadata": {},
   "outputs": [
    {
     "data": {
      "text/plain": [
       "tensor([24107, 24116, 24106, 25005, 24111, 24267, 24140, 25255, 24139, 24109,\n",
       "        24296, 24539, 24111, 24109, 24866, 24329, 24112, 24106, 24211, 24113,\n",
       "        24115, 24168, 24439, 24111, 24106, 26243, 25005, 24112, 24575,     0])"
      ]
     },
     "execution_count": 26,
     "metadata": {},
     "output_type": "execute_result"
    }
   ],
   "source": [
    "query[0]"
   ]
  },
  {
   "cell_type": "code",
   "execution_count": 25,
   "id": "2bf9cf91-3812-44bb-b1e7-db28d11b4930",
   "metadata": {},
   "outputs": [
    {
     "data": {
      "text/plain": [
       "'what'"
      ]
     },
     "execution_count": 25,
     "metadata": {},
     "output_type": "execute_result"
    }
   ],
   "source": [
    "list(entity.vocab.keys())[24107]"
   ]
  },
  {
   "cell_type": "code",
   "execution_count": 61,
   "id": "9c008ecb-4e26-4555-9e4e-ea4a23f346d0",
   "metadata": {},
   "outputs": [
    {
     "data": {
      "text/plain": [
       "['what',\n",
       " 'are',\n",
       " 'the',\n",
       " 'laws',\n",
       " 'to',\n",
       " 'change',\n",
       " 'your',\n",
       " 'status',\n",
       " 'from',\n",
       " 'a',\n",
       " 'student',\n",
       " 'visa',\n",
       " 'to',\n",
       " 'a',\n",
       " 'green',\n",
       " 'card',\n",
       " 'in',\n",
       " 'the',\n",
       " 'us',\n",
       " 'how',\n",
       " 'do',\n",
       " 'they',\n",
       " 'compare',\n",
       " 'to',\n",
       " 'the',\n",
       " 'immigration',\n",
       " 'laws',\n",
       " 'in',\n",
       " 'canada',\n",
       " 'PAD']"
      ]
     },
     "execution_count": 61,
     "metadata": {},
     "output_type": "execute_result"
    }
   ],
   "source": [
    "[list(entity.vocab.keys())[i] for i in query[0]]"
   ]
  },
  {
   "cell_type": "code",
   "execution_count": 65,
   "id": "8d612944-360b-4392-9ba4-60ce24958a95",
   "metadata": {},
   "outputs": [
    {
     "name": "stdout",
     "output_type": "stream",
     "text": [
      "what are the laws to change your status from a student visa to a green card in the us how do they compare to the immigration laws in argentina PAD\n",
      "what are the laws to change your status from a student visa to a green card in the us how do they compare to the immigration laws in chile PAD\n",
      "how do i find a percentage of two numbers PAD PAD PAD PAD PAD PAD PAD PAD PAD PAD PAD PAD PAD PAD PAD PAD PAD PAD PAD PAD PAD\n",
      "what causes shoulder pain to be worse at night PAD PAD PAD PAD PAD PAD PAD PAD PAD PAD PAD PAD PAD PAD PAD PAD PAD PAD PAD PAD PAD\n",
      "what is a hypertonic solution what are some examples PAD PAD PAD PAD PAD PAD PAD PAD PAD PAD PAD PAD PAD PAD PAD PAD PAD PAD PAD PAD PAD\n",
      "what is a good comeback when a girl calls you handsome and you re a girl PAD PAD PAD PAD PAD PAD PAD PAD PAD PAD PAD PAD PAD PAD\n",
      "i ’ m excelling at my job and i ’ m still not getting promoted what should i do PAD PAD PAD PAD PAD PAD PAD PAD PAD PAD PAD\n",
      "is it right to leave your parents for love PAD PAD PAD PAD PAD PAD PAD PAD PAD PAD PAD PAD PAD PAD PAD PAD PAD PAD PAD PAD PAD\n",
      "which is the best gaming laptop to buy under 60k PAD PAD PAD PAD PAD PAD PAD PAD PAD PAD PAD PAD PAD PAD PAD PAD PAD PAD PAD PAD\n",
      "do successful people drink alcohol PAD PAD PAD PAD PAD PAD PAD PAD PAD PAD PAD PAD PAD PAD PAD PAD PAD PAD PAD PAD PAD PAD PAD PAD PAD\n"
     ]
    }
   ],
   "source": [
    "for j in range(10):\n",
    "    print(' '.join([list(entity.vocab.keys())[i] for i in doc[j]]))"
   ]
  },
  {
   "cell_type": "code",
   "execution_count": 96,
   "id": "45e46198-e192-4aa8-aa81-7572b884abb4",
   "metadata": {},
   "outputs": [
    {
     "name": "stdout",
     "output_type": "stream",
     "text": [
      "what are the laws to change your status from a student visa to a green card in the us how do they compare to the immigration laws in canada PAD\n",
      "what are the laws to change your status from a student visa to a green card in the us how do they compare to the immigration laws in canada PAD\n",
      "what are the laws to change your status from a student visa to a green card in the us how do they compare to the immigration laws in canada PAD\n",
      "what are the laws to change your status from a student visa to a green card in the us how do they compare to the immigration laws in canada PAD\n",
      "what are the laws to change your status from a student visa to a green card in the us how do they compare to the immigration laws in canada PAD\n",
      "what are the laws to change your status from a student visa to a green card in the us how do they compare to the immigration laws in canada PAD\n",
      "what are the laws to change your status from a student visa to a green card in the us how do they compare to the immigration laws in canada PAD\n",
      "what are the laws to change your status from a student visa to a green card in the us how do they compare to the immigration laws in canada PAD\n",
      "what are the laws to change your status from a student visa to a green card in the us how do they compare to the immigration laws in canada PAD\n",
      "what are the laws to change your status from a student visa to a green card in the us how do they compare to the immigration laws in canada PAD\n"
     ]
    }
   ],
   "source": [
    "for j in range(10):\n",
    "    print(' '.join([list(entity.vocab.keys())[i] for i in query[j]]))"
   ]
  },
  {
   "cell_type": "code",
   "execution_count": 34,
   "id": "8cc62cf9-0f4f-40ba-9dcc-645b65393a96",
   "metadata": {},
   "outputs": [
    {
     "data": {
      "text/plain": [
       "array([ 0.45323 ,  0.059811, -0.10577 , -0.333   ,  0.72359 , -0.08717 ,\n",
       "       -0.61053 , -0.037695, -0.30945 ,  0.21805 , -0.43605 ,  0.47318 ,\n",
       "       -0.76866 , -0.2713  ,  1.1042  ,  0.59141 ,  0.56962 , -0.18678 ,\n",
       "        0.14867 , -0.67292 , -0.34672 ,  0.52284 ,  0.22959 , -0.072014,\n",
       "        0.93967 , -2.3985  , -1.3238  ,  0.28698 ,  0.75509 , -0.76522 ,\n",
       "        3.3425  ,  0.17233 , -0.51803 , -0.8297  , -0.29333 , -0.50076 ,\n",
       "       -0.15228 ,  0.098973,  0.18146 , -0.1742  , -0.40666 ,  0.20348 ,\n",
       "       -0.011788,  0.48252 ,  0.024598,  0.34064 , -0.084724,  0.5324  ,\n",
       "       -0.25103 ,  0.62546 ])"
      ]
     },
     "execution_count": 34,
     "metadata": {},
     "output_type": "execute_result"
    }
   ],
   "source": [
    "matrix[24107]"
   ]
  },
  {
   "cell_type": "code",
   "execution_count": 67,
   "id": "9478f226-8455-4d46-b14f-50bde662ab2f",
   "metadata": {},
   "outputs": [
    {
     "data": {
      "text/plain": [
       "tensor([[0.9634, 0.8908, 0.8926, 0.8847, 0.6997, 0.3026, 0.6849, 0.5669, 0.6352,\n",
       "         0.0000, 0.0000, 0.0000, 0.0000, 0.0000, 0.0000, 0.0000, 0.0000, 0.0000,\n",
       "         0.0000, 0.0000, 0.0000, 0.0000, 0.0000, 0.0000, 0.0000, 0.0000, 0.0000,\n",
       "         0.0000, 0.0000, 0.0000],\n",
       "        [0.7968, 0.7752, 0.6204, 0.7838, 0.5729, 0.3908, 0.7279, 0.7870, 0.7672,\n",
       "         0.0000, 0.0000, 0.0000, 0.0000, 0.0000, 0.0000, 0.0000, 0.0000, 0.0000,\n",
       "         0.0000, 0.0000, 0.0000, 0.0000, 0.0000, 0.0000, 0.0000, 0.0000, 0.0000,\n",
       "         0.0000, 0.0000, 0.0000],\n",
       "        [0.6770, 0.6325, 0.6265, 0.6602, 0.8517, 0.3446, 0.9026, 0.8052, 0.6497,\n",
       "         0.0000, 0.0000, 0.0000, 0.0000, 0.0000, 0.0000, 0.0000, 0.0000, 0.0000,\n",
       "         0.0000, 0.0000, 0.0000, 0.0000, 0.0000, 0.0000, 0.0000, 0.0000, 0.0000,\n",
       "         0.0000, 0.0000, 0.0000],\n",
       "        [0.5102, 0.5174, 0.3409, 0.4233, 0.4424, 0.2618, 0.5438, 0.3996, 0.4108,\n",
       "         0.0000, 0.0000, 0.0000, 0.0000, 0.0000, 0.0000, 0.0000, 0.0000, 0.0000,\n",
       "         0.0000, 0.0000, 0.0000, 0.0000, 0.0000, 0.0000, 0.0000, 0.0000, 0.0000,\n",
       "         0.0000, 0.0000, 0.0000],\n",
       "        [0.7924, 0.7869, 0.7317, 0.7893, 0.7695, 0.4224, 0.8166, 0.7763, 0.6388,\n",
       "         0.0000, 0.0000, 0.0000, 0.0000, 0.0000, 0.0000, 0.0000, 0.0000, 0.0000,\n",
       "         0.0000, 0.0000, 0.0000, 0.0000, 0.0000, 0.0000, 0.0000, 0.0000, 0.0000,\n",
       "         0.0000, 0.0000, 0.0000],\n",
       "        [0.8303, 0.7935, 0.6903, 0.7409, 0.6729, 0.4409, 0.6939, 0.5448, 0.6807,\n",
       "         0.0000, 0.0000, 0.0000, 0.0000, 0.0000, 0.0000, 0.0000, 0.0000, 0.0000,\n",
       "         0.0000, 0.0000, 0.0000, 0.0000, 0.0000, 0.0000, 0.0000, 0.0000, 0.0000,\n",
       "         0.0000, 0.0000, 0.0000],\n",
       "        [0.7774, 0.7865, 0.7831, 0.7944, 0.6206, 0.3055, 0.4905, 0.4252, 0.5529,\n",
       "         0.0000, 0.0000, 0.0000, 0.0000, 0.0000, 0.0000, 0.0000, 0.0000, 0.0000,\n",
       "         0.0000, 0.0000, 0.0000, 0.0000, 0.0000, 0.0000, 0.0000, 0.0000, 0.0000,\n",
       "         0.0000, 0.0000, 0.0000],\n",
       "        [0.5000, 0.4814, 0.3915, 0.5250, 0.5740, 0.4163, 0.6186, 0.4588, 0.5330,\n",
       "         0.0000, 0.0000, 0.0000, 0.0000, 0.0000, 0.0000, 0.0000, 0.0000, 0.0000,\n",
       "         0.0000, 0.0000, 0.0000, 0.0000, 0.0000, 0.0000, 0.0000, 0.0000, 0.0000,\n",
       "         0.0000, 0.0000, 0.0000],\n",
       "        [0.6201, 0.5759, 0.5807, 0.6019, 0.7606, 0.4430, 0.8505, 0.8060, 0.6167,\n",
       "         0.0000, 0.0000, 0.0000, 0.0000, 0.0000, 0.0000, 0.0000, 0.0000, 0.0000,\n",
       "         0.0000, 0.0000, 0.0000, 0.0000, 0.0000, 0.0000, 0.0000, 0.0000, 0.0000,\n",
       "         0.0000, 0.0000, 0.0000],\n",
       "        [0.6474, 0.5661, 0.6218, 0.6656, 1.0000, 0.4594, 0.7982, 0.7202, 0.5369,\n",
       "         0.0000, 0.0000, 0.0000, 0.0000, 0.0000, 0.0000, 0.0000, 0.0000, 0.0000,\n",
       "         0.0000, 0.0000, 0.0000, 0.0000, 0.0000, 0.0000, 0.0000, 0.0000, 0.0000,\n",
       "         0.0000, 0.0000, 0.0000],\n",
       "        [0.4813, 0.4467, 0.4073, 0.4512, 0.5870, 0.4365, 0.5684, 0.5239, 0.4377,\n",
       "         0.0000, 0.0000, 0.0000, 0.0000, 0.0000, 0.0000, 0.0000, 0.0000, 0.0000,\n",
       "         0.0000, 0.0000, 0.0000, 0.0000, 0.0000, 0.0000, 0.0000, 0.0000, 0.0000,\n",
       "         0.0000, 0.0000, 0.0000],\n",
       "        [0.2659, 0.3212, 0.1940, 0.2865, 0.2665, 0.1948, 0.2534, 0.2676, 0.2644,\n",
       "         0.0000, 0.0000, 0.0000, 0.0000, 0.0000, 0.0000, 0.0000, 0.0000, 0.0000,\n",
       "         0.0000, 0.0000, 0.0000, 0.0000, 0.0000, 0.0000, 0.0000, 0.0000, 0.0000,\n",
       "         0.0000, 0.0000, 0.0000],\n",
       "        [0.7924, 0.7869, 0.7317, 0.7893, 0.7695, 0.4224, 0.8166, 0.7763, 0.6388,\n",
       "         0.0000, 0.0000, 0.0000, 0.0000, 0.0000, 0.0000, 0.0000, 0.0000, 0.0000,\n",
       "         0.0000, 0.0000, 0.0000, 0.0000, 0.0000, 0.0000, 0.0000, 0.0000, 0.0000,\n",
       "         0.0000, 0.0000, 0.0000],\n",
       "        [0.6474, 0.5661, 0.6218, 0.6656, 1.0000, 0.4594, 0.7982, 0.7202, 0.5369,\n",
       "         0.0000, 0.0000, 0.0000, 0.0000, 0.0000, 0.0000, 0.0000, 0.0000, 0.0000,\n",
       "         0.0000, 0.0000, 0.0000, 0.0000, 0.0000, 0.0000, 0.0000, 0.0000, 0.0000,\n",
       "         0.0000, 0.0000, 0.0000],\n",
       "        [0.4621, 0.4771, 0.4726, 0.5004, 0.6645, 0.3156, 0.5270, 0.5452, 0.3773,\n",
       "         0.0000, 0.0000, 0.0000, 0.0000, 0.0000, 0.0000, 0.0000, 0.0000, 0.0000,\n",
       "         0.0000, 0.0000, 0.0000, 0.0000, 0.0000, 0.0000, 0.0000, 0.0000, 0.0000,\n",
       "         0.0000, 0.0000, 0.0000],\n",
       "        [0.4501, 0.4805, 0.4215, 0.5242, 0.5715, 0.4734, 0.4132, 0.5078, 0.5855,\n",
       "         0.0000, 0.0000, 0.0000, 0.0000, 0.0000, 0.0000, 0.0000, 0.0000, 0.0000,\n",
       "         0.0000, 0.0000, 0.0000, 0.0000, 0.0000, 0.0000, 0.0000, 0.0000, 0.0000,\n",
       "         0.0000, 0.0000, 0.0000],\n",
       "        [0.6022, 0.5457, 0.5739, 0.5793, 0.7958, 0.4227, 0.9093, 0.7859, 0.5814,\n",
       "         0.0000, 0.0000, 0.0000, 0.0000, 0.0000, 0.0000, 0.0000, 0.0000, 0.0000,\n",
       "         0.0000, 0.0000, 0.0000, 0.0000, 0.0000, 0.0000, 0.0000, 0.0000, 0.0000,\n",
       "         0.0000, 0.0000, 0.0000],\n",
       "        [0.6770, 0.6325, 0.6265, 0.6602, 0.8517, 0.3446, 0.9026, 0.8052, 0.6497,\n",
       "         0.0000, 0.0000, 0.0000, 0.0000, 0.0000, 0.0000, 0.0000, 0.0000, 0.0000,\n",
       "         0.0000, 0.0000, 0.0000, 0.0000, 0.0000, 0.0000, 0.0000, 0.0000, 0.0000,\n",
       "         0.0000, 0.0000, 0.0000],\n",
       "        [0.6649, 0.6119, 0.5832, 0.6217, 0.5899, 0.3937, 0.5911, 0.5854, 0.5298,\n",
       "         0.0000, 0.0000, 0.0000, 0.0000, 0.0000, 0.0000, 0.0000, 0.0000, 0.0000,\n",
       "         0.0000, 0.0000, 0.0000, 0.0000, 0.0000, 0.0000, 0.0000, 0.0000, 0.0000,\n",
       "         0.0000, 0.0000, 0.0000],\n",
       "        [1.0000, 0.9092, 0.8597, 0.9311, 0.6474, 0.3003, 0.6486, 0.5909, 0.6573,\n",
       "         0.0000, 0.0000, 0.0000, 0.0000, 0.0000, 0.0000, 0.0000, 0.0000, 0.0000,\n",
       "         0.0000, 0.0000, 0.0000, 0.0000, 0.0000, 0.0000, 0.0000, 0.0000, 0.0000,\n",
       "         0.0000, 0.0000, 0.0000],\n",
       "        [0.9092, 1.0000, 0.8812, 0.8690, 0.5661, 0.3079, 0.5643, 0.5375, 0.6215,\n",
       "         0.0000, 0.0000, 0.0000, 0.0000, 0.0000, 0.0000, 0.0000, 0.0000, 0.0000,\n",
       "         0.0000, 0.0000, 0.0000, 0.0000, 0.0000, 0.0000, 0.0000, 0.0000, 0.0000,\n",
       "         0.0000, 0.0000, 0.0000],\n",
       "        [0.8829, 0.8779, 0.8268, 0.8659, 0.6580, 0.3511, 0.7098, 0.7679, 0.7060,\n",
       "         0.0000, 0.0000, 0.0000, 0.0000, 0.0000, 0.0000, 0.0000, 0.0000, 0.0000,\n",
       "         0.0000, 0.0000, 0.0000, 0.0000, 0.0000, 0.0000, 0.0000, 0.0000, 0.0000,\n",
       "         0.0000, 0.0000, 0.0000],\n",
       "        [0.7513, 0.7473, 0.6144, 0.6940, 0.3073, 0.4377, 0.3953, 0.3340, 0.7075,\n",
       "         0.0000, 0.0000, 0.0000, 0.0000, 0.0000, 0.0000, 0.0000, 0.0000, 0.0000,\n",
       "         0.0000, 0.0000, 0.0000, 0.0000, 0.0000, 0.0000, 0.0000, 0.0000, 0.0000,\n",
       "         0.0000, 0.0000, 0.0000],\n",
       "        [0.7924, 0.7869, 0.7317, 0.7893, 0.7695, 0.4224, 0.8166, 0.7763, 0.6388,\n",
       "         0.0000, 0.0000, 0.0000, 0.0000, 0.0000, 0.0000, 0.0000, 0.0000, 0.0000,\n",
       "         0.0000, 0.0000, 0.0000, 0.0000, 0.0000, 0.0000, 0.0000, 0.0000, 0.0000,\n",
       "         0.0000, 0.0000, 0.0000],\n",
       "        [0.6770, 0.6325, 0.6265, 0.6602, 0.8517, 0.3446, 0.9026, 0.8052, 0.6497,\n",
       "         0.0000, 0.0000, 0.0000, 0.0000, 0.0000, 0.0000, 0.0000, 0.0000, 0.0000,\n",
       "         0.0000, 0.0000, 0.0000, 0.0000, 0.0000, 0.0000, 0.0000, 0.0000, 0.0000,\n",
       "         0.0000, 0.0000, 0.0000],\n",
       "        [0.4529, 0.3933, 0.2120, 0.4172, 0.4567, 0.3295, 0.4540, 0.3823, 0.4294,\n",
       "         0.0000, 0.0000, 0.0000, 0.0000, 0.0000, 0.0000, 0.0000, 0.0000, 0.0000,\n",
       "         0.0000, 0.0000, 0.0000, 0.0000, 0.0000, 0.0000, 0.0000, 0.0000, 0.0000,\n",
       "         0.0000, 0.0000, 0.0000],\n",
       "        [0.5102, 0.5174, 0.3409, 0.4233, 0.4424, 0.2618, 0.5438, 0.3996, 0.4108,\n",
       "         0.0000, 0.0000, 0.0000, 0.0000, 0.0000, 0.0000, 0.0000, 0.0000, 0.0000,\n",
       "         0.0000, 0.0000, 0.0000, 0.0000, 0.0000, 0.0000, 0.0000, 0.0000, 0.0000,\n",
       "         0.0000, 0.0000, 0.0000],\n",
       "        [0.6022, 0.5457, 0.5739, 0.5793, 0.7958, 0.4227, 0.9093, 0.7859, 0.5814,\n",
       "         0.0000, 0.0000, 0.0000, 0.0000, 0.0000, 0.0000, 0.0000, 0.0000, 0.0000,\n",
       "         0.0000, 0.0000, 0.0000, 0.0000, 0.0000, 0.0000, 0.0000, 0.0000, 0.0000,\n",
       "         0.0000, 0.0000, 0.0000],\n",
       "        [0.3565, 0.3749, 0.2764, 0.3700, 0.4306, 0.3586, 0.5602, 0.5090, 0.3947,\n",
       "         0.0000, 0.0000, 0.0000, 0.0000, 0.0000, 0.0000, 0.0000, 0.0000, 0.0000,\n",
       "         0.0000, 0.0000, 0.0000, 0.0000, 0.0000, 0.0000, 0.0000, 0.0000, 0.0000,\n",
       "         0.0000, 0.0000, 0.0000],\n",
       "        [0.0000, 0.0000, 0.0000, 0.0000, 0.0000, 0.0000, 0.0000, 0.0000, 0.0000,\n",
       "         0.0000, 0.0000, 0.0000, 0.0000, 0.0000, 0.0000, 0.0000, 0.0000, 0.0000,\n",
       "         0.0000, 0.0000, 0.0000, 0.0000, 0.0000, 0.0000, 0.0000, 0.0000, 0.0000,\n",
       "         0.0000, 0.0000, 0.0000]])"
      ]
     },
     "execution_count": 67,
     "metadata": {},
     "output_type": "execute_result"
    }
   ],
   "source": [
    "matching_matrix[2]"
   ]
  },
  {
   "cell_type": "code",
   "execution_count": 36,
   "id": "86c1bf8e-123f-4545-bbb6-6bccb911e206",
   "metadata": {},
   "outputs": [],
   "source": [
    "query_emb  = torch.stack([\n",
    "            torch.stack([knrm.embeddings.weight[idx] for idx in q]) \n",
    "            for q in query\n",
    "        ])#[:,:,None,:]#.shape\n",
    "doc_emb  = torch.stack([\n",
    "            torch.stack([knrm.embeddings.weight[idx] for idx in q]) \n",
    "            for q in doc\n",
    "        ])#[:,:,None,:]#.shape"
   ]
  },
  {
   "cell_type": "code",
   "execution_count": 37,
   "id": "419ad5ac-5669-47be-9ba7-e0eba473a236",
   "metadata": {},
   "outputs": [
    {
     "data": {
      "text/plain": [
       "tensor([[[ 0.4532,  0.0598, -0.1058,  ...,  0.5324, -0.2510,  0.6255],\n",
       "         [ 0.9619,  0.0125,  0.2173,  ...,  0.1403, -0.3847, -0.3871],\n",
       "         [ 0.4180,  0.2497, -0.4124,  ..., -0.1841, -0.1151, -0.7858],\n",
       "         ...,\n",
       "         [ 0.3304,  0.2500, -0.6087,  ..., -0.5070, -0.0273, -0.5329],\n",
       "         [-0.7249,  0.4052, -0.3589,  ..., -0.1103,  0.0151, -0.0369],\n",
       "         [ 0.0000,  0.0000,  0.0000,  ...,  0.0000,  0.0000,  0.0000]],\n",
       "\n",
       "        [[ 0.4532,  0.0598, -0.1058,  ...,  0.5324, -0.2510,  0.6255],\n",
       "         [ 0.9619,  0.0125,  0.2173,  ...,  0.1403, -0.3847, -0.3871],\n",
       "         [ 0.4180,  0.2497, -0.4124,  ..., -0.1841, -0.1151, -0.7858],\n",
       "         ...,\n",
       "         [ 0.3304,  0.2500, -0.6087,  ..., -0.5070, -0.0273, -0.5329],\n",
       "         [-0.7249,  0.4052, -0.3589,  ..., -0.1103,  0.0151, -0.0369],\n",
       "         [ 0.0000,  0.0000,  0.0000,  ...,  0.0000,  0.0000,  0.0000]],\n",
       "\n",
       "        [[ 0.4532,  0.0598, -0.1058,  ...,  0.5324, -0.2510,  0.6255],\n",
       "         [ 0.9619,  0.0125,  0.2173,  ...,  0.1403, -0.3847, -0.3871],\n",
       "         [ 0.4180,  0.2497, -0.4124,  ..., -0.1841, -0.1151, -0.7858],\n",
       "         ...,\n",
       "         [ 0.3304,  0.2500, -0.6087,  ..., -0.5070, -0.0273, -0.5329],\n",
       "         [-0.7249,  0.4052, -0.3589,  ..., -0.1103,  0.0151, -0.0369],\n",
       "         [ 0.0000,  0.0000,  0.0000,  ...,  0.0000,  0.0000,  0.0000]],\n",
       "\n",
       "        ...,\n",
       "\n",
       "        [[ 0.4532,  0.0598, -0.1058,  ...,  0.5324, -0.2510,  0.6255],\n",
       "         [ 0.8052,  0.3712,  0.5593,  ..., -0.1895, -0.2090,  0.4761],\n",
       "         [ 0.9110, -0.2287,  0.2077,  ...,  0.1669, -0.0501,  0.1924],\n",
       "         ...,\n",
       "         [ 0.0000,  0.0000,  0.0000,  ...,  0.0000,  0.0000,  0.0000],\n",
       "         [ 0.0000,  0.0000,  0.0000,  ...,  0.0000,  0.0000,  0.0000],\n",
       "         [ 0.0000,  0.0000,  0.0000,  ...,  0.0000,  0.0000,  0.0000]],\n",
       "\n",
       "        [[ 0.4532,  0.0598, -0.1058,  ...,  0.5324, -0.2510,  0.6255],\n",
       "         [ 0.8052,  0.3712,  0.5593,  ..., -0.1895, -0.2090,  0.4761],\n",
       "         [ 0.9110, -0.2287,  0.2077,  ...,  0.1669, -0.0501,  0.1924],\n",
       "         ...,\n",
       "         [ 0.0000,  0.0000,  0.0000,  ...,  0.0000,  0.0000,  0.0000],\n",
       "         [ 0.0000,  0.0000,  0.0000,  ...,  0.0000,  0.0000,  0.0000],\n",
       "         [ 0.0000,  0.0000,  0.0000,  ...,  0.0000,  0.0000,  0.0000]],\n",
       "\n",
       "        [[ 0.4532,  0.0598, -0.1058,  ...,  0.5324, -0.2510,  0.6255],\n",
       "         [ 0.8052,  0.3712,  0.5593,  ..., -0.1895, -0.2090,  0.4761],\n",
       "         [ 0.9110, -0.2287,  0.2077,  ...,  0.1669, -0.0501,  0.1924],\n",
       "         ...,\n",
       "         [ 0.0000,  0.0000,  0.0000,  ...,  0.0000,  0.0000,  0.0000],\n",
       "         [ 0.0000,  0.0000,  0.0000,  ...,  0.0000,  0.0000,  0.0000],\n",
       "         [ 0.0000,  0.0000,  0.0000,  ...,  0.0000,  0.0000,  0.0000]]])"
      ]
     },
     "execution_count": 37,
     "metadata": {},
     "output_type": "execute_result"
    }
   ],
   "source": [
    "query_emb"
   ]
  },
  {
   "cell_type": "code",
   "execution_count": 43,
   "id": "89e10d05-9565-488d-9f98-ac58c6d3479e",
   "metadata": {},
   "outputs": [],
   "source": [
    "#matching_matrix[0]"
   ]
  },
  {
   "cell_type": "code",
   "execution_count": 72,
   "id": "fee9bd89-099a-4f9b-b75f-1b49cfb31750",
   "metadata": {},
   "outputs": [
    {
     "data": {
      "text/plain": [
       "torch.Size([1, 30, 30])"
      ]
     },
     "execution_count": 72,
     "metadata": {},
     "output_type": "execute_result"
    }
   ],
   "source": [
    "matching_matrix[2][None, ].shape"
   ]
  },
  {
   "cell_type": "code",
   "execution_count": 87,
   "id": "c2e749cb-e768-414e-bbea-aedf63b93210",
   "metadata": {},
   "outputs": [
    {
     "data": {
      "text/plain": [
       "tensor([[[0.],\n",
       "         [0.],\n",
       "         [0.],\n",
       "         [0.],\n",
       "         [0.],\n",
       "         [0.],\n",
       "         [0.],\n",
       "         [0.],\n",
       "         [0.],\n",
       "         [0.],\n",
       "         [0.],\n",
       "         [0.],\n",
       "         [0.],\n",
       "         [0.],\n",
       "         [0.],\n",
       "         [0.],\n",
       "         [0.],\n",
       "         [0.],\n",
       "         [0.],\n",
       "         [0.],\n",
       "         [0.],\n",
       "         [0.],\n",
       "         [0.],\n",
       "         [0.],\n",
       "         [0.],\n",
       "         [0.],\n",
       "         [0.],\n",
       "         [0.],\n",
       "         [0.],\n",
       "         [0.]]])"
      ]
     },
     "execution_count": 87,
     "metadata": {},
     "output_type": "execute_result"
    }
   ],
   "source": [
    "torch.exp(-distances / (2 * 0.1 ** 2))"
   ]
  },
  {
   "cell_type": "code",
   "execution_count": 90,
   "id": "31f2aa60-c119-42e2-8f37-dacfdf7103e1",
   "metadata": {},
   "outputs": [
    {
     "data": {
      "text/plain": [
       "tensor([[[-2162.1350],\n",
       "         [-2040.1750],\n",
       "         [-2082.7700],\n",
       "         [-1741.3251],\n",
       "         [-2163.2600],\n",
       "         [-2090.4050],\n",
       "         [-1993.7651],\n",
       "         [-1794.0100],\n",
       "         [-2074.0549],\n",
       "         [-2054.4001],\n",
       "         [-1787.6200],\n",
       "         [-1577.0150],\n",
       "         [-2163.2600],\n",
       "         [-2054.4001],\n",
       "         [-1806.1400],\n",
       "         [-1752.8700],\n",
       "         [-2071.1799],\n",
       "         [-2082.7700],\n",
       "         [-1949.4900],\n",
       "         [-2140.7852],\n",
       "         [-2088.2151],\n",
       "         [-2178.5852],\n",
       "         [-1819.0551],\n",
       "         [-2163.2600],\n",
       "         [-2082.7700],\n",
       "         [-1706.9651],\n",
       "         [-1741.3251],\n",
       "         [-2071.1799],\n",
       "         [-1730.4751],\n",
       "         [-1353.7501]]])"
      ]
     },
     "execution_count": 90,
     "metadata": {},
     "output_type": "execute_result"
    }
   ],
   "source": [
    "-distances / (2 * 0.1 ** 2)"
   ]
  },
  {
   "cell_type": "code",
   "execution_count": 85,
   "id": "d9d3d257-458a-4435-9b8e-bf653c9ed530",
   "metadata": {},
   "outputs": [],
   "source": [
    "distances = torch.tensor([[[43.2427],\n",
    "         [40.8035],\n",
    "         [41.6554],\n",
    "         [34.8265],\n",
    "         [43.2652],\n",
    "         [41.8081],\n",
    "         [39.8753],\n",
    "         [35.8802],\n",
    "         [41.4811],\n",
    "         [41.0880],\n",
    "         [35.7524],\n",
    "         [31.5403],\n",
    "         [43.2652],\n",
    "         [41.0880],\n",
    "         [36.1228],\n",
    "         [35.0574],\n",
    "         [41.4236],\n",
    "         [41.6554],\n",
    "         [38.9898],\n",
    "         [42.8157],\n",
    "         [41.7643],\n",
    "         [43.5717],\n",
    "         [36.3811],\n",
    "         [43.2652],\n",
    "         [41.6554],\n",
    "         [34.1393],\n",
    "         [34.8265],\n",
    "         [41.4236],\n",
    "         [34.6095],\n",
    "         [27.0750]]])"
   ]
  },
  {
   "cell_type": "code",
   "execution_count": 93,
   "id": "d95fc2f2-f826-4bc5-8c5f-7aa0cb86bf9a",
   "metadata": {},
   "outputs": [
    {
     "name": "stdout",
     "output_type": "stream",
     "text": [
      "tensor([[[5.3049e-19],\n",
      "         [5.3049e-19],\n",
      "         [5.3049e-19],\n",
      "         [5.3049e-19],\n",
      "         [5.3049e-19],\n",
      "         [5.3049e-19],\n",
      "         [5.3049e-19],\n",
      "         [5.3049e-19],\n",
      "         [5.3049e-19],\n",
      "         [5.3049e-19],\n",
      "         [5.3049e-19],\n",
      "         [5.3050e-19],\n",
      "         [5.3049e-19],\n",
      "         [5.3049e-19],\n",
      "         [5.3049e-19],\n",
      "         [5.3049e-19],\n",
      "         [5.3049e-19],\n",
      "         [5.3049e-19],\n",
      "         [5.3049e-19],\n",
      "         [5.3049e-19],\n",
      "         [5.3049e-19],\n",
      "         [5.3049e-19],\n",
      "         [5.3049e-19],\n",
      "         [5.3049e-19],\n",
      "         [5.3049e-19],\n",
      "         [5.3049e-19],\n",
      "         [5.3049e-19],\n",
      "         [5.3049e-19],\n",
      "         [5.3049e-19],\n",
      "         [7.5785e-19]]])\n",
      "tensor([[[4.2986e-15],\n",
      "         [4.2986e-15],\n",
      "         [4.2986e-15],\n",
      "         [4.2986e-15],\n",
      "         [4.2986e-15],\n",
      "         [4.2986e-15],\n",
      "         [4.2986e-15],\n",
      "         [4.2986e-15],\n",
      "         [4.2986e-15],\n",
      "         [4.2986e-15],\n",
      "         [4.2986e-15],\n",
      "         [4.2987e-15],\n",
      "         [4.2986e-15],\n",
      "         [4.2986e-15],\n",
      "         [4.2986e-15],\n",
      "         [4.2986e-15],\n",
      "         [4.2986e-15],\n",
      "         [4.2986e-15],\n",
      "         [4.2986e-15],\n",
      "         [4.2986e-15],\n",
      "         [4.2986e-15],\n",
      "         [4.2986e-15],\n",
      "         [4.2986e-15],\n",
      "         [4.2986e-15],\n",
      "         [4.2986e-15],\n",
      "         [4.2986e-15],\n",
      "         [4.2986e-15],\n",
      "         [4.2986e-15],\n",
      "         [4.2986e-15],\n",
      "         [6.1409e-15]]])\n",
      "tensor([[[1.2814e-11],\n",
      "         [1.2814e-11],\n",
      "         [1.2814e-11],\n",
      "         [1.2814e-11],\n",
      "         [1.2814e-11],\n",
      "         [1.2814e-11],\n",
      "         [1.2814e-11],\n",
      "         [1.2814e-11],\n",
      "         [1.2814e-11],\n",
      "         [1.2814e-11],\n",
      "         [1.2814e-11],\n",
      "         [1.2814e-11],\n",
      "         [1.2814e-11],\n",
      "         [1.2814e-11],\n",
      "         [1.2814e-11],\n",
      "         [1.2814e-11],\n",
      "         [1.2814e-11],\n",
      "         [1.2814e-11],\n",
      "         [1.2814e-11],\n",
      "         [1.2814e-11],\n",
      "         [1.2814e-11],\n",
      "         [1.2814e-11],\n",
      "         [1.2814e-11],\n",
      "         [1.2814e-11],\n",
      "         [1.2814e-11],\n",
      "         [1.2814e-11],\n",
      "         [1.2814e-11],\n",
      "         [1.2814e-11],\n",
      "         [1.2814e-11],\n",
      "         [1.8306e-11]]])\n",
      "tensor([[[1.4052e-08],\n",
      "         [1.4052e-08],\n",
      "         [1.4052e-08],\n",
      "         [1.4052e-08],\n",
      "         [1.4052e-08],\n",
      "         [1.4052e-08],\n",
      "         [1.4052e-08],\n",
      "         [1.4052e-08],\n",
      "         [1.4052e-08],\n",
      "         [1.4052e-08],\n",
      "         [1.4052e-08],\n",
      "         [1.4053e-08],\n",
      "         [1.4052e-08],\n",
      "         [1.4052e-08],\n",
      "         [1.4052e-08],\n",
      "         [1.4052e-08],\n",
      "         [1.4052e-08],\n",
      "         [1.4052e-08],\n",
      "         [1.4052e-08],\n",
      "         [1.4052e-08],\n",
      "         [1.4052e-08],\n",
      "         [1.4052e-08],\n",
      "         [1.4052e-08],\n",
      "         [1.4052e-08],\n",
      "         [1.4052e-08],\n",
      "         [1.4052e-08],\n",
      "         [1.4052e-08],\n",
      "         [1.4052e-08],\n",
      "         [1.4052e-08],\n",
      "         [2.0075e-08]]])\n",
      "tensor([[[5.6691e-06],\n",
      "         [5.6691e-06],\n",
      "         [5.6691e-06],\n",
      "         [5.6691e-06],\n",
      "         [5.6691e-06],\n",
      "         [5.6691e-06],\n",
      "         [5.6691e-06],\n",
      "         [5.6691e-06],\n",
      "         [5.6691e-06],\n",
      "         [5.6691e-06],\n",
      "         [5.6691e-06],\n",
      "         [5.6703e-06],\n",
      "         [5.6691e-06],\n",
      "         [5.6691e-06],\n",
      "         [5.6691e-06],\n",
      "         [5.6691e-06],\n",
      "         [5.6691e-06],\n",
      "         [5.6691e-06],\n",
      "         [5.6691e-06],\n",
      "         [5.6691e-06],\n",
      "         [5.6691e-06],\n",
      "         [5.6691e-06],\n",
      "         [5.6692e-06],\n",
      "         [5.6691e-06],\n",
      "         [5.6691e-06],\n",
      "         [5.6691e-06],\n",
      "         [5.6691e-06],\n",
      "         [5.6691e-06],\n",
      "         [5.6691e-06],\n",
      "         [8.0987e-06]]])\n",
      "tensor([[[0.0008],\n",
      "         [0.0008],\n",
      "         [0.0008],\n",
      "         [0.0008],\n",
      "         [0.0008],\n",
      "         [0.0008],\n",
      "         [0.0008],\n",
      "         [0.0008],\n",
      "         [0.0008],\n",
      "         [0.0008],\n",
      "         [0.0008],\n",
      "         [0.0008],\n",
      "         [0.0008],\n",
      "         [0.0008],\n",
      "         [0.0008],\n",
      "         [0.0008],\n",
      "         [0.0008],\n",
      "         [0.0008],\n",
      "         [0.0008],\n",
      "         [0.0008],\n",
      "         [0.0008],\n",
      "         [0.0008],\n",
      "         [0.0008],\n",
      "         [0.0008],\n",
      "         [0.0008],\n",
      "         [0.0008],\n",
      "         [0.0008],\n",
      "         [0.0008],\n",
      "         [0.0008],\n",
      "         [0.0012]]])\n",
      "tensor([[[0.0459],\n",
      "         [0.0459],\n",
      "         [0.0459],\n",
      "         [0.0459],\n",
      "         [0.0459],\n",
      "         [0.0459],\n",
      "         [0.0459],\n",
      "         [0.0459],\n",
      "         [0.0459],\n",
      "         [0.0459],\n",
      "         [0.0459],\n",
      "         [0.0460],\n",
      "         [0.0459],\n",
      "         [0.0459],\n",
      "         [0.0459],\n",
      "         [0.0459],\n",
      "         [0.0459],\n",
      "         [0.0459],\n",
      "         [0.0459],\n",
      "         [0.0459],\n",
      "         [0.0459],\n",
      "         [0.0459],\n",
      "         [0.0459],\n",
      "         [0.0459],\n",
      "         [0.0459],\n",
      "         [0.0459],\n",
      "         [0.0459],\n",
      "         [0.0459],\n",
      "         [0.0459],\n",
      "         [0.0656]]])\n",
      "tensor([[[0.9227],\n",
      "         [0.9227],\n",
      "         [0.9227],\n",
      "         [0.9227],\n",
      "         [0.9227],\n",
      "         [0.9227],\n",
      "         [0.9227],\n",
      "         [0.9227],\n",
      "         [0.9227],\n",
      "         [0.9227],\n",
      "         [0.9227],\n",
      "         [0.9273],\n",
      "         [0.9227],\n",
      "         [0.9227],\n",
      "         [0.9227],\n",
      "         [0.9227],\n",
      "         [0.9227],\n",
      "         [0.9227],\n",
      "         [0.9227],\n",
      "         [0.9227],\n",
      "         [0.9227],\n",
      "         [0.9227],\n",
      "         [0.9235],\n",
      "         [0.9227],\n",
      "         [0.9227],\n",
      "         [0.9229],\n",
      "         [0.9227],\n",
      "         [0.9227],\n",
      "         [0.9232],\n",
      "         [1.3181]]])\n",
      "tensor([[[6.8177],\n",
      "         [6.8177],\n",
      "         [6.8177],\n",
      "         [6.8218],\n",
      "         [6.8177],\n",
      "         [6.8177],\n",
      "         [6.8177],\n",
      "         [6.8180],\n",
      "         [6.8177],\n",
      "         [6.8177],\n",
      "         [6.8181],\n",
      "         [6.9238],\n",
      "         [6.8177],\n",
      "         [6.8177],\n",
      "         [6.8209],\n",
      "         [6.8187],\n",
      "         [6.8177],\n",
      "         [6.8177],\n",
      "         [6.8177],\n",
      "         [6.8177],\n",
      "         [6.8177],\n",
      "         [6.8177],\n",
      "         [6.8397],\n",
      "         [6.8177],\n",
      "         [6.8177],\n",
      "         [6.8272],\n",
      "         [6.8218],\n",
      "         [6.8177],\n",
      "         [6.8356],\n",
      "         [9.7396]]])\n",
      "tensor([[[18.5325],\n",
      "         [18.5325],\n",
      "         [18.5325],\n",
      "         [18.6238],\n",
      "         [18.5324],\n",
      "         [18.5325],\n",
      "         [18.5324],\n",
      "         [18.5462],\n",
      "         [18.5324],\n",
      "         [18.5324],\n",
      "         [18.5465],\n",
      "         [19.4867],\n",
      "         [18.5324],\n",
      "         [18.5324],\n",
      "         [18.5958],\n",
      "         [18.5631],\n",
      "         [18.5325],\n",
      "         [18.5325],\n",
      "         [18.5349],\n",
      "         [18.5325],\n",
      "         [18.5325],\n",
      "         [18.5324],\n",
      "         [18.7537],\n",
      "         [18.5324],\n",
      "         [18.5325],\n",
      "         [18.6835],\n",
      "         [18.6238],\n",
      "         [18.5325],\n",
      "         [18.7692],\n",
      "         [26.4749]]])\n",
      "tensor([[[18.5339],\n",
      "         [18.5346],\n",
      "         [18.5337],\n",
      "         [19.3378],\n",
      "         [18.5327],\n",
      "         [18.5372],\n",
      "         [18.5331],\n",
      "         [18.7610],\n",
      "         [18.5332],\n",
      "         [18.5328],\n",
      "         [18.7368],\n",
      "         [22.0667],\n",
      "         [18.5327],\n",
      "         [18.5328],\n",
      "         [19.0338],\n",
      "         [18.9051],\n",
      "         [18.5346],\n",
      "         [18.5337],\n",
      "         [18.5969],\n",
      "         [18.5336],\n",
      "         [18.5359],\n",
      "         [18.5325],\n",
      "         [19.4532],\n",
      "         [18.5327],\n",
      "         [18.5337],\n",
      "         [19.5243],\n",
      "         [19.3378],\n",
      "         [18.5346],\n",
      "         [19.7360],\n",
      "         [26.4749]]])\n",
      "tensor([[[ 6.8512],\n",
      "         [ 6.8693],\n",
      "         [ 6.8530],\n",
      "         [ 9.7048],\n",
      "         [ 6.8281],\n",
      "         [ 6.8978],\n",
      "         [ 6.8393],\n",
      "         [ 8.3221],\n",
      "         [ 6.8439],\n",
      "         [ 6.8311],\n",
      "         [ 8.0909],\n",
      "         [12.7228],\n",
      "         [ 6.8281],\n",
      "         [ 6.8311],\n",
      "         [ 8.5570],\n",
      "         [ 8.6714],\n",
      "         [ 6.8706],\n",
      "         [ 6.8530],\n",
      "         [ 7.4418],\n",
      "         [ 6.8469],\n",
      "         [ 6.8851],\n",
      "         [ 6.8212],\n",
      "         [ 8.8825],\n",
      "         [ 6.8281],\n",
      "         [ 6.8530],\n",
      "         [ 9.7636],\n",
      "         [ 9.7048],\n",
      "         [ 6.8706],\n",
      "         [ 9.5203],\n",
      "         [ 9.7396]]])\n",
      "tensor([[[1.2302],\n",
      "         [1.4188],\n",
      "         [1.3117],\n",
      "         [5.5903],\n",
      "         [1.1028],\n",
      "         [1.4733],\n",
      "         [1.2217],\n",
      "         [5.0908],\n",
      "         [1.2810],\n",
      "         [1.1371],\n",
      "         [4.6324],\n",
      "         [6.2377],\n",
      "         [1.1028],\n",
      "         [1.1371],\n",
      "         [3.9030],\n",
      "         [5.2629],\n",
      "         [1.4326],\n",
      "         [1.3117],\n",
      "         [3.1637],\n",
      "         [1.2081],\n",
      "         [1.4540],\n",
      "         [1.0055],\n",
      "         [4.3167],\n",
      "         [1.1028],\n",
      "         [1.3117],\n",
      "         [5.6272],\n",
      "         [5.5903],\n",
      "         [1.4326],\n",
      "         [4.8585],\n",
      "         [1.3181]]])\n",
      "tensor([[[1.3024],\n",
      "         [2.1307],\n",
      "         [1.8618],\n",
      "         [4.5293],\n",
      "         [1.2397],\n",
      "         [1.8786],\n",
      "         [1.7997],\n",
      "         [5.5107],\n",
      "         [1.9291],\n",
      "         [1.4230],\n",
      "         [5.7319],\n",
      "         [3.5981],\n",
      "         [1.2397],\n",
      "         [1.4230],\n",
      "         [3.7167],\n",
      "         [5.9140],\n",
      "         [2.0632],\n",
      "         [1.8618],\n",
      "         [3.2239],\n",
      "         [1.3322],\n",
      "         [1.9781],\n",
      "         [0.7864],\n",
      "         [3.8830],\n",
      "         [1.2397],\n",
      "         [1.8618],\n",
      "         [5.3881],\n",
      "         [4.5293],\n",
      "         [2.0632],\n",
      "         [5.0282],\n",
      "         [0.0656]]])\n",
      "tensor([[[2.8607e+00],\n",
      "         [4.3603e+00],\n",
      "         [3.7509e+00],\n",
      "         [3.9758e+00],\n",
      "         [3.1926e+00],\n",
      "         [3.5212e+00],\n",
      "         [4.7174e+00],\n",
      "         [4.3702e+00],\n",
      "         [4.0308e+00],\n",
      "         [3.7092e+00],\n",
      "         [5.4395e+00],\n",
      "         [2.1697e+00],\n",
      "         [3.1926e+00],\n",
      "         [3.7092e+00],\n",
      "         [5.3341e+00],\n",
      "         [5.2457e+00],\n",
      "         [3.6563e+00],\n",
      "         [3.7509e+00],\n",
      "         [2.9637e+00],\n",
      "         [3.2365e+00],\n",
      "         [3.7682e+00],\n",
      "         [2.5899e+00],\n",
      "         [3.2066e+00],\n",
      "         [3.1926e+00],\n",
      "         [3.7509e+00],\n",
      "         [4.8631e+00],\n",
      "         [3.9758e+00],\n",
      "         [3.6563e+00],\n",
      "         [4.6612e+00],\n",
      "         [1.2020e-03]]])\n",
      "tensor([[[4.0952e+00],\n",
      "         [5.0820e+00],\n",
      "         [4.0285e+00],\n",
      "         [3.4265e+00],\n",
      "         [4.0583e+00],\n",
      "         [4.0464e+00],\n",
      "         [6.5316e+00],\n",
      "         [3.3731e+00],\n",
      "         [4.3751e+00],\n",
      "         [5.0633e+00],\n",
      "         [3.8249e+00],\n",
      "         [8.5449e-01],\n",
      "         [4.0583e+00],\n",
      "         [5.0633e+00],\n",
      "         [5.3938e+00],\n",
      "         [3.2571e+00],\n",
      "         [4.0213e+00],\n",
      "         [4.0285e+00],\n",
      "         [4.2269e+00],\n",
      "         [4.5402e+00],\n",
      "         [4.2546e+00],\n",
      "         [4.1326e+00],\n",
      "         [3.3980e+00],\n",
      "         [4.0583e+00],\n",
      "         [4.0285e+00],\n",
      "         [2.7341e+00],\n",
      "         [3.4265e+00],\n",
      "         [4.0213e+00],\n",
      "         [2.9974e+00],\n",
      "         [8.0987e-06]]])\n",
      "tensor([[[3.8049e+00],\n",
      "         [3.9648e+00],\n",
      "         [3.9759e+00],\n",
      "         [1.7756e+00],\n",
      "         [3.6990e+00],\n",
      "         [3.5781e+00],\n",
      "         [5.3979e+00],\n",
      "         [2.3795e+00],\n",
      "         [3.9959e+00],\n",
      "         [5.4001e+00],\n",
      "         [1.8705e+00],\n",
      "         [1.5349e-01],\n",
      "         [3.6990e+00],\n",
      "         [5.4001e+00],\n",
      "         [2.4123e+00],\n",
      "         [1.3020e+00],\n",
      "         [4.1541e+00],\n",
      "         [3.9759e+00],\n",
      "         [4.8252e+00],\n",
      "         [3.6506e+00],\n",
      "         [3.4338e+00],\n",
      "         [4.2282e+00],\n",
      "         [3.2627e+00],\n",
      "         [3.6990e+00],\n",
      "         [3.9759e+00],\n",
      "         [7.3172e-01],\n",
      "         [1.7756e+00],\n",
      "         [4.1541e+00],\n",
      "         [1.3855e+00],\n",
      "         [2.0075e-08]]])\n",
      "tensor([[[3.4456e+00],\n",
      "         [3.1111e+00],\n",
      "         [4.2248e+00],\n",
      "         [4.0519e-01],\n",
      "         [3.5369e+00],\n",
      "         [3.8833e+00],\n",
      "         [2.8505e+00],\n",
      "         [9.0411e-01],\n",
      "         [3.6597e+00],\n",
      "         [4.4614e+00],\n",
      "         [4.8228e-01],\n",
      "         [1.1075e-02],\n",
      "         [3.5369e+00],\n",
      "         [4.4614e+00],\n",
      "         [4.3110e-01],\n",
      "         [2.6552e-01],\n",
      "         [4.0807e+00],\n",
      "         [4.2248e+00],\n",
      "         [3.1139e+00],\n",
      "         [3.1649e+00],\n",
      "         [3.3758e+00],\n",
      "         [3.7307e+00],\n",
      "         [1.7345e+00],\n",
      "         [3.5369e+00],\n",
      "         [4.2248e+00],\n",
      "         [8.2443e-02],\n",
      "         [4.0519e-01],\n",
      "         [4.0807e+00],\n",
      "         [3.8575e-01],\n",
      "         [1.8306e-11]]])\n",
      "tensor([[[3.1475e+00],\n",
      "         [2.2184e+00],\n",
      "         [2.9734e+00],\n",
      "         [3.7080e-02],\n",
      "         [3.0499e+00],\n",
      "         [3.3792e+00],\n",
      "         [8.5724e-01],\n",
      "         [1.4442e-01],\n",
      "         [2.6764e+00],\n",
      "         [1.9245e+00],\n",
      "         [5.3175e-02],\n",
      "         [3.0708e-04],\n",
      "         [3.0499e+00],\n",
      "         [1.9245e+00],\n",
      "         [2.9914e-02],\n",
      "         [2.3083e-02],\n",
      "         [2.8363e+00],\n",
      "         [2.9734e+00],\n",
      "         [1.1107e+00],\n",
      "         [3.0972e+00],\n",
      "         [3.1176e+00],\n",
      "         [3.5247e+00],\n",
      "         [4.4534e-01],\n",
      "         [3.0499e+00],\n",
      "         [2.9734e+00],\n",
      "         [3.7044e-03],\n",
      "         [3.7080e-02],\n",
      "         [2.8363e+00],\n",
      "         [4.8836e-02],\n",
      "         [6.1409e-15]]])\n",
      "tensor([[[2.1100e+00],\n",
      "         [9.6584e-01],\n",
      "         [1.1406e+00],\n",
      "         [1.3210e-03],\n",
      "         [2.1050e+00],\n",
      "         [1.4216e+00],\n",
      "         [1.2323e-01],\n",
      "         [9.0020e-03],\n",
      "         [1.2407e+00],\n",
      "         [3.6676e-01],\n",
      "         [2.3005e-03],\n",
      "         [3.2062e-06],\n",
      "         [2.1050e+00],\n",
      "         [3.6676e-01],\n",
      "         [7.9420e-04],\n",
      "         [7.8914e-04],\n",
      "         [1.0510e+00],\n",
      "         [1.1406e+00],\n",
      "         [1.9483e-01],\n",
      "         [2.1411e+00],\n",
      "         [1.6321e+00],\n",
      "         [2.5578e+00],\n",
      "         [5.0300e-02],\n",
      "         [2.1050e+00],\n",
      "         [1.1406e+00],\n",
      "         [6.4555e-05],\n",
      "         [1.3210e-03],\n",
      "         [1.0510e+00],\n",
      "         [2.4317e-03],\n",
      "         [7.5785e-19]]])\n",
      "tensor([[[1.],\n",
      "         [0.],\n",
      "         [0.],\n",
      "         [0.],\n",
      "         [1.],\n",
      "         [0.],\n",
      "         [0.],\n",
      "         [0.],\n",
      "         [0.],\n",
      "         [0.],\n",
      "         [0.],\n",
      "         [0.],\n",
      "         [1.],\n",
      "         [0.],\n",
      "         [0.],\n",
      "         [0.],\n",
      "         [0.],\n",
      "         [0.],\n",
      "         [0.],\n",
      "         [0.],\n",
      "         [0.],\n",
      "         [0.],\n",
      "         [0.],\n",
      "         [1.],\n",
      "         [0.],\n",
      "         [0.],\n",
      "         [0.],\n",
      "         [0.],\n",
      "         [0.],\n",
      "         [0.]]])\n"
     ]
    }
   ],
   "source": [
    "KM = []\n",
    "for kernel in knrm.kernels:\n",
    "    # shape = [B]\n",
    "    K = torch.log1p(kernel(matching_matrix[3][None, ]).sum(dim=-1)).sum(dim=-1)\n",
    "    KM.append(K)"
   ]
  },
  {
   "cell_type": "code",
   "execution_count": 78,
   "id": "a680a603-f30e-4cc4-839e-8bc2189172a3",
   "metadata": {},
   "outputs": [
    {
     "data": {
      "text/plain": [
       "[tensor([0.]),\n",
       " tensor([0.]),\n",
       " tensor([0.]),\n",
       " tensor([0.]),\n",
       " tensor([0.]),\n",
       " tensor([0.]),\n",
       " tensor([0.]),\n",
       " tensor([1.9271e-41]),\n",
       " tensor([2.2007e-15]),\n",
       " tensor([0.0232]),\n",
       " tensor([0.0232]),\n",
       " tensor([1.6449e-13]),\n",
       " tensor([1.5971e-29]),\n",
       " tensor([0.]),\n",
       " tensor([0.]),\n",
       " tensor([0.]),\n",
       " tensor([0.]),\n",
       " tensor([0.]),\n",
       " tensor([0.]),\n",
       " tensor([0.]),\n",
       " tensor([0.])]"
      ]
     },
     "execution_count": 78,
     "metadata": {},
     "output_type": "execute_result"
    }
   ],
   "source": [
    "KM"
   ]
  },
  {
   "cell_type": "code",
   "execution_count": 80,
   "id": "6655859c-9c0d-456d-b5f1-b638e093f7ad",
   "metadata": {},
   "outputs": [
    {
     "data": {
      "text/plain": [
       "[tensor([0.]),\n",
       " tensor([0.]),\n",
       " tensor([0.]),\n",
       " tensor([0.]),\n",
       " tensor([0.]),\n",
       " tensor([0.]),\n",
       " tensor([0.]),\n",
       " tensor([1.9271e-41]),\n",
       " tensor([2.2007e-15]),\n",
       " tensor([0.0232]),\n",
       " tensor([0.0232]),\n",
       " tensor([1.2993e-14]),\n",
       " tensor([7.3139e-32]),\n",
       " tensor([0.]),\n",
       " tensor([0.]),\n",
       " tensor([0.]),\n",
       " tensor([0.]),\n",
       " tensor([0.]),\n",
       " tensor([0.]),\n",
       " tensor([0.]),\n",
       " tensor([0.])]"
      ]
     },
     "execution_count": 80,
     "metadata": {},
     "output_type": "execute_result"
    }
   ],
   "source": [
    "KM"
   ]
  },
  {
   "cell_type": "code",
   "execution_count": null,
   "id": "e7bdeb02-7151-4914-acec-1e1bc08babf0",
   "metadata": {},
   "outputs": [],
   "source": [
    "distances = ((x[:, :, None]  - self.mu) ** 2).sum(-1)"
   ]
  },
  {
   "cell_type": "code",
   "execution_count": 47,
   "id": "475783df-487d-4544-8dbb-0914b2d18660",
   "metadata": {},
   "outputs": [
    {
     "name": "stdout",
     "output_type": "stream",
     "text": [
      "kernel_matrix torch.Size([1024, 30, 1])\n"
     ]
    },
    {
     "data": {
      "text/plain": [
       "tensor([[0., 0., 0.,  ..., 0., 0., 0.],\n",
       "        [0., 0., 0.,  ..., 0., 0., 0.],\n",
       "        [0., 0., 0.,  ..., 0., 0., 0.],\n",
       "        ...,\n",
       "        [0., 0., 0.,  ..., 0., 0., 0.],\n",
       "        [0., 0., 0.,  ..., 0., 0., 0.],\n",
       "        [0., 0., 0.,  ..., 0., 0., 0.]])"
      ]
     },
     "execution_count": 47,
     "metadata": {},
     "output_type": "execute_result"
    }
   ],
   "source": [
    "kernel.forward(matching_matrix).sum(dim=-1)"
   ]
  },
  {
   "cell_type": "code",
   "execution_count": 58,
   "id": "5b4e87d4-547f-4b08-a8d8-7b75f67b8e32",
   "metadata": {},
   "outputs": [
    {
     "data": {
      "text/plain": [
       "tensor([[ 0.4532,  0.0598, -0.1058,  ...,  0.5324, -0.2510,  0.6255],\n",
       "        [ 0.9619,  0.0125,  0.2173,  ...,  0.1403, -0.3847, -0.3871],\n",
       "        [ 0.4180,  0.2497, -0.4124,  ..., -0.1841, -0.1151, -0.7858],\n",
       "        ...,\n",
       "        [ 0.3304,  0.2500, -0.6087,  ..., -0.5070, -0.0273, -0.5329],\n",
       "        [-0.7249,  0.4052, -0.3589,  ..., -0.1103,  0.0151, -0.0369],\n",
       "        [ 0.0000,  0.0000,  0.0000,  ...,  0.0000,  0.0000,  0.0000]])"
      ]
     },
     "execution_count": 58,
     "metadata": {},
     "output_type": "execute_result"
    }
   ],
   "source": [
    "query_emb[0]"
   ]
  },
  {
   "cell_type": "code",
   "execution_count": 59,
   "id": "f53571c1-e531-4a08-b70c-43af5a1ddd9b",
   "metadata": {},
   "outputs": [
    {
     "data": {
      "text/plain": [
       "tensor([[ 0.4532,  0.0598, -0.1058,  ...,  0.5324, -0.2510,  0.6255],\n",
       "        [ 0.9619,  0.0125,  0.2173,  ...,  0.1403, -0.3847, -0.3871],\n",
       "        [ 0.4180,  0.2497, -0.4124,  ..., -0.1841, -0.1151, -0.7858],\n",
       "        ...,\n",
       "        [ 0.3304,  0.2500, -0.6087,  ..., -0.5070, -0.0273, -0.5329],\n",
       "        [ 0.3031, -0.2483, -0.6280,  ..., -0.3413,  0.6022, -0.8492],\n",
       "        [ 0.0000,  0.0000,  0.0000,  ...,  0.0000,  0.0000,  0.0000]])"
      ]
     },
     "execution_count": 59,
     "metadata": {},
     "output_type": "execute_result"
    }
   ],
   "source": [
    "doc_emb[0]"
   ]
  },
  {
   "cell_type": "code",
   "execution_count": 56,
   "id": "91b8b5a5-c532-42b7-aed6-628244704e73",
   "metadata": {},
   "outputs": [
    {
     "data": {
      "text/plain": [
       "[tensor(0.0232),\n",
       " tensor(0.0232),\n",
       " tensor(0.0232),\n",
       " tensor(0.0232),\n",
       " tensor(0.0232),\n",
       " tensor(0.0232),\n",
       " tensor(0.0232),\n",
       " tensor(0.0232),\n",
       " tensor(0.0232),\n",
       " tensor(0.0232),\n",
       " tensor(0.0232),\n",
       " tensor(0.0232),\n",
       " tensor(0.0232),\n",
       " tensor(0.0232),\n",
       " tensor(0.0232),\n",
       " tensor(0.5114),\n",
       " tensor(0.5114),\n",
       " tensor(0.5114),\n",
       " tensor(0.5114),\n",
       " tensor(0.5114),\n",
       " tensor(0.5114),\n",
       " tensor(0.5114),\n",
       " tensor(0.5114),\n",
       " tensor(0.5114),\n",
       " tensor(0.5114),\n",
       " tensor(0.5114),\n",
       " tensor(0.5114),\n",
       " tensor(0.5114),\n",
       " tensor(0.5114),\n",
       " tensor(0.5114),\n",
       " tensor(0.5346),\n",
       " tensor(0.5346),\n",
       " tensor(0.5346),\n",
       " tensor(0.5346),\n",
       " tensor(0.5346),\n",
       " tensor(0.5346),\n",
       " tensor(0.5346),\n",
       " tensor(0.5346),\n",
       " tensor(0.5346),\n",
       " tensor(0.5346),\n",
       " tensor(0.5346),\n",
       " tensor(0.5346),\n",
       " tensor(0.5346),\n",
       " tensor(0.5346),\n",
       " tensor(0.5346),\n",
       " tensor(0.5579),\n",
       " tensor(0.5579),\n",
       " tensor(0.5579),\n",
       " tensor(0.5581),\n",
       " tensor(0.5579),\n",
       " tensor(0.5579),\n",
       " tensor(0.5579),\n",
       " tensor(0.5579),\n",
       " tensor(0.5579),\n",
       " tensor(0.5579),\n",
       " tensor(0.5579),\n",
       " tensor(0.5579),\n",
       " tensor(0.5579),\n",
       " tensor(0.5579),\n",
       " tensor(0.5579),\n",
       " tensor(0.5811),\n",
       " tensor(0.5811),\n",
       " tensor(0.5811),\n",
       " tensor(0.5811),\n",
       " tensor(0.5811),\n",
       " tensor(0.5811),\n",
       " tensor(0.5811),\n",
       " tensor(0.5811),\n",
       " tensor(0.5811),\n",
       " tensor(0.5811),\n",
       " tensor(0.5811),\n",
       " tensor(0.5811),\n",
       " tensor(0.5811),\n",
       " tensor(0.5811),\n",
       " tensor(0.5811),\n",
       " tensor(0.4417),\n",
       " tensor(0.4417),\n",
       " tensor(0.4417),\n",
       " tensor(0.4417),\n",
       " tensor(0.4417),\n",
       " tensor(0.4417),\n",
       " tensor(0.4417),\n",
       " tensor(0.4417),\n",
       " tensor(0.4417),\n",
       " tensor(0.4417),\n",
       " tensor(0.4417),\n",
       " tensor(0.4417),\n",
       " tensor(0.4417),\n",
       " tensor(0.4417),\n",
       " tensor(0.4417),\n",
       " tensor(0.5811),\n",
       " tensor(0.5811),\n",
       " tensor(0.5811),\n",
       " tensor(0.5811),\n",
       " tensor(0.5811),\n",
       " tensor(0.5811),\n",
       " tensor(0.5811),\n",
       " tensor(0.5811),\n",
       " tensor(0.5811),\n",
       " tensor(0.5811),\n",
       " tensor(0.5811),\n",
       " tensor(0.5811),\n",
       " tensor(0.5811),\n",
       " tensor(0.5811),\n",
       " tensor(0.5811),\n",
       " tensor(0.2122),\n",
       " tensor(0.2110),\n",
       " tensor(0.2092),\n",
       " tensor(0.2139),\n",
       " tensor(0.2095),\n",
       " tensor(0.2108),\n",
       " tensor(0.2092),\n",
       " tensor(0.2166),\n",
       " tensor(0.2147),\n",
       " tensor(0.2120),\n",
       " tensor(0.2092),\n",
       " tensor(0.2109),\n",
       " tensor(0.2152),\n",
       " tensor(0.2094),\n",
       " tensor(0.2176),\n",
       " tensor(0.2645),\n",
       " tensor(0.2607),\n",
       " tensor(0.2587),\n",
       " tensor(0.2644),\n",
       " tensor(0.2934),\n",
       " tensor(0.2557),\n",
       " tensor(0.2576),\n",
       " tensor(0.2621),\n",
       " tensor(0.2877),\n",
       " tensor(0.2557),\n",
       " tensor(0.2561),\n",
       " tensor(0.2558),\n",
       " tensor(0.2766),\n",
       " tensor(0.2563),\n",
       " tensor(0.2561),\n",
       " tensor(0.5579),\n",
       " tensor(0.5579),\n",
       " tensor(0.5622),\n",
       " tensor(0.5579),\n",
       " tensor(0.5579),\n",
       " tensor(0.5579),\n",
       " tensor(0.5579),\n",
       " tensor(0.5579),\n",
       " tensor(0.5579),\n",
       " tensor(0.5579),\n",
       " tensor(0.5579),\n",
       " tensor(0.5582),\n",
       " tensor(0.5579),\n",
       " tensor(0.5579),\n",
       " tensor(0.5579),\n",
       " tensor(0.5346),\n",
       " tensor(0.5346),\n",
       " tensor(0.5346),\n",
       " tensor(0.5346),\n",
       " tensor(0.5346),\n",
       " tensor(0.5346),\n",
       " tensor(0.5346),\n",
       " tensor(0.5346),\n",
       " tensor(0.5346),\n",
       " tensor(0.5346),\n",
       " tensor(0.5346),\n",
       " tensor(0.5346),\n",
       " tensor(0.5346),\n",
       " tensor(0.5346),\n",
       " tensor(0.5346),\n",
       " tensor(0.5347),\n",
       " tensor(0.5346),\n",
       " tensor(0.5346),\n",
       " tensor(0.5351),\n",
       " tensor(0.5347),\n",
       " tensor(0.5353),\n",
       " tensor(0.5348),\n",
       " tensor(0.5346),\n",
       " tensor(0.5346),\n",
       " tensor(0.5348),\n",
       " tensor(0.5436),\n",
       " tensor(0.5349),\n",
       " tensor(0.5353),\n",
       " tensor(0.5346),\n",
       " tensor(0.5347),\n",
       " tensor(0.1860),\n",
       " tensor(0.1860),\n",
       " tensor(0.1860),\n",
       " tensor(0.1910),\n",
       " tensor(0.2010),\n",
       " tensor(0.1865),\n",
       " tensor(0.1860),\n",
       " tensor(0.1896),\n",
       " tensor(0.1860),\n",
       " tensor(0.1878),\n",
       " tensor(0.2248),\n",
       " tensor(0.1861),\n",
       " tensor(0.1861),\n",
       " tensor(0.1860),\n",
       " tensor(0.1871),\n",
       " tensor(0.4649),\n",
       " tensor(0.4649),\n",
       " tensor(0.4653),\n",
       " tensor(0.4693),\n",
       " tensor(0.4755),\n",
       " tensor(0.4649),\n",
       " tensor(0.4706),\n",
       " tensor(0.4748),\n",
       " tensor(0.4653),\n",
       " tensor(0.4653),\n",
       " tensor(0.4654),\n",
       " tensor(0.4649),\n",
       " tensor(0.4653),\n",
       " tensor(0.4722),\n",
       " tensor(0.4659),\n",
       " tensor(0.3254),\n",
       " tensor(0.3254),\n",
       " tensor(0.3254),\n",
       " tensor(0.3254),\n",
       " tensor(0.3254),\n",
       " tensor(0.3254),\n",
       " tensor(0.3254),\n",
       " tensor(0.3254),\n",
       " tensor(0.3254),\n",
       " tensor(0.3254),\n",
       " tensor(0.3254),\n",
       " tensor(0.3254),\n",
       " tensor(0.3257),\n",
       " tensor(0.3254),\n",
       " tensor(0.3254),\n",
       " tensor(0.4882),\n",
       " tensor(0.4882),\n",
       " tensor(0.4884),\n",
       " tensor(0.4882),\n",
       " tensor(0.4887),\n",
       " tensor(0.4882),\n",
       " tensor(0.4882),\n",
       " tensor(0.4882),\n",
       " tensor(0.4882),\n",
       " tensor(0.4882),\n",
       " tensor(0.4883),\n",
       " tensor(0.4882),\n",
       " tensor(0.4882),\n",
       " tensor(0.4883),\n",
       " tensor(0.4886),\n",
       " tensor(0.5346),\n",
       " tensor(0.5346),\n",
       " tensor(0.5346),\n",
       " tensor(0.5346),\n",
       " tensor(0.5346),\n",
       " tensor(0.5346),\n",
       " tensor(0.5347),\n",
       " tensor(0.5346),\n",
       " tensor(0.5346),\n",
       " tensor(0.5346),\n",
       " tensor(0.5346),\n",
       " tensor(0.5346),\n",
       " tensor(0.5400),\n",
       " tensor(0.5351),\n",
       " tensor(0.5346),\n",
       " tensor(0.4882),\n",
       " tensor(0.4882),\n",
       " tensor(0.4882),\n",
       " tensor(0.4882),\n",
       " tensor(0.4882),\n",
       " tensor(0.4882),\n",
       " tensor(0.5010),\n",
       " tensor(0.4882),\n",
       " tensor(0.4887),\n",
       " tensor(0.4883),\n",
       " tensor(0.4882),\n",
       " tensor(0.4882),\n",
       " tensor(0.4892),\n",
       " tensor(0.4882),\n",
       " tensor(0.4883),\n",
       " tensor(0.4649),\n",
       " tensor(0.4649),\n",
       " tensor(0.4800),\n",
       " tensor(0.4649),\n",
       " tensor(0.4649),\n",
       " tensor(0.4649),\n",
       " tensor(0.4649),\n",
       " tensor(0.4650),\n",
       " tensor(0.4685),\n",
       " tensor(0.4649),\n",
       " tensor(0.4695),\n",
       " tensor(0.4661),\n",
       " tensor(0.4649),\n",
       " tensor(0.4649),\n",
       " tensor(0.4649),\n",
       " tensor(0.4417),\n",
       " tensor(0.4417),\n",
       " tensor(0.4417),\n",
       " tensor(0.4417),\n",
       " tensor(0.4417),\n",
       " tensor(0.4417),\n",
       " tensor(0.4417),\n",
       " tensor(0.4417),\n",
       " tensor(0.4417),\n",
       " tensor(0.4417),\n",
       " tensor(0.4417),\n",
       " tensor(0.4417),\n",
       " tensor(0.4417),\n",
       " tensor(0.4417),\n",
       " tensor(0.4417),\n",
       " tensor(0.5346),\n",
       " tensor(0.5346),\n",
       " tensor(0.5346),\n",
       " tensor(0.5346),\n",
       " tensor(0.5346),\n",
       " tensor(0.5346),\n",
       " tensor(0.5346),\n",
       " tensor(0.5346),\n",
       " tensor(0.5346),\n",
       " tensor(0.5346),\n",
       " tensor(0.5346),\n",
       " tensor(0.5346),\n",
       " tensor(0.5346),\n",
       " tensor(0.5346),\n",
       " tensor(0.5346),\n",
       " tensor(0.6044),\n",
       " tensor(0.6044),\n",
       " tensor(0.6044),\n",
       " tensor(0.6044),\n",
       " tensor(0.6044),\n",
       " tensor(0.6044),\n",
       " tensor(0.6044),\n",
       " tensor(0.6044),\n",
       " tensor(0.6044),\n",
       " tensor(0.6044),\n",
       " tensor(0.6044),\n",
       " tensor(0.6044),\n",
       " tensor(0.6044),\n",
       " tensor(0.6044),\n",
       " tensor(0.6044),\n",
       " tensor(0.3952),\n",
       " tensor(0.3952),\n",
       " tensor(0.3952),\n",
       " tensor(0.3952),\n",
       " tensor(0.3952),\n",
       " tensor(0.3952),\n",
       " tensor(0.3952),\n",
       " tensor(0.3952),\n",
       " tensor(0.3952),\n",
       " tensor(0.3952),\n",
       " tensor(0.3952),\n",
       " tensor(0.3952),\n",
       " tensor(0.3952),\n",
       " tensor(0.3952),\n",
       " tensor(0.3952),\n",
       " tensor(0.3254),\n",
       " tensor(0.3254),\n",
       " tensor(0.3254),\n",
       " tensor(0.3254),\n",
       " tensor(0.3254),\n",
       " tensor(0.3254),\n",
       " tensor(0.3256),\n",
       " tensor(0.3254),\n",
       " tensor(0.3254),\n",
       " tensor(0.3254),\n",
       " tensor(0.3254),\n",
       " tensor(0.3254),\n",
       " tensor(0.3254),\n",
       " tensor(0.3254),\n",
       " tensor(0.3254),\n",
       " tensor(0.4882),\n",
       " tensor(0.4882),\n",
       " tensor(0.4882),\n",
       " tensor(0.4882),\n",
       " tensor(0.4882),\n",
       " tensor(0.4882),\n",
       " tensor(0.4882),\n",
       " tensor(0.4882),\n",
       " tensor(0.4882),\n",
       " tensor(0.4882),\n",
       " tensor(0.4882),\n",
       " tensor(0.4882),\n",
       " tensor(0.4882),\n",
       " tensor(0.4882),\n",
       " tensor(0.4882),\n",
       " tensor(0.4417),\n",
       " tensor(0.4417),\n",
       " tensor(0.4417),\n",
       " tensor(0.4417),\n",
       " tensor(0.4417),\n",
       " tensor(0.4417),\n",
       " tensor(0.4417),\n",
       " tensor(0.4417),\n",
       " tensor(0.4417),\n",
       " tensor(0.4417),\n",
       " tensor(0.4417),\n",
       " tensor(0.4417),\n",
       " tensor(0.4417),\n",
       " tensor(0.4417),\n",
       " tensor(0.4417),\n",
       " tensor(0.5346),\n",
       " tensor(0.5346),\n",
       " tensor(0.5346),\n",
       " tensor(0.5346),\n",
       " tensor(0.5346),\n",
       " tensor(0.5346),\n",
       " tensor(0.5346),\n",
       " tensor(0.5346),\n",
       " tensor(0.5346),\n",
       " tensor(0.5346),\n",
       " tensor(0.5346),\n",
       " tensor(0.5346),\n",
       " tensor(0.5346),\n",
       " tensor(0.5346),\n",
       " tensor(0.5346),\n",
       " tensor(0.0465),\n",
       " tensor(0.0465),\n",
       " tensor(0.0465),\n",
       " tensor(0.0465),\n",
       " tensor(0.0465),\n",
       " tensor(0.0465),\n",
       " tensor(0.0493),\n",
       " tensor(0.0465),\n",
       " tensor(0.0465),\n",
       " tensor(0.0465),\n",
       " tensor(0.0467),\n",
       " tensor(0.0465),\n",
       " tensor(0.0465),\n",
       " tensor(0.0465),\n",
       " tensor(0.0465),\n",
       " tensor(0.2345),\n",
       " tensor(0.2325),\n",
       " tensor(0.2325),\n",
       " tensor(0.2330),\n",
       " tensor(0.2330),\n",
       " tensor(0.2354),\n",
       " tensor(0.2326),\n",
       " tensor(0.2752),\n",
       " tensor(0.2355),\n",
       " tensor(0.2423),\n",
       " tensor(0.2328),\n",
       " tensor(0.2422),\n",
       " tensor(0.2355),\n",
       " tensor(0.2517),\n",
       " tensor(0.2423),\n",
       " tensor(0.3719),\n",
       " tensor(0.3719),\n",
       " tensor(0.3719),\n",
       " tensor(0.3719),\n",
       " tensor(0.3721),\n",
       " tensor(0.3719),\n",
       " tensor(0.3720),\n",
       " tensor(0.3721),\n",
       " tensor(0.3719),\n",
       " tensor(0.3719),\n",
       " tensor(0.3719),\n",
       " tensor(0.3721),\n",
       " tensor(0.3719),\n",
       " tensor(0.3723),\n",
       " tensor(0.3720),\n",
       " tensor(0.5114),\n",
       " tensor(0.5114),\n",
       " tensor(0.5114),\n",
       " tensor(0.5114),\n",
       " tensor(0.5114),\n",
       " tensor(0.5114),\n",
       " tensor(0.5114),\n",
       " tensor(0.5114),\n",
       " tensor(0.5114),\n",
       " tensor(0.5114),\n",
       " tensor(0.5114),\n",
       " tensor(0.5114),\n",
       " tensor(0.5114),\n",
       " tensor(0.5114),\n",
       " tensor(0.5114),\n",
       " tensor(0.6044),\n",
       " tensor(0.6044),\n",
       " tensor(0.6044),\n",
       " tensor(0.6044),\n",
       " tensor(0.6044),\n",
       " tensor(0.6044),\n",
       " tensor(0.6044),\n",
       " tensor(0.6044),\n",
       " tensor(0.6044),\n",
       " tensor(0.6044),\n",
       " tensor(0.6044),\n",
       " tensor(0.6044),\n",
       " tensor(0.6044),\n",
       " tensor(0.6044),\n",
       " tensor(0.6044),\n",
       " tensor(0.5346),\n",
       " tensor(0.5346),\n",
       " tensor(0.5346),\n",
       " tensor(0.5346),\n",
       " tensor(0.5346),\n",
       " tensor(0.5346),\n",
       " tensor(0.5346),\n",
       " tensor(0.5346),\n",
       " tensor(0.5346),\n",
       " tensor(0.5346),\n",
       " tensor(0.5346),\n",
       " tensor(0.5346),\n",
       " tensor(0.5346),\n",
       " tensor(0.5346),\n",
       " tensor(0.5346),\n",
       " tensor(0.4882),\n",
       " tensor(0.4882),\n",
       " tensor(0.4882),\n",
       " tensor(0.4882),\n",
       " tensor(0.4882),\n",
       " tensor(0.4882),\n",
       " tensor(0.4882),\n",
       " tensor(0.4882),\n",
       " tensor(0.4882),\n",
       " tensor(0.4882),\n",
       " tensor(0.4882),\n",
       " tensor(0.4882),\n",
       " tensor(0.4882),\n",
       " tensor(0.4882),\n",
       " tensor(0.4882),\n",
       " tensor(0.5579),\n",
       " tensor(0.5579),\n",
       " tensor(0.5579),\n",
       " tensor(0.5579),\n",
       " tensor(0.5579),\n",
       " tensor(0.5579),\n",
       " tensor(0.5579),\n",
       " tensor(0.5579),\n",
       " tensor(0.5579),\n",
       " tensor(0.5579),\n",
       " tensor(0.5579),\n",
       " tensor(0.5579),\n",
       " tensor(0.5579),\n",
       " tensor(0.5579),\n",
       " tensor(0.5579),\n",
       " tensor(0.2789),\n",
       " tensor(0.2789),\n",
       " tensor(0.2789),\n",
       " tensor(0.2789),\n",
       " tensor(0.2789),\n",
       " tensor(0.2789),\n",
       " tensor(0.2789),\n",
       " tensor(0.2789),\n",
       " tensor(0.2789),\n",
       " tensor(0.2789),\n",
       " tensor(0.2789),\n",
       " tensor(0.2789),\n",
       " tensor(0.2789),\n",
       " tensor(0.2789),\n",
       " tensor(0.2789),\n",
       " tensor(0.2789),\n",
       " tensor(0.2789),\n",
       " tensor(0.2789),\n",
       " tensor(0.2908),\n",
       " tensor(0.2789),\n",
       " tensor(0.2789),\n",
       " tensor(0.2825),\n",
       " tensor(0.2789),\n",
       " tensor(0.2789),\n",
       " tensor(0.2789),\n",
       " tensor(0.2789),\n",
       " tensor(0.2789),\n",
       " tensor(0.2789),\n",
       " tensor(0.2789),\n",
       " tensor(0.2789),\n",
       " tensor(0.5346),\n",
       " tensor(0.5346),\n",
       " tensor(0.5346),\n",
       " tensor(0.5346),\n",
       " tensor(0.5346),\n",
       " tensor(0.5346),\n",
       " tensor(0.5346),\n",
       " tensor(0.5346),\n",
       " tensor(0.5346),\n",
       " tensor(0.5346),\n",
       " tensor(0.5346),\n",
       " tensor(0.5346),\n",
       " tensor(0.5346),\n",
       " tensor(0.5346),\n",
       " tensor(0.5346),\n",
       " tensor(0.4417),\n",
       " tensor(0.4417),\n",
       " tensor(0.4417),\n",
       " tensor(0.4417),\n",
       " tensor(0.4417),\n",
       " tensor(0.4417),\n",
       " tensor(0.4417),\n",
       " tensor(0.4417),\n",
       " tensor(0.4417),\n",
       " tensor(0.4417),\n",
       " tensor(0.4417),\n",
       " tensor(0.4417),\n",
       " tensor(0.4417),\n",
       " tensor(0.4417),\n",
       " tensor(0.4431),\n",
       " tensor(0.4882),\n",
       " tensor(0.4882),\n",
       " tensor(0.4882),\n",
       " tensor(0.4882),\n",
       " tensor(0.4882),\n",
       " tensor(0.4882),\n",
       " tensor(0.4882),\n",
       " tensor(0.4882),\n",
       " tensor(0.4882),\n",
       " tensor(0.4882),\n",
       " tensor(0.4882),\n",
       " tensor(0.4882),\n",
       " tensor(0.4882),\n",
       " tensor(0.4882),\n",
       " tensor(0.4882),\n",
       " tensor(0.5346),\n",
       " tensor(0.5346),\n",
       " tensor(0.5346),\n",
       " tensor(0.5346),\n",
       " tensor(0.5346),\n",
       " tensor(0.5346),\n",
       " tensor(0.5346),\n",
       " tensor(0.5346),\n",
       " tensor(0.5346),\n",
       " tensor(0.5346),\n",
       " tensor(0.5346),\n",
       " tensor(0.5346),\n",
       " tensor(0.5346),\n",
       " tensor(0.5346),\n",
       " tensor(0.5346),\n",
       " tensor(0.5114),\n",
       " tensor(0.5114),\n",
       " tensor(0.5114),\n",
       " tensor(0.5114),\n",
       " tensor(0.5114),\n",
       " tensor(0.5114),\n",
       " tensor(0.5114),\n",
       " tensor(0.5114),\n",
       " tensor(0.5114),\n",
       " tensor(0.5114),\n",
       " tensor(0.5114),\n",
       " tensor(0.5114),\n",
       " tensor(0.5114),\n",
       " tensor(0.5114),\n",
       " tensor(0.5114),\n",
       " tensor(0.0930),\n",
       " tensor(0.0930),\n",
       " tensor(0.0930),\n",
       " tensor(0.0930),\n",
       " tensor(0.0930),\n",
       " tensor(0.0930),\n",
       " tensor(0.0930),\n",
       " tensor(0.0939),\n",
       " tensor(0.0930),\n",
       " tensor(0.0930),\n",
       " tensor(0.0930),\n",
       " tensor(0.0930),\n",
       " tensor(0.0930),\n",
       " tensor(0.0930),\n",
       " tensor(0.0930),\n",
       " tensor(0.5346),\n",
       " tensor(0.5346),\n",
       " tensor(0.5346),\n",
       " tensor(0.5346),\n",
       " tensor(0.5348),\n",
       " tensor(0.5347),\n",
       " tensor(0.5346),\n",
       " tensor(0.5346),\n",
       " tensor(0.5346),\n",
       " tensor(0.5355),\n",
       " tensor(0.5346),\n",
       " tensor(0.5346),\n",
       " tensor(0.5346),\n",
       " tensor(0.5347),\n",
       " tensor(0.5346),\n",
       " tensor(0.3254),\n",
       " tensor(0.3254),\n",
       " tensor(0.3254),\n",
       " tensor(0.3254),\n",
       " tensor(0.3254),\n",
       " tensor(0.3254),\n",
       " tensor(0.3295),\n",
       " tensor(0.3254),\n",
       " tensor(0.3254),\n",
       " tensor(0.3254),\n",
       " tensor(0.3254),\n",
       " tensor(0.3254),\n",
       " tensor(0.3254),\n",
       " tensor(0.3254),\n",
       " tensor(0.3254),\n",
       " tensor(0.3254),\n",
       " tensor(0.3254),\n",
       " tensor(0.3254),\n",
       " tensor(0.3254),\n",
       " tensor(0.3254),\n",
       " tensor(0.3254),\n",
       " tensor(0.3254),\n",
       " tensor(0.3254),\n",
       " tensor(0.3254),\n",
       " tensor(0.3254),\n",
       " tensor(0.3254),\n",
       " tensor(0.3254),\n",
       " tensor(0.3254),\n",
       " tensor(0.3254),\n",
       " tensor(0.3254),\n",
       " tensor(0.4184),\n",
       " tensor(0.4184),\n",
       " tensor(0.4184),\n",
       " tensor(0.4184),\n",
       " tensor(0.4184),\n",
       " tensor(0.4184),\n",
       " tensor(0.4184),\n",
       " tensor(0.4184),\n",
       " tensor(0.4184),\n",
       " tensor(0.4184),\n",
       " tensor(0.4184),\n",
       " tensor(0.4184),\n",
       " tensor(0.4184),\n",
       " tensor(0.4184),\n",
       " tensor(0.4184),\n",
       " tensor(0.3719),\n",
       " tensor(0.3719),\n",
       " tensor(0.3719),\n",
       " tensor(0.3719),\n",
       " tensor(0.3719),\n",
       " tensor(0.3719),\n",
       " tensor(0.3719),\n",
       " tensor(0.3719),\n",
       " tensor(0.3719),\n",
       " tensor(0.3719),\n",
       " tensor(0.3719),\n",
       " tensor(0.3719),\n",
       " tensor(0.3719),\n",
       " tensor(0.3719),\n",
       " tensor(0.3719),\n",
       " tensor(0.5346),\n",
       " tensor(0.5346),\n",
       " tensor(0.5346),\n",
       " tensor(0.5346),\n",
       " tensor(0.5346),\n",
       " tensor(0.5346),\n",
       " tensor(0.5346),\n",
       " tensor(0.5346),\n",
       " tensor(0.5346),\n",
       " tensor(0.5346),\n",
       " tensor(0.5346),\n",
       " tensor(0.5346),\n",
       " tensor(0.5346),\n",
       " tensor(0.5346),\n",
       " tensor(0.5346),\n",
       " tensor(0.5114),\n",
       " tensor(0.5114),\n",
       " tensor(0.5114),\n",
       " tensor(0.5114),\n",
       " tensor(0.5114),\n",
       " tensor(0.5114),\n",
       " tensor(0.5114),\n",
       " tensor(0.5114),\n",
       " tensor(0.5114),\n",
       " tensor(0.5114),\n",
       " tensor(0.5114),\n",
       " tensor(0.5114),\n",
       " tensor(0.5114),\n",
       " tensor(0.5114),\n",
       " tensor(0.5114),\n",
       " tensor(0.4649),\n",
       " tensor(0.4649),\n",
       " tensor(0.4649),\n",
       " tensor(0.4649),\n",
       " tensor(0.4649),\n",
       " tensor(0.4649),\n",
       " tensor(0.4649),\n",
       " tensor(0.4649),\n",
       " tensor(0.4649),\n",
       " tensor(0.4649),\n",
       " tensor(0.4649),\n",
       " tensor(0.4649),\n",
       " tensor(0.4649),\n",
       " tensor(0.4649),\n",
       " tensor(0.4649),\n",
       " tensor(0.3719),\n",
       " tensor(0.3719),\n",
       " tensor(0.3719),\n",
       " tensor(0.3729),\n",
       " tensor(0.3719),\n",
       " tensor(0.3739),\n",
       " tensor(0.3723),\n",
       " tensor(0.3737),\n",
       " tensor(0.3719),\n",
       " tensor(0.3725),\n",
       " tensor(0.3719),\n",
       " tensor(0.3741),\n",
       " tensor(0.3719),\n",
       " tensor(0.3719),\n",
       " tensor(0.3719),\n",
       " tensor(0.4649),\n",
       " tensor(0.4649),\n",
       " tensor(0.4649),\n",
       " tensor(0.4649),\n",
       " tensor(0.4649),\n",
       " tensor(0.4649),\n",
       " tensor(0.4649),\n",
       " tensor(0.4649),\n",
       " tensor(0.4649),\n",
       " tensor(0.4649),\n",
       " tensor(0.4649),\n",
       " tensor(0.4649),\n",
       " tensor(0.4649),\n",
       " tensor(0.4649),\n",
       " tensor(0.4649),\n",
       " tensor(0.3719),\n",
       " tensor(0.3719),\n",
       " tensor(0.3719),\n",
       " tensor(0.3719),\n",
       " tensor(0.3720),\n",
       " tensor(0.3719),\n",
       " tensor(0.3719),\n",
       " tensor(0.3719),\n",
       " tensor(0.3719),\n",
       " tensor(0.3719),\n",
       " tensor(0.3719),\n",
       " tensor(0.3788),\n",
       " tensor(0.3719),\n",
       " tensor(0.3719),\n",
       " tensor(0.3719),\n",
       " tensor(0.3487),\n",
       " tensor(0.3487),\n",
       " tensor(0.3487),\n",
       " tensor(0.3487),\n",
       " tensor(0.3487),\n",
       " tensor(0.3487),\n",
       " tensor(0.3487),\n",
       " tensor(0.3487),\n",
       " tensor(0.3487),\n",
       " tensor(0.3487),\n",
       " tensor(0.3487),\n",
       " tensor(0.3487),\n",
       " tensor(0.3487),\n",
       " tensor(0.3487),\n",
       " tensor(0.3487),\n",
       " tensor(0.4417),\n",
       " tensor(0.4417),\n",
       " tensor(0.4417),\n",
       " tensor(0.4417),\n",
       " tensor(0.4417),\n",
       " tensor(0.4417),\n",
       " tensor(0.4417),\n",
       " tensor(0.4417),\n",
       " tensor(0.4417),\n",
       " tensor(0.4417),\n",
       " tensor(0.4417),\n",
       " tensor(0.4417),\n",
       " tensor(0.4417),\n",
       " tensor(0.4417),\n",
       " tensor(0.4417),\n",
       " tensor(0.5579),\n",
       " tensor(0.5579),\n",
       " tensor(0.5579),\n",
       " tensor(0.5579),\n",
       " tensor(0.5579),\n",
       " tensor(0.5579),\n",
       " tensor(0.5579),\n",
       " tensor(0.5579),\n",
       " tensor(0.5579),\n",
       " tensor(0.5579),\n",
       " tensor(0.5579),\n",
       " tensor(0.5579),\n",
       " tensor(0.5579),\n",
       " tensor(0.5579),\n",
       " tensor(0.5579),\n",
       " tensor(0.3487),\n",
       " tensor(0.3487),\n",
       " tensor(0.3527),\n",
       " tensor(0.3501),\n",
       " tensor(0.3491),\n",
       " tensor(0.3487),\n",
       " tensor(0.3487),\n",
       " tensor(0.3513),\n",
       " tensor(0.3487),\n",
       " tensor(0.3549),\n",
       " tensor(0.3487),\n",
       " tensor(0.3487),\n",
       " tensor(0.3499),\n",
       " tensor(0.3487),\n",
       " tensor(0.3487),\n",
       " tensor(0.3487),\n",
       " tensor(0.3487),\n",
       " tensor(0.3487),\n",
       " tensor(0.3487),\n",
       " tensor(0.3487),\n",
       " tensor(0.3487),\n",
       " tensor(0.3487),\n",
       " tensor(0.3487),\n",
       " tensor(0.3487),\n",
       " tensor(0.3487),\n",
       " tensor(0.3487),\n",
       " tensor(0.3497),\n",
       " tensor(0.3487),\n",
       " tensor(0.3487),\n",
       " tensor(0.3487),\n",
       " tensor(0.5346),\n",
       " tensor(0.5346),\n",
       " tensor(0.5346),\n",
       " tensor(0.5346),\n",
       " tensor(0.5346),\n",
       " tensor(0.5346),\n",
       " tensor(0.5346),\n",
       " tensor(0.5346),\n",
       " tensor(0.5346),\n",
       " tensor(0.5346),\n",
       " tensor(0.5346),\n",
       " tensor(0.5346),\n",
       " tensor(0.5346),\n",
       " tensor(0.5346),\n",
       " tensor(0.5346),\n",
       " tensor(0.4882),\n",
       " tensor(0.4882),\n",
       " tensor(0.4882),\n",
       " tensor(0.4882),\n",
       " tensor(0.4882),\n",
       " tensor(0.4882),\n",
       " tensor(0.4882),\n",
       " tensor(0.4882),\n",
       " tensor(0.4882),\n",
       " tensor(0.4882),\n",
       " tensor(0.4882),\n",
       " tensor(0.4882),\n",
       " tensor(0.4882),\n",
       " tensor(0.4882),\n",
       " tensor(0.4882),\n",
       " tensor(0.5114),\n",
       " tensor(0.5114),\n",
       " tensor(0.5114),\n",
       " tensor(0.5150),\n",
       " tensor(0.5114),\n",
       " tensor(0.5115),\n",
       " tensor(0.5117),\n",
       " tensor(0.5114),\n",
       " tensor(0.5132),\n",
       " tensor(0.5118),\n",
       " tensor(0.5129),\n",
       " tensor(0.5114),\n",
       " tensor(0.5156),\n",
       " tensor(0.5114),\n",
       " tensor(0.5114),\n",
       " tensor(0.5114),\n",
       " tensor(0.5114),\n",
       " tensor(0.5114),\n",
       " tensor(0.5114),\n",
       " tensor(0.5120),\n",
       " tensor(0.5116),\n",
       " tensor(0.5114),\n",
       " tensor(0.5114),\n",
       " tensor(0.5114),\n",
       " tensor(0.5114),\n",
       " tensor(0.5156),\n",
       " tensor(0.5114),\n",
       " tensor(0.5161),\n",
       " tensor(0.5115),\n",
       " tensor(0.5160),\n",
       " tensor(0.5346),\n",
       " tensor(0.5346),\n",
       " tensor(0.5346),\n",
       " tensor(0.5346),\n",
       " tensor(0.5346),\n",
       " tensor(0.5346),\n",
       " tensor(0.5346),\n",
       " tensor(0.5346),\n",
       " tensor(0.5346),\n",
       " tensor(0.5346),\n",
       " tensor(0.5346),\n",
       " tensor(0.5346),\n",
       " tensor(0.5346),\n",
       " tensor(0.5346),\n",
       " tensor(0.5346),\n",
       " tensor(0.5811),\n",
       " tensor(0.5811),\n",
       " tensor(0.5811),\n",
       " tensor(0.5811),\n",
       " tensor(0.5811),\n",
       " tensor(0.5811),\n",
       " tensor(0.5811),\n",
       " tensor(0.5811),\n",
       " tensor(0.5811),\n",
       " tensor(0.5811),\n",
       " tensor(0.5811),\n",
       " tensor(0.5811),\n",
       " tensor(0.5811),\n",
       " tensor(0.5811),\n",
       " tensor(0.5811),\n",
       " tensor(0.5579),\n",
       " tensor(0.5579),\n",
       " tensor(0.5579),\n",
       " tensor(0.5579),\n",
       " tensor(0.5579),\n",
       " tensor(0.5579),\n",
       " tensor(0.5579),\n",
       " tensor(0.5579),\n",
       " tensor(0.5579),\n",
       " tensor(0.5579),\n",
       " tensor(0.5579),\n",
       " tensor(0.5579),\n",
       " tensor(0.5579),\n",
       " tensor(0.5579),\n",
       " tensor(0.5579),\n",
       " tensor(0.5811),\n",
       " tensor(0.5811),\n",
       " tensor(0.5811),\n",
       " tensor(0.5811),\n",
       " tensor(0.5811),\n",
       " tensor(0.5811),\n",
       " tensor(0.5811),\n",
       " tensor(0.5811),\n",
       " tensor(0.5811),\n",
       " tensor(0.5811),\n",
       " ...]"
      ]
     },
     "execution_count": 56,
     "metadata": {},
     "output_type": "execute_result"
    }
   ],
   "source": [
    "list(KM[9])"
   ]
  },
  {
   "cell_type": "code",
   "execution_count": null,
   "id": "f62c34f9-6c26-4831-8655-3f9f80a146f2",
   "metadata": {},
   "outputs": [],
   "source": []
  },
  {
   "cell_type": "code",
   "execution_count": null,
   "id": "5efc4998-ee59-444d-9ffa-9c07ab57fe6f",
   "metadata": {},
   "outputs": [],
   "source": []
  },
  {
   "cell_type": "code",
   "execution_count": null,
   "id": "08a6c7f1-ed7d-43d5-9139-8d882d5b292e",
   "metadata": {},
   "outputs": [],
   "source": []
  },
  {
   "cell_type": "code",
   "execution_count": 189,
   "id": "c53b207b-4a21-4f6f-883c-5f778e4aae2b",
   "metadata": {},
   "outputs": [],
   "source": [
    "matching_matrix = knrm._get_matching_matrix(query, doc)"
   ]
  },
  {
   "cell_type": "code",
   "execution_count": 199,
   "id": "056ba181-ef4e-4e52-bbd5-7d3309f5581c",
   "metadata": {},
   "outputs": [],
   "source": [
    "query_emb  = torch.stack([\n",
    "            torch.stack([knrm.embeddings.weight[idx] for idx in q]) \n",
    "            for q in query\n",
    "        ])#[:,:,None,:]#.shape\n",
    "doc_emb  = torch.stack([\n",
    "            torch.stack([knrm.embeddings.weight[idx] for idx in q]) \n",
    "            for q in doc\n",
    "        ])#[:,:,None,:]#.shape"
   ]
  },
  {
   "cell_type": "code",
   "execution_count": 202,
   "id": "b3b09817-dc28-4350-ab44-ce8f0a09e63b",
   "metadata": {},
   "outputs": [
    {
     "data": {
      "text/plain": [
       "tensor([[[1.0000, 0.7264, 0.7238,  ..., 0.6513, 0.2725, 0.0000],\n",
       "         [0.7264, 1.0000, 0.7204,  ..., 0.6695, 0.3298, 0.0000],\n",
       "         [0.7238, 0.7204, 1.0000,  ..., 0.9029, 0.4303, 0.0000],\n",
       "         ...,\n",
       "         [0.6513, 0.6695, 0.9029,  ..., 1.0000, 0.4799, 0.0000],\n",
       "         [0.3939, 0.4526, 0.5945,  ..., 0.6452, 0.5187, 0.0000],\n",
       "         [0.0000, 0.0000, 0.0000,  ..., 0.0000, 0.0000, 0.0000]],\n",
       "\n",
       "        [[1.0000, 0.7264, 0.7238,  ..., 0.6513, 0.2403, 0.0000],\n",
       "         [0.7264, 1.0000, 0.7204,  ..., 0.6695, 0.3212, 0.0000],\n",
       "         [0.7238, 0.7204, 1.0000,  ..., 0.9029, 0.4146, 0.0000],\n",
       "         ...,\n",
       "         [0.6513, 0.6695, 0.9029,  ..., 1.0000, 0.4975, 0.0000],\n",
       "         [0.3939, 0.4526, 0.5945,  ..., 0.6452, 0.5190, 0.0000],\n",
       "         [0.0000, 0.0000, 0.0000,  ..., 0.0000, 0.0000, 0.0000]],\n",
       "\n",
       "        [[0.9634, 0.8908, 0.8926,  ..., 0.0000, 0.0000, 0.0000],\n",
       "         [0.7968, 0.7752, 0.6204,  ..., 0.0000, 0.0000, 0.0000],\n",
       "         [0.6770, 0.6325, 0.6265,  ..., 0.0000, 0.0000, 0.0000],\n",
       "         ...,\n",
       "         [0.6022, 0.5457, 0.5739,  ..., 0.0000, 0.0000, 0.0000],\n",
       "         [0.3565, 0.3749, 0.2764,  ..., 0.0000, 0.0000, 0.0000],\n",
       "         [0.0000, 0.0000, 0.0000,  ..., 0.0000, 0.0000, 0.0000]],\n",
       "\n",
       "        ...,\n",
       "\n",
       "        [[1.0000, 0.4532, 0.7238,  ..., 0.0000, 0.0000, 0.0000],\n",
       "         [0.8020, 0.4451, 0.6739,  ..., 0.0000, 0.0000, 0.0000],\n",
       "         [0.8566, 0.4641, 0.7971,  ..., 0.0000, 0.0000, 0.0000],\n",
       "         ...,\n",
       "         [0.0000, 0.0000, 0.0000,  ..., 0.0000, 0.0000, 0.0000],\n",
       "         [0.0000, 0.0000, 0.0000,  ..., 0.0000, 0.0000, 0.0000],\n",
       "         [0.0000, 0.0000, 0.0000,  ..., 0.0000, 0.0000, 0.0000]],\n",
       "\n",
       "        [[0.9634, 0.8020, 0.9368,  ..., 0.0000, 0.0000, 0.0000],\n",
       "         [0.8602, 1.0000, 0.8310,  ..., 0.0000, 0.0000, 0.0000],\n",
       "         [0.8638, 0.8696, 0.8735,  ..., 0.0000, 0.0000, 0.0000],\n",
       "         ...,\n",
       "         [0.0000, 0.0000, 0.0000,  ..., 0.0000, 0.0000, 0.0000],\n",
       "         [0.0000, 0.0000, 0.0000,  ..., 0.0000, 0.0000, 0.0000],\n",
       "         [0.0000, 0.0000, 0.0000,  ..., 0.0000, 0.0000, 0.0000]],\n",
       "\n",
       "        [[1.0000, 0.7264, 0.7959,  ..., 0.0000, 0.0000, 0.0000],\n",
       "         [0.8020, 0.8407, 0.7938,  ..., 0.0000, 0.0000, 0.0000],\n",
       "         [0.8566, 0.8653, 0.8416,  ..., 0.0000, 0.0000, 0.0000],\n",
       "         ...,\n",
       "         [0.0000, 0.0000, 0.0000,  ..., 0.0000, 0.0000, 0.0000],\n",
       "         [0.0000, 0.0000, 0.0000,  ..., 0.0000, 0.0000, 0.0000],\n",
       "         [0.0000, 0.0000, 0.0000,  ..., 0.0000, 0.0000, 0.0000]]])"
      ]
     },
     "execution_count": 202,
     "metadata": {},
     "output_type": "execute_result"
    }
   ],
   "source": [
    "F.cosine_similarity(query_emb[:,:,None,:], doc_emb[:,None,:,:], dim=-1)#.shape"
   ]
  },
  {
   "cell_type": "code",
   "execution_count": 140,
   "id": "546d665b-7644-4842-9fb2-55c1ebcc9abc",
   "metadata": {},
   "outputs": [],
   "source": [
    "kernel = knrm.kernels[10]"
   ]
  },
  {
   "cell_type": "code",
   "execution_count": 148,
   "id": "5b6c2077-0718-4362-890a-2e531e04585b",
   "metadata": {},
   "outputs": [
    {
     "data": {
      "text/plain": [
       "torch.Size([1, 1024])"
      ]
     },
     "execution_count": 148,
     "metadata": {},
     "output_type": "execute_result"
    }
   ],
   "source": [
    "kernel(matching_matrix).sum(dim=-1).shape"
   ]
  },
  {
   "cell_type": "code",
   "execution_count": 141,
   "id": "29c11fa1-988f-43a3-adde-e49406ff234d",
   "metadata": {},
   "outputs": [],
   "source": [
    "query, doc = inp_1['query'], inp_1['document']"
   ]
  },
  {
   "cell_type": "code",
   "execution_count": 89,
   "id": "8f3db92a-a074-4166-a432-d9447f7f8a75",
   "metadata": {},
   "outputs": [
    {
     "data": {
      "text/plain": [
       "torch.Size([1024, 1])"
      ]
     },
     "execution_count": 89,
     "metadata": {},
     "output_type": "execute_result"
    }
   ],
   "source": [
    "knrm.predict(inp_1).shape"
   ]
  },
  {
   "cell_type": "code",
   "execution_count": 29,
   "id": "4ab14bea-7e66-4baa-8a2d-6a52c3fd54b5",
   "metadata": {},
   "outputs": [
    {
     "name": "stdout",
     "output_type": "stream",
     "text": [
      "tensor([24107, 24116, 24136, 24276, 24114, 25987, 24117, 31233, 25051, 24112,\n",
      "        25377, 24176,     0,     0,     0,     0,     0,     0,     0,     0,\n",
      "            0,     0,     0,     0,     0,     0,     0,     0,     0,     0])\n",
      "tensor([24107, 24116, 24136, 24276, 24114, 25987, 24117, 31233, 25051, 24112,\n",
      "        25377, 24176,     0,     0,     0,     0,     0,     0,     0,     0,\n",
      "            0,     0,     0,     0,     0,     0,     0,     0,     0,     0])\n",
      "tensor([24107, 24116, 24136, 24276, 24114, 25987, 24117, 31233, 25051, 24112,\n",
      "        25377, 24176,     0,     0,     0,     0,     0,     0,     0,     0,\n",
      "            0,     0,     0,     0,     0,     0,     0,     0,     0,     0])\n",
      "tensor([24107, 24116, 24136, 24276, 24114, 25987, 24117, 31233, 25051, 24112,\n",
      "        25377, 24176,     0,     0,     0,     0,     0,     0,     0,     0,\n",
      "            0,     0,     0,     0,     0,     0,     0,     0,     0,     0])\n",
      "tensor([24107, 24116, 24136, 24276, 24114, 25987, 24117, 31233, 25051, 24112,\n",
      "        25377, 24176,     0,     0,     0,     0,     0,     0,     0,     0,\n",
      "            0,     0,     0,     0,     0,     0,     0,     0,     0,     0])\n"
     ]
    }
   ],
   "source": [
    "for i in range(5):\n",
    "    print(doc[i+100])"
   ]
  },
  {
   "cell_type": "markdown",
   "id": "f511e1d4-13d9-4e28-9984-3e9a79c9ab32",
   "metadata": {},
   "source": [
    "for i in range(5):\n",
    "    print(query[i+400])"
   ]
  },
  {
   "cell_type": "code",
   "execution_count": 42,
   "id": "4cec6ec5-f6dd-48fe-810e-3f713cf50685",
   "metadata": {},
   "outputs": [
    {
     "data": {
      "text/plain": [
       "tensor([[[ 0.4532,  0.0598, -0.1058,  ...,  0.5324, -0.2510,  0.6255],\n",
       "         [ 0.8052,  0.3712,  0.5593,  ..., -0.1895, -0.2090,  0.4761],\n",
       "         [ 0.9110, -0.2287,  0.2077,  ...,  0.1669, -0.0501,  0.1924],\n",
       "         ...,\n",
       "         [ 0.0000,  0.0000,  0.0000,  ...,  0.0000,  0.0000,  0.0000],\n",
       "         [ 0.0000,  0.0000,  0.0000,  ...,  0.0000,  0.0000,  0.0000],\n",
       "         [ 0.0000,  0.0000,  0.0000,  ...,  0.0000,  0.0000,  0.0000]],\n",
       "\n",
       "        [[ 0.4532,  0.0598, -0.1058,  ...,  0.5324, -0.2510,  0.6255],\n",
       "         [ 0.8052,  0.3712,  0.5593,  ..., -0.1895, -0.2090,  0.4761],\n",
       "         [ 0.9110, -0.2287,  0.2077,  ...,  0.1669, -0.0501,  0.1924],\n",
       "         ...,\n",
       "         [ 0.0000,  0.0000,  0.0000,  ...,  0.0000,  0.0000,  0.0000],\n",
       "         [ 0.0000,  0.0000,  0.0000,  ...,  0.0000,  0.0000,  0.0000],\n",
       "         [ 0.0000,  0.0000,  0.0000,  ...,  0.0000,  0.0000,  0.0000]],\n",
       "\n",
       "        [[ 0.4532,  0.0598, -0.1058,  ...,  0.5324, -0.2510,  0.6255],\n",
       "         [ 0.8052,  0.3712,  0.5593,  ..., -0.1895, -0.2090,  0.4761],\n",
       "         [ 0.9110, -0.2287,  0.2077,  ...,  0.1669, -0.0501,  0.1924],\n",
       "         ...,\n",
       "         [ 0.0000,  0.0000,  0.0000,  ...,  0.0000,  0.0000,  0.0000],\n",
       "         [ 0.0000,  0.0000,  0.0000,  ...,  0.0000,  0.0000,  0.0000],\n",
       "         [ 0.0000,  0.0000,  0.0000,  ...,  0.0000,  0.0000,  0.0000]],\n",
       "\n",
       "        ...,\n",
       "\n",
       "        [[ 0.4532,  0.0598, -0.1058,  ...,  0.5324, -0.2510,  0.6255],\n",
       "         [ 0.8052,  0.3712,  0.5593,  ..., -0.1895, -0.2090,  0.4761],\n",
       "         [ 0.9110, -0.2287,  0.2077,  ...,  0.1669, -0.0501,  0.1924],\n",
       "         ...,\n",
       "         [ 0.0000,  0.0000,  0.0000,  ...,  0.0000,  0.0000,  0.0000],\n",
       "         [ 0.0000,  0.0000,  0.0000,  ...,  0.0000,  0.0000,  0.0000],\n",
       "         [ 0.0000,  0.0000,  0.0000,  ...,  0.0000,  0.0000,  0.0000]],\n",
       "\n",
       "        [[ 0.4532,  0.0598, -0.1058,  ...,  0.5324, -0.2510,  0.6255],\n",
       "         [ 0.8052,  0.3712,  0.5593,  ..., -0.1895, -0.2090,  0.4761],\n",
       "         [ 0.9110, -0.2287,  0.2077,  ...,  0.1669, -0.0501,  0.1924],\n",
       "         ...,\n",
       "         [ 0.0000,  0.0000,  0.0000,  ...,  0.0000,  0.0000,  0.0000],\n",
       "         [ 0.0000,  0.0000,  0.0000,  ...,  0.0000,  0.0000,  0.0000],\n",
       "         [ 0.0000,  0.0000,  0.0000,  ...,  0.0000,  0.0000,  0.0000]],\n",
       "\n",
       "        [[ 0.4532,  0.0598, -0.1058,  ...,  0.5324, -0.2510,  0.6255],\n",
       "         [ 0.8052,  0.3712,  0.5593,  ..., -0.1895, -0.2090,  0.4761],\n",
       "         [ 0.9110, -0.2287,  0.2077,  ...,  0.1669, -0.0501,  0.1924],\n",
       "         ...,\n",
       "         [ 0.0000,  0.0000,  0.0000,  ...,  0.0000,  0.0000,  0.0000],\n",
       "         [ 0.0000,  0.0000,  0.0000,  ...,  0.0000,  0.0000,  0.0000],\n",
       "         [ 0.0000,  0.0000,  0.0000,  ...,  0.0000,  0.0000,  0.0000]]])"
      ]
     },
     "execution_count": 42,
     "metadata": {},
     "output_type": "execute_result"
    }
   ],
   "source": [
    "torch.stack([\n",
    "            torch.stack([knrm.embeddings.weight[idx] for idx in q]) \n",
    "            for q in query\n",
    "        ])"
   ]
  },
  {
   "cell_type": "code",
   "execution_count": 134,
   "id": "0f4bf1a6-00f4-41d4-865a-8ae69a945c73",
   "metadata": {},
   "outputs": [],
   "source": [
    "kernel = knrm.kernels[0]"
   ]
  },
  {
   "cell_type": "code",
   "execution_count": 54,
   "id": "bcb94afe-b162-4a5c-8795-1fe5d3870e3f",
   "metadata": {},
   "outputs": [
    {
     "data": {
      "text/plain": [
       "tensor(1.7110e-16)"
      ]
     },
     "execution_count": 54,
     "metadata": {},
     "output_type": "execute_result"
    }
   ],
   "source": [
    "kernel(matching_matrix).sum(dim=-1)"
   ]
  },
  {
   "cell_type": "code",
   "execution_count": 12,
   "id": "c665965b-b91f-4de4-bde2-da5c55d52387",
   "metadata": {},
   "outputs": [
    {
     "data": {
      "text/plain": [
       "torch.Size([1024])"
      ]
     },
     "execution_count": 12,
     "metadata": {},
     "output_type": "execute_result"
    }
   ],
   "source": [
    "y.shape"
   ]
  },
  {
   "cell_type": "code",
   "execution_count": 48,
   "id": "89dafe96-8b24-4c5a-93b7-cee653ae9b78",
   "metadata": {},
   "outputs": [],
   "source": [
    "matching_matrix = knrm._get_matching_matrix(inp_1['query'], inp_1['document'])#.shape"
   ]
  },
  {
   "cell_type": "code",
   "execution_count": 77,
   "id": "aa3257c9-67dc-4fb9-ac96-7952eab7fd8b",
   "metadata": {},
   "outputs": [],
   "source": [
    "distances = ((x - 0) ** 2)#.sum(dim=-1)\n",
    "kernel_matrix = np.exp(-distances / (2 * 1 ** 2)).sum(dim=-1)"
   ]
  },
  {
   "cell_type": "code",
   "execution_count": 100,
   "id": "94253dfd-0bf3-4fd9-af06-702efa3504f1",
   "metadata": {},
   "outputs": [],
   "source": [
    "distances = ((x.unsqueeze(0) - 1) **2).sum(2)#.shape"
   ]
  },
  {
   "cell_type": "code",
   "execution_count": 78,
   "id": "4baf34cc-036f-4627-8f44-fba78636e708",
   "metadata": {},
   "outputs": [
    {
     "data": {
      "text/plain": [
       "torch.Size([1024, 30])"
      ]
     },
     "execution_count": 78,
     "metadata": {},
     "output_type": "execute_result"
    }
   ],
   "source": [
    "kernel_matrix.shape"
   ]
  },
  {
   "cell_type": "code",
   "execution_count": 102,
   "id": "2003e124-bc8f-4334-87d0-4438d2bd05f9",
   "metadata": {},
   "outputs": [
    {
     "data": {
      "text/plain": [
       "torch.Size([1, 1024, 30])"
      ]
     },
     "execution_count": 102,
     "metadata": {},
     "output_type": "execute_result"
    }
   ],
   "source": [
    "torch.exp(-distances/ (2 * 1)).shape"
   ]
  },
  {
   "cell_type": "code",
   "execution_count": 122,
   "id": "ea8bccf2-8e0b-45d6-822a-f9a8217b699c",
   "metadata": {},
   "outputs": [
    {
     "data": {
      "text/plain": [
       "torch.Size([1, 1024, 30])"
      ]
     },
     "execution_count": 122,
     "metadata": {},
     "output_type": "execute_result"
    }
   ],
   "source": [
    "(x.unsqueeze(0)- 0.2).sum(-1).shape"
   ]
  },
  {
   "cell_type": "code",
   "execution_count": 127,
   "id": "485c92b5-1286-4aab-a68e-5115ad018647",
   "metadata": {},
   "outputs": [],
   "source": [
    "def forward(x):\n",
    "    # допишите ваш код здесь\n",
    "    #distances = np.sum((x[:, np.newaxis] - self.mu) ** 2, axis=-1)\n",
    "    distances = ((x.unsqueeze(0) - 0) ** 2).sum(-1)\n",
    "    kernel_matrix = torch.exp(-distances / (2 * 0.01 ** 2))\n",
    "    return kernel_matrix"
   ]
  },
  {
   "cell_type": "code",
   "execution_count": 128,
   "id": "79d50d6c-c7d2-457e-9c31-01937eb6560b",
   "metadata": {},
   "outputs": [
    {
     "data": {
      "text/plain": [
       "torch.Size([1, 1024, 30])"
      ]
     },
     "execution_count": 128,
     "metadata": {},
     "output_type": "execute_result"
    }
   ],
   "source": [
    "forward(x).shape"
   ]
  },
  {
   "cell_type": "code",
   "execution_count": 135,
   "id": "be4c7335-fd6c-4819-bc4c-ed16e33e5aaf",
   "metadata": {},
   "outputs": [
    {
     "data": {
      "text/plain": [
       "tensor([0.])"
      ]
     },
     "execution_count": 135,
     "metadata": {},
     "output_type": "execute_result"
    }
   ],
   "source": [
    "matching_matrix = forward(x)\n",
    "torch.log1p(kernel(matching_matrix).sum(dim=-1)).sum(dim=-1)"
   ]
  },
  {
   "cell_type": "code",
   "execution_count": 137,
   "id": "9491a0eb-884b-4db9-891d-0e0fb118c259",
   "metadata": {},
   "outputs": [
    {
     "data": {
      "text/plain": [
       "torch.Size([1, 1024, 30])"
      ]
     },
     "execution_count": 137,
     "metadata": {},
     "output_type": "execute_result"
    }
   ],
   "source": [
    "matching_matrix.shape"
   ]
  },
  {
   "cell_type": "code",
   "execution_count": 7,
   "id": "2559bdef-d36b-45b7-b535-4d692002dcc2",
   "metadata": {},
   "outputs": [
    {
     "ename": "TypeError",
     "evalue": "'DataLoader' object is not subscriptable",
     "output_type": "error",
     "traceback": [
      "\u001b[0;31m---------------------------------------------------------------------------\u001b[0m",
      "\u001b[0;31mTypeError\u001b[0m                                 Traceback (most recent call last)",
      "Input \u001b[0;32mIn [7]\u001b[0m, in \u001b[0;36m<module>\u001b[0;34m\u001b[0m\n\u001b[0;32m----> 1\u001b[0m \u001b[43mentity\u001b[49m\u001b[38;5;241;43m.\u001b[39;49m\u001b[43mval_dataloader\u001b[49m\u001b[43m[\u001b[49m\u001b[38;5;241;43m0\u001b[39;49m\u001b[43m]\u001b[49m\n",
      "\u001b[0;31mTypeError\u001b[0m: 'DataLoader' object is not subscriptable"
     ]
    }
   ],
   "source": [
    "entity.val_dataloader[0]"
   ]
  },
  {
   "cell_type": "code",
   "execution_count": 28,
   "id": "f16db085-3b8a-45de-91f4-9687c0215896",
   "metadata": {},
   "outputs": [
    {
     "data": {
      "text/plain": [
       "({'query': 14659, 'document': 239068}, 0)"
      ]
     },
     "execution_count": 28,
     "metadata": {},
     "output_type": "execute_result"
    }
   ],
   "source": [
    "val_dataset.__getitem__(5555)"
   ]
  },
  {
   "cell_type": "code",
   "execution_count": 36,
   "id": "d58d85d4-24c9-490b-9be7-fc5641db792c",
   "metadata": {},
   "outputs": [],
   "source": [
    "max_len_q1 = -1 \n",
    "pad_len1 = max_len_q1 - len(left_elem['query'])"
   ]
  },
  {
   "cell_type": "code",
   "execution_count": 37,
   "id": "bf21e79c-892b-4a1a-9c33-11b975c9343a",
   "metadata": {},
   "outputs": [
    {
     "ename": "TypeError",
     "evalue": "unsupported operand type(s) for +: 'int' and 'list'",
     "output_type": "error",
     "traceback": [
      "\u001b[0;31m---------------------------------------------------------------------------\u001b[0m",
      "\u001b[0;31mTypeError\u001b[0m                                 Traceback (most recent call last)",
      "Input \u001b[0;32mIn [37]\u001b[0m, in \u001b[0;36m<module>\u001b[0;34m\u001b[0m\n\u001b[0;32m----> 1\u001b[0m \u001b[38;5;28;43mint\u001b[39;49m\u001b[43m(\u001b[49m\u001b[43mleft_elem\u001b[49m\u001b[43m[\u001b[49m\u001b[38;5;124;43m'\u001b[39;49m\u001b[38;5;124;43mquery\u001b[39;49m\u001b[38;5;124;43m'\u001b[39;49m\u001b[43m]\u001b[49m\u001b[43m)\u001b[49m\u001b[43m \u001b[49m\u001b[38;5;241;43m+\u001b[39;49m\u001b[43m \u001b[49m\u001b[43m[\u001b[49m\u001b[38;5;241;43m0\u001b[39;49m\u001b[43m]\u001b[49m\u001b[43m \u001b[49m\u001b[38;5;241;43m*\u001b[39;49m\u001b[43m \u001b[49m\u001b[43mpad_len1\u001b[49m\n",
      "\u001b[0;31mTypeError\u001b[0m: unsupported operand type(s) for +: 'int' and 'list'"
     ]
    }
   ],
   "source": [
    "int(left_elem['query']) + [0] * pad_len1"
   ]
  },
  {
   "cell_type": "code",
   "execution_count": null,
   "id": "239588a8-a635-4e46-89a0-47824c2bceea",
   "metadata": {},
   "outputs": [],
   "source": [
    "max(len(left_elem['query']), max_len_q1)"
   ]
  },
  {
   "cell_type": "code",
   "execution_count": 11,
   "id": "f1f858c6-2a0b-41fb-945c-6dc927519ae0",
   "metadata": {},
   "outputs": [
    {
     "data": {
      "text/plain": [
       "5"
      ]
     },
     "execution_count": 11,
     "metadata": {},
     "output_type": "execute_result"
    }
   ],
   "source": [
    "left_elem = {'query': '14840', 'document': '57529'}\n",
    "\n",
    "len(left_elem['query'])"
   ]
  },
  {
   "cell_type": "code",
   "execution_count": 13,
   "id": "80afe687-5788-44e5-8b9a-711ae3eb5a9c",
   "metadata": {},
   "outputs": [
    {
     "ename": "TypeError",
     "evalue": "can only concatenate str (not \"list\") to str",
     "output_type": "error",
     "traceback": [
      "\u001b[0;31m---------------------------------------------------------------------------\u001b[0m",
      "\u001b[0;31mTypeError\u001b[0m                                 Traceback (most recent call last)",
      "Input \u001b[0;32mIn [13]\u001b[0m, in \u001b[0;36m<module>\u001b[0;34m\u001b[0m\n\u001b[0;32m----> 1\u001b[0m \u001b[43mleft_elem\u001b[49m\u001b[43m[\u001b[49m\u001b[38;5;124;43m'\u001b[39;49m\u001b[38;5;124;43mquery\u001b[39;49m\u001b[38;5;124;43m'\u001b[39;49m\u001b[43m]\u001b[49m\u001b[43m \u001b[49m\u001b[38;5;241;43m+\u001b[39;49m\u001b[43m \u001b[49m\u001b[43m[\u001b[49m\u001b[38;5;241;43m0\u001b[39;49m\u001b[43m]\u001b[49m\u001b[43m \u001b[49m\u001b[38;5;241;43m*\u001b[39;49m\u001b[43m \u001b[49m\u001b[38;5;241;43m10\u001b[39;49m\n",
      "\u001b[0;31mTypeError\u001b[0m: can only concatenate str (not \"list\") to str"
     ]
    }
   ],
   "source": [
    "left_elem['query'] + [0] * 10"
   ]
  },
  {
   "cell_type": "code",
   "execution_count": 22,
   "id": "14dad540-f1a9-4be8-91c3-b70d52004d7b",
   "metadata": {},
   "outputs": [
    {
     "data": {
      "text/html": [
       "<div>\n",
       "<style scoped>\n",
       "    .dataframe tbody tr th:only-of-type {\n",
       "        vertical-align: middle;\n",
       "    }\n",
       "\n",
       "    .dataframe tbody tr th {\n",
       "        vertical-align: top;\n",
       "    }\n",
       "\n",
       "    .dataframe thead th {\n",
       "        text-align: right;\n",
       "    }\n",
       "</style>\n",
       "<table border=\"1\" class=\"dataframe\">\n",
       "  <thead>\n",
       "    <tr style=\"text-align: right;\">\n",
       "      <th></th>\n",
       "      <th>id_left</th>\n",
       "      <th>text_left</th>\n",
       "    </tr>\n",
       "  </thead>\n",
       "  <tbody>\n",
       "    <tr>\n",
       "      <th>0</th>\n",
       "      <td>213221</td>\n",
       "      <td>How is the life of a math student? Could you d...</td>\n",
       "    </tr>\n",
       "    <tr>\n",
       "      <th>1</th>\n",
       "      <td>536040</td>\n",
       "      <td>How do I control my horny emotions?</td>\n",
       "    </tr>\n",
       "    <tr>\n",
       "      <th>2</th>\n",
       "      <td>364011</td>\n",
       "      <td>What causes stool color to change to yellow?</td>\n",
       "    </tr>\n",
       "    <tr>\n",
       "      <th>3</th>\n",
       "      <td>155721</td>\n",
       "      <td>What can one do after MBBS?</td>\n",
       "    </tr>\n",
       "    <tr>\n",
       "      <th>4</th>\n",
       "      <td>279958</td>\n",
       "      <td>Where can I find a power outlet for my laptop ...</td>\n",
       "    </tr>\n",
       "    <tr>\n",
       "      <th>...</th>\n",
       "      <td>...</td>\n",
       "      <td>...</td>\n",
       "    </tr>\n",
       "    <tr>\n",
       "      <th>320755</th>\n",
       "      <td>145775</td>\n",
       "      <td>Why might a girl feel bad when she gets a love...</td>\n",
       "    </tr>\n",
       "    <tr>\n",
       "      <th>320756</th>\n",
       "      <td>12956</td>\n",
       "      <td>Have the Ancient Mayans been scientifically te...</td>\n",
       "    </tr>\n",
       "    <tr>\n",
       "      <th>320757</th>\n",
       "      <td>29399</td>\n",
       "      <td>What is the best solution to the Kashmir confl...</td>\n",
       "    </tr>\n",
       "    <tr>\n",
       "      <th>320758</th>\n",
       "      <td>38855</td>\n",
       "      <td>Are there any free public company financial da...</td>\n",
       "    </tr>\n",
       "    <tr>\n",
       "      <th>320759</th>\n",
       "      <td>244865</td>\n",
       "      <td>What are the top books that teach Android eCom...</td>\n",
       "    </tr>\n",
       "  </tbody>\n",
       "</table>\n",
       "<p>320760 rows × 2 columns</p>\n",
       "</div>"
      ],
      "text/plain": [
       "       id_left                                          text_left\n",
       "0       213221  How is the life of a math student? Could you d...\n",
       "1       536040                How do I control my horny emotions?\n",
       "2       364011       What causes stool color to change to yellow?\n",
       "3       155721                        What can one do after MBBS?\n",
       "4       279958  Where can I find a power outlet for my laptop ...\n",
       "...        ...                                                ...\n",
       "320755  145775  Why might a girl feel bad when she gets a love...\n",
       "320756   12956  Have the Ancient Mayans been scientifically te...\n",
       "320757   29399  What is the best solution to the Kashmir confl...\n",
       "320758   38855  Are there any free public company financial da...\n",
       "320759  244865  What are the top books that teach Android eCom...\n",
       "\n",
       "[320760 rows x 2 columns]"
      ]
     },
     "execution_count": 22,
     "metadata": {},
     "output_type": "execute_result"
    }
   ],
   "source": [
    "entity.glue_train_df[['id_left', 'text_left']]"
   ]
  },
  {
   "cell_type": "code",
   "execution_count": 15,
   "id": "434ad6e2-75de-425a-a82e-175e4982de3f",
   "metadata": {},
   "outputs": [
    {
     "ename": "TypeError",
     "evalue": "sum() received an invalid combination of arguments - got (out=NoneType, axis=int, ), but expected one of:\n * (*, torch.dtype dtype)\n      didn't match because some of the keywords were incorrect: out, axis\n * (tuple of names dim, bool keepdim, *, torch.dtype dtype)\n * (tuple of ints dim, bool keepdim, *, torch.dtype dtype)\n",
     "output_type": "error",
     "traceback": [
      "\u001b[0;31m---------------------------------------------------------------------------\u001b[0m",
      "\u001b[0;31mTypeError\u001b[0m                                 Traceback (most recent call last)",
      "Input \u001b[0;32mIn [15]\u001b[0m, in \u001b[0;36m<module>\u001b[0;34m\u001b[0m\n\u001b[1;32m      1\u001b[0m x \u001b[38;5;241m=\u001b[39m torch\u001b[38;5;241m.\u001b[39mTensor([\u001b[38;5;241m0\u001b[39m,\u001b[38;5;241m1\u001b[39m,\u001b[38;5;241m1\u001b[39m])\n\u001b[0;32m----> 2\u001b[0m distances \u001b[38;5;241m=\u001b[39m \u001b[43mnp\u001b[49m\u001b[38;5;241;43m.\u001b[39;49m\u001b[43msum\u001b[49m\u001b[43m(\u001b[49m\u001b[43m(\u001b[49m\u001b[43mx\u001b[49m\u001b[43m[\u001b[49m\u001b[43m:\u001b[49m\u001b[43m,\u001b[49m\u001b[43m \u001b[49m\u001b[43mnp\u001b[49m\u001b[38;5;241;43m.\u001b[39;49m\u001b[43mnewaxis\u001b[49m\u001b[43m]\u001b[49m\u001b[43m \u001b[49m\u001b[38;5;241;43m-\u001b[39;49m\u001b[43m \u001b[49m\u001b[38;5;241;43m0\u001b[39;49m\u001b[43m)\u001b[49m\u001b[43m \u001b[49m\u001b[38;5;241;43m*\u001b[39;49m\u001b[38;5;241;43m*\u001b[39;49m\u001b[43m \u001b[49m\u001b[38;5;241;43m2\u001b[39;49m\u001b[43m,\u001b[49m\u001b[43m \u001b[49m\u001b[43maxis\u001b[49m\u001b[38;5;241;43m=\u001b[39;49m\u001b[38;5;241;43m-\u001b[39;49m\u001b[38;5;241;43m1\u001b[39;49m\u001b[43m)\u001b[49m\n",
      "File \u001b[0;32m<__array_function__ internals>:5\u001b[0m, in \u001b[0;36msum\u001b[0;34m(*args, **kwargs)\u001b[0m\n",
      "File \u001b[0;32m/opt/conda/lib/python3.8/site-packages/numpy/core/fromnumeric.py:2241\u001b[0m, in \u001b[0;36msum\u001b[0;34m(a, axis, dtype, out, keepdims, initial, where)\u001b[0m\n\u001b[1;32m   2238\u001b[0m         \u001b[38;5;28;01mreturn\u001b[39;00m out\n\u001b[1;32m   2239\u001b[0m     \u001b[38;5;28;01mreturn\u001b[39;00m res\n\u001b[0;32m-> 2241\u001b[0m \u001b[38;5;28;01mreturn\u001b[39;00m \u001b[43m_wrapreduction\u001b[49m\u001b[43m(\u001b[49m\u001b[43ma\u001b[49m\u001b[43m,\u001b[49m\u001b[43m \u001b[49m\u001b[43mnp\u001b[49m\u001b[38;5;241;43m.\u001b[39;49m\u001b[43madd\u001b[49m\u001b[43m,\u001b[49m\u001b[43m \u001b[49m\u001b[38;5;124;43m'\u001b[39;49m\u001b[38;5;124;43msum\u001b[39;49m\u001b[38;5;124;43m'\u001b[39;49m\u001b[43m,\u001b[49m\u001b[43m \u001b[49m\u001b[43maxis\u001b[49m\u001b[43m,\u001b[49m\u001b[43m \u001b[49m\u001b[43mdtype\u001b[49m\u001b[43m,\u001b[49m\u001b[43m \u001b[49m\u001b[43mout\u001b[49m\u001b[43m,\u001b[49m\u001b[43m \u001b[49m\u001b[43mkeepdims\u001b[49m\u001b[38;5;241;43m=\u001b[39;49m\u001b[43mkeepdims\u001b[49m\u001b[43m,\u001b[49m\n\u001b[1;32m   2242\u001b[0m \u001b[43m                      \u001b[49m\u001b[43minitial\u001b[49m\u001b[38;5;241;43m=\u001b[39;49m\u001b[43minitial\u001b[49m\u001b[43m,\u001b[49m\u001b[43m \u001b[49m\u001b[43mwhere\u001b[49m\u001b[38;5;241;43m=\u001b[39;49m\u001b[43mwhere\u001b[49m\u001b[43m)\u001b[49m\n",
      "File \u001b[0;32m/opt/conda/lib/python3.8/site-packages/numpy/core/fromnumeric.py:85\u001b[0m, in \u001b[0;36m_wrapreduction\u001b[0;34m(obj, ufunc, method, axis, dtype, out, **kwargs)\u001b[0m\n\u001b[1;32m     83\u001b[0m             \u001b[38;5;28;01mreturn\u001b[39;00m reduction(axis\u001b[38;5;241m=\u001b[39maxis, dtype\u001b[38;5;241m=\u001b[39mdtype, out\u001b[38;5;241m=\u001b[39mout, \u001b[38;5;241m*\u001b[39m\u001b[38;5;241m*\u001b[39mpasskwargs)\n\u001b[1;32m     84\u001b[0m         \u001b[38;5;28;01melse\u001b[39;00m:\n\u001b[0;32m---> 85\u001b[0m             \u001b[38;5;28;01mreturn\u001b[39;00m \u001b[43mreduction\u001b[49m\u001b[43m(\u001b[49m\u001b[43maxis\u001b[49m\u001b[38;5;241;43m=\u001b[39;49m\u001b[43maxis\u001b[49m\u001b[43m,\u001b[49m\u001b[43m \u001b[49m\u001b[43mout\u001b[49m\u001b[38;5;241;43m=\u001b[39;49m\u001b[43mout\u001b[49m\u001b[43m,\u001b[49m\u001b[43m \u001b[49m\u001b[38;5;241;43m*\u001b[39;49m\u001b[38;5;241;43m*\u001b[39;49m\u001b[43mpasskwargs\u001b[49m\u001b[43m)\u001b[49m\n\u001b[1;32m     87\u001b[0m \u001b[38;5;28;01mreturn\u001b[39;00m ufunc\u001b[38;5;241m.\u001b[39mreduce(obj, axis, dtype, out, \u001b[38;5;241m*\u001b[39m\u001b[38;5;241m*\u001b[39mpasskwargs)\n",
      "\u001b[0;31mTypeError\u001b[0m: sum() received an invalid combination of arguments - got (out=NoneType, axis=int, ), but expected one of:\n * (*, torch.dtype dtype)\n      didn't match because some of the keywords were incorrect: out, axis\n * (tuple of names dim, bool keepdim, *, torch.dtype dtype)\n * (tuple of ints dim, bool keepdim, *, torch.dtype dtype)\n"
     ]
    }
   ],
   "source": [
    "x = torch.Tensor([0,1,1])\n",
    "distances = np.sum((x[:, np.newaxis] - 0) ** 2, axis=-1)"
   ]
  },
  {
   "cell_type": "code",
   "execution_count": 19,
   "id": "59eb2102-b14d-4fda-84b3-fec628c5c936",
   "metadata": {},
   "outputs": [
    {
     "data": {
      "text/plain": [
       "tensor([[0.],\n",
       "        [1.],\n",
       "        [1.]])"
      ]
     },
     "execution_count": 19,
     "metadata": {},
     "output_type": "execute_result"
    }
   ],
   "source": [
    "(x[:, np.newaxis] - 0) ** 2"
   ]
  },
  {
   "cell_type": "code",
   "execution_count": null,
   "id": "ff1ff7f0-e9de-4dd4-b02b-4e2f3f66c3d6",
   "metadata": {},
   "outputs": [],
   "source": [
    "np.sum((x[:, np.newaxis] - 0) ** 2, axis=-1)"
   ]
  },
  {
   "cell_type": "code",
   "execution_count": 21,
   "id": "a555dd8b-2264-4a3d-b1f1-34806527ea0e",
   "metadata": {},
   "outputs": [],
   "source": [
    "distances = (x[:, np.newaxis] - 0) ** 2\n",
    "kernel_matrix = np.exp(-distances / (2 * 1 ** 2))"
   ]
  },
  {
   "cell_type": "code",
   "execution_count": 23,
   "id": "f29acd4f-89c7-4b65-a10e-1820f5a1f86f",
   "metadata": {},
   "outputs": [
    {
     "ename": "TypeError",
     "evalue": "sum() received an invalid combination of arguments - got (out=NoneType, axis=NoneType, ), but expected one of:\n * (*, torch.dtype dtype)\n      didn't match because some of the keywords were incorrect: out, axis\n * (tuple of names dim, bool keepdim, *, torch.dtype dtype)\n * (tuple of ints dim, bool keepdim, *, torch.dtype dtype)\n",
     "output_type": "error",
     "traceback": [
      "\u001b[0;31m---------------------------------------------------------------------------\u001b[0m",
      "\u001b[0;31mTypeError\u001b[0m                                 Traceback (most recent call last)",
      "Input \u001b[0;32mIn [23]\u001b[0m, in \u001b[0;36m<module>\u001b[0;34m\u001b[0m\n\u001b[0;32m----> 1\u001b[0m \u001b[43mnp\u001b[49m\u001b[38;5;241;43m.\u001b[39;49m\u001b[43msum\u001b[49m\u001b[43m(\u001b[49m\u001b[43mkernel_matrix\u001b[49m\u001b[43m)\u001b[49m\n",
      "File \u001b[0;32m<__array_function__ internals>:5\u001b[0m, in \u001b[0;36msum\u001b[0;34m(*args, **kwargs)\u001b[0m\n",
      "File \u001b[0;32m/opt/conda/lib/python3.8/site-packages/numpy/core/fromnumeric.py:2241\u001b[0m, in \u001b[0;36msum\u001b[0;34m(a, axis, dtype, out, keepdims, initial, where)\u001b[0m\n\u001b[1;32m   2238\u001b[0m         \u001b[38;5;28;01mreturn\u001b[39;00m out\n\u001b[1;32m   2239\u001b[0m     \u001b[38;5;28;01mreturn\u001b[39;00m res\n\u001b[0;32m-> 2241\u001b[0m \u001b[38;5;28;01mreturn\u001b[39;00m \u001b[43m_wrapreduction\u001b[49m\u001b[43m(\u001b[49m\u001b[43ma\u001b[49m\u001b[43m,\u001b[49m\u001b[43m \u001b[49m\u001b[43mnp\u001b[49m\u001b[38;5;241;43m.\u001b[39;49m\u001b[43madd\u001b[49m\u001b[43m,\u001b[49m\u001b[43m \u001b[49m\u001b[38;5;124;43m'\u001b[39;49m\u001b[38;5;124;43msum\u001b[39;49m\u001b[38;5;124;43m'\u001b[39;49m\u001b[43m,\u001b[49m\u001b[43m \u001b[49m\u001b[43maxis\u001b[49m\u001b[43m,\u001b[49m\u001b[43m \u001b[49m\u001b[43mdtype\u001b[49m\u001b[43m,\u001b[49m\u001b[43m \u001b[49m\u001b[43mout\u001b[49m\u001b[43m,\u001b[49m\u001b[43m \u001b[49m\u001b[43mkeepdims\u001b[49m\u001b[38;5;241;43m=\u001b[39;49m\u001b[43mkeepdims\u001b[49m\u001b[43m,\u001b[49m\n\u001b[1;32m   2242\u001b[0m \u001b[43m                      \u001b[49m\u001b[43minitial\u001b[49m\u001b[38;5;241;43m=\u001b[39;49m\u001b[43minitial\u001b[49m\u001b[43m,\u001b[49m\u001b[43m \u001b[49m\u001b[43mwhere\u001b[49m\u001b[38;5;241;43m=\u001b[39;49m\u001b[43mwhere\u001b[49m\u001b[43m)\u001b[49m\n",
      "File \u001b[0;32m/opt/conda/lib/python3.8/site-packages/numpy/core/fromnumeric.py:85\u001b[0m, in \u001b[0;36m_wrapreduction\u001b[0;34m(obj, ufunc, method, axis, dtype, out, **kwargs)\u001b[0m\n\u001b[1;32m     83\u001b[0m             \u001b[38;5;28;01mreturn\u001b[39;00m reduction(axis\u001b[38;5;241m=\u001b[39maxis, dtype\u001b[38;5;241m=\u001b[39mdtype, out\u001b[38;5;241m=\u001b[39mout, \u001b[38;5;241m*\u001b[39m\u001b[38;5;241m*\u001b[39mpasskwargs)\n\u001b[1;32m     84\u001b[0m         \u001b[38;5;28;01melse\u001b[39;00m:\n\u001b[0;32m---> 85\u001b[0m             \u001b[38;5;28;01mreturn\u001b[39;00m \u001b[43mreduction\u001b[49m\u001b[43m(\u001b[49m\u001b[43maxis\u001b[49m\u001b[38;5;241;43m=\u001b[39;49m\u001b[43maxis\u001b[49m\u001b[43m,\u001b[49m\u001b[43m \u001b[49m\u001b[43mout\u001b[49m\u001b[38;5;241;43m=\u001b[39;49m\u001b[43mout\u001b[49m\u001b[43m,\u001b[49m\u001b[43m \u001b[49m\u001b[38;5;241;43m*\u001b[39;49m\u001b[38;5;241;43m*\u001b[39;49m\u001b[43mpasskwargs\u001b[49m\u001b[43m)\u001b[49m\n\u001b[1;32m     87\u001b[0m \u001b[38;5;28;01mreturn\u001b[39;00m ufunc\u001b[38;5;241m.\u001b[39mreduce(obj, axis, dtype, out, \u001b[38;5;241m*\u001b[39m\u001b[38;5;241m*\u001b[39mpasskwargs)\n",
      "\u001b[0;31mTypeError\u001b[0m: sum() received an invalid combination of arguments - got (out=NoneType, axis=NoneType, ), but expected one of:\n * (*, torch.dtype dtype)\n      didn't match because some of the keywords were incorrect: out, axis\n * (tuple of names dim, bool keepdim, *, torch.dtype dtype)\n * (tuple of ints dim, bool keepdim, *, torch.dtype dtype)\n"
     ]
    }
   ],
   "source": [
    "np.sum(kernel_matrix)"
   ]
  },
  {
   "cell_type": "code",
   "execution_count": 24,
   "id": "fb10253e-c755-41f4-bafb-b9b30c23a2b4",
   "metadata": {},
   "outputs": [
    {
     "data": {
      "text/plain": [
       "tensor([[1.0000],\n",
       "        [0.6065],\n",
       "        [0.6065]])"
      ]
     },
     "execution_count": 24,
     "metadata": {},
     "output_type": "execute_result"
    }
   ],
   "source": [
    "kernel_matrix"
   ]
  },
  {
   "cell_type": "code",
   "execution_count": 25,
   "id": "8e93c2b5-c946-421e-9c80-c7f6435453db",
   "metadata": {},
   "outputs": [
    {
     "data": {
      "text/plain": [
       "tensor(2.2131)"
      ]
     },
     "execution_count": 25,
     "metadata": {},
     "output_type": "execute_result"
    }
   ],
   "source": [
    "torch.sum(kernel_matrix)"
   ]
  },
  {
   "cell_type": "code",
   "execution_count": 28,
   "id": "0a437cc9-263d-4613-9eba-ec48eb2e6e12",
   "metadata": {},
   "outputs": [],
   "source": [
    "#entity.create_val_pairs(entity.glue_dev_df)"
   ]
  },
  {
   "cell_type": "code",
   "execution_count": null,
   "id": "aa520dec-43c9-4df7-b9fc-47d889cce3a2",
   "metadata": {},
   "outputs": [],
   "source": []
  }
 ],
 "metadata": {
  "kernelspec": {
   "display_name": "Python 3 (ipykernel)",
   "language": "python",
   "name": "python3"
  },
  "language_info": {
   "codemirror_mode": {
    "name": "ipython",
    "version": 3
   },
   "file_extension": ".py",
   "mimetype": "text/x-python",
   "name": "python",
   "nbconvert_exporter": "python",
   "pygments_lexer": "ipython3",
   "version": "3.8.10"
  }
 },
 "nbformat": 4,
 "nbformat_minor": 5
}
