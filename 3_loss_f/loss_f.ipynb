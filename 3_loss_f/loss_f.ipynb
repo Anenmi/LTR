{
 "cells": [
  {
   "cell_type": "code",
   "execution_count": 1,
   "id": "8a0a6de6-0098-48d5-9dd8-5a69f5e98aad",
   "metadata": {},
   "outputs": [
    {
     "name": "stderr",
     "output_type": "stream",
     "text": [
      "/home/karpov/LTR/loss_f/solution_template.py:126: SyntaxWarning: assertion is always true, perhaps remove parentheses?\n",
      "  assert(batch_y.shape == batch_pred.shape,\n",
      "/home/karpov/LTR/loss_f/solution_template.py:147: SyntaxWarning: assertion is always true, perhaps remove parentheses?\n",
      "  assert(batch_y.shape == batch_pred.shape,\n"
     ]
    }
   ],
   "source": [
    "from solution_template import *"
   ]
  },
  {
   "cell_type": "code",
   "execution_count": 2,
   "id": "d16e5169-7555-4f16-af35-1dc20679c2cb",
   "metadata": {},
   "outputs": [
    {
     "name": "stdout",
     "output_type": "stream",
     "text": [
      "len(key_query_ids) 87\n",
      "len(key_query_ids) 88\n",
      "key_query_ids_train shape -  (87,)\n",
      "key_query_ids_test shape -  (88,)\n",
      "index_query_ids_train shape -  (10000,)\n",
      "index_query_ids_test shape -  (10000,)\n",
      "query_ids_train shape -  (10000,)\n",
      "query_ids_test shape -  (10000,)\n",
      "shapes -  torch.Size([10000, 136]) torch.Size([10000]) torch.Size([10000, 136]) torch.Size([10000])\n",
      "num_input_features -  136\n"
     ]
    }
   ],
   "source": [
    "entity = Solution()"
   ]
  },
  {
   "cell_type": "code",
   "execution_count": 3,
   "id": "e8e62fe0-6424-49a4-ae7f-12ab6af3ec4b",
   "metadata": {},
   "outputs": [
    {
     "name": "stderr",
     "output_type": "stream",
     "text": [
      "/opt/conda/lib/python3.8/site-packages/torch/autograd/__init__.py:130: UserWarning: CUDA initialization: Found no NVIDIA driver on your system. Please check that you have an NVIDIA GPU and installed a driver from http://www.nvidia.com/Download/index.aspx (Triggered internally at  /pytorch/c10/cuda/CUDAFunctions.cpp:100.)\n",
      "  Variable._execution_engine.run_backward(\n"
     ]
    },
    {
     "name": "stdout",
     "output_type": "stream",
     "text": [
      "epoch number -  0\n",
      "nDCG: 0.4258\n",
      "epoch number -  1\n",
      "nDCG: 0.4328\n",
      "epoch number -  2\n",
      "nDCG: 0.4368\n",
      "epoch number -  3\n",
      "nDCG: 0.4411\n",
      "epoch number -  4\n",
      "nDCG: 0.4428\n"
     ]
    },
    {
     "data": {
      "text/plain": [
       "[0.4258056561587274,\n",
       " 0.43284113601900687,\n",
       " 0.43677268654662504,\n",
       " 0.4410818320541503,\n",
       " 0.4427903300627822]"
      ]
     },
     "execution_count": 3,
     "metadata": {},
     "output_type": "execute_result"
    }
   ],
   "source": [
    "entity.fit()"
   ]
  },
  {
   "cell_type": "code",
   "execution_count": null,
   "id": "32347b11-ba68-45f6-89bd-71a8ea2833b7",
   "metadata": {},
   "outputs": [],
   "source": [
    "entity.key_query_ids_train"
   ]
  },
  {
   "cell_type": "code",
   "execution_count": null,
   "id": "4c2c99f7-ae0f-4703-8fff-55c186889a06",
   "metadata": {},
   "outputs": [],
   "source": [
    "ndcgs = []\n",
    "for i in range(len(entity.key_query_ids_test)):\n",
    "    batch_X = entity.X_test[np.where(entity.index_query_ids_test==i)]\n",
    "\n",
    "    batch_y = entity.ys_test[np.where(entity.index_query_ids_test==i)]\n",
    "    #batch_pred = self.model(batch_X)\n",
    "    batch_pred = torch.reshape(entity.model(batch_X), (-1,))\n",
    "    \n",
    "    ys_true_sorted_ideal, _ = torch.sort(batch_y, 0, descending=True)\n",
    "    ideal_dcg = 0\n",
    "    for i, val in enumerate(ys_true_sorted_ideal[:10]):\n",
    "        val = float(2 ** val - 1) / math.log2(i+2)\n",
    "        ideal_dcg += val\n",
    "        #print(ideal_dcg)\n",
    "        \n",
    "    _, indices = torch.sort(batch_pred, 0, descending=True)\n",
    "    ys_true_sorted = batch_y[indices]\n",
    "\n",
    "    res1 = 0\n",
    "    for i, val in enumerate(ys_true_sorted[:10]):\n",
    "        val = float(2 ** val - 1) / math.log2(i+2)\n",
    "        #print(res1)\n",
    "        res1 += val\n",
    "\n",
    "\n",
    "    ndcgs.append(res1/ideal_dcg)"
   ]
  },
  {
   "cell_type": "code",
   "execution_count": 31,
   "id": "b0fb0e29-2e7c-47bc-83b7-749490649ceb",
   "metadata": {},
   "outputs": [
    {
     "data": {
      "text/plain": [
       "[0.2784808704076345,\n",
       " 0.05741859610747236,\n",
       " 0.039778124727598806,\n",
       " 0.02284347945217883,\n",
       " 0.15582954353930173,\n",
       " 0.29461563293075727,\n",
       " 0.2588858297196561,\n",
       " 0.2838300191112332,\n",
       " 0.09641996365784913,\n",
       " 0.0,\n",
       " 0.10265504771876915,\n",
       " 0.12774258911509878,\n",
       " 0.061178746022272364,\n",
       " 0.022274431926388602,\n",
       " 0.31516255047698366,\n",
       " 0.035539222204391756,\n",
       " 0.5931729515195112,\n",
       " 0.0,\n",
       " 0.36167535192008093,\n",
       " 0.1706274132625464,\n",
       " 0.49002192910592896,\n",
       " 0.06837222244264786,\n",
       " 0.3377640579349909,\n",
       " 0.2024328629296542,\n",
       " 0.3904561715346295,\n",
       " 0.0551766108408796,\n",
       " 0.17704936061739537,\n",
       " 0.2811202685788958,\n",
       " 0.034297406047765065,\n",
       " 0.5777760312307709,\n",
       " 0.1596243998692697,\n",
       " 0.43064716772928785,\n",
       " 0.3561084549156445,\n",
       " 0.37156095747975126,\n",
       " 0.19474673412652152,\n",
       " 0.04398192885285911,\n",
       " 0.09582471095738956,\n",
       " 0.06968503698698301,\n",
       " 0.5791179725958181,\n",
       " 0.16279766337189053,\n",
       " 0.17364419587639968,\n",
       " 0.33441080365972076,\n",
       " 0.32384489865183047,\n",
       " 0.2657470347490216,\n",
       " 0.05085424539272843,\n",
       " 0.21497843467059594,\n",
       " 0.38520851554049473,\n",
       " 0.1510091589989441,\n",
       " 0.17793113770757138,\n",
       " 0.17621053012932628,\n",
       " 0.12086487835846789,\n",
       " 0.11344163012901134,\n",
       " 0.17287444584115982,\n",
       " 0.15780739969226484,\n",
       " 0.11006030561622021,\n",
       " 0.11431722645285493,\n",
       " 0.04480858374044233,\n",
       " 0.18257208088266166,\n",
       " 0.16643240564426187,\n",
       " 0.06660058299735241,\n",
       " 0.39391687284591304,\n",
       " 0.024427679850141402,\n",
       " 0.12787771763945882,\n",
       " 0.5562983930884396,\n",
       " 0.16291500844221907,\n",
       " 0.1381509436431612,\n",
       " 0.39594374809387684,\n",
       " 0.07250650249565932,\n",
       " 0.20807741580226297,\n",
       " 0.16645952536116201,\n",
       " 0.02463526422669164,\n",
       " 0.18430880037138683,\n",
       " 0.1890643871231908,\n",
       " 0.058173092057561535,\n",
       " 0.07198345556680832,\n",
       " 0.23732026976972068,\n",
       " 0.14638498477619982,\n",
       " 0.09478836436955078,\n",
       " 0.2181311724022314,\n",
       " 0.26359516311367276,\n",
       " 0.18642773917353653,\n",
       " 0.15572702988601533,\n",
       " 0.0636207881989517,\n",
       " 0.7401132747207131,\n",
       " 0.1063820609404698,\n",
       " 0.11469195158392557,\n",
       " 0.2242067795395718,\n",
       " 1.0]"
      ]
     },
     "execution_count": 31,
     "metadata": {},
     "output_type": "execute_result"
    }
   ],
   "source": [
    "ndcgs"
   ]
  },
  {
   "cell_type": "code",
   "execution_count": 28,
   "id": "0f6e5a7a-6c46-45eb-8d61-f3e16c6756cf",
   "metadata": {},
   "outputs": [
    {
     "data": {
      "text/plain": [
       "0.20666408172480139"
      ]
     },
     "execution_count": 28,
     "metadata": {},
     "output_type": "execute_result"
    }
   ],
   "source": [
    "np.mean(ndcgs)"
   ]
  },
  {
   "cell_type": "code",
   "execution_count": 13,
   "id": "3ac72e1d-6f56-45dc-8b6c-ec1833fea0be",
   "metadata": {},
   "outputs": [],
   "source": [
    "batch_X = entity.X_test[np.where(entity.index_query_ids_test==0)]\n",
    "\n",
    "batch_y = entity.ys_test[np.where(entity.index_query_ids_test==0)]\n",
    "#batch_pred = self.model(batch_X)\n",
    "batch_pred = torch.reshape(entity.model(batch_X), (-1,))"
   ]
  },
  {
   "cell_type": "code",
   "execution_count": 14,
   "id": "58e71585-df83-4aee-8a7f-4461cf6a211c",
   "metadata": {},
   "outputs": [],
   "source": [
    "ys_true_sorted_ideal, _ = torch.sort(batch_y, 0, descending=True)"
   ]
  },
  {
   "cell_type": "code",
   "execution_count": 15,
   "id": "ccf37c06-214d-4a7b-b4d7-d6673cac9288",
   "metadata": {},
   "outputs": [
    {
     "data": {
      "text/plain": [
       "torch.Size([138])"
      ]
     },
     "execution_count": 15,
     "metadata": {},
     "output_type": "execute_result"
    }
   ],
   "source": [
    "batch_X[:,1].shape"
   ]
  },
  {
   "cell_type": "code",
   "execution_count": 19,
   "id": "b10d5d2d-7f37-4337-8805-c0dddc3cc459",
   "metadata": {},
   "outputs": [
    {
     "data": {
      "text/plain": [
       "tensor(0.0467)"
      ]
     },
     "execution_count": 19,
     "metadata": {},
     "output_type": "execute_result"
    }
   ],
   "source": [
    "batch_X[:,8].mean()"
   ]
  },
  {
   "cell_type": "code",
   "execution_count": 22,
   "id": "ca533c13-9e6d-4a97-b059-4b31f5bcbf0c",
   "metadata": {},
   "outputs": [
    {
     "data": {
      "text/plain": [
       "tensor(0.9634)"
      ]
     },
     "execution_count": 22,
     "metadata": {},
     "output_type": "execute_result"
    }
   ],
   "source": [
    "batch_X[:,100].std()"
   ]
  },
  {
   "cell_type": "code",
   "execution_count": null,
   "id": "5588558e-0178-4717-be4b-090d98e3a5b2",
   "metadata": {},
   "outputs": [],
   "source": []
  },
  {
   "cell_type": "code",
   "execution_count": 35,
   "id": "4505b92f-9bf2-4a48-88ae-e44a77cb1b13",
   "metadata": {},
   "outputs": [
    {
     "name": "stdout",
     "output_type": "stream",
     "text": [
      "3.0\n",
      "4.892789260714372\n",
      "5.392789260714372\n",
      "5.392789260714372\n",
      "5.392789260714372\n",
      "5.392789260714372\n",
      "5.392789260714372\n",
      "5.392789260714372\n",
      "5.392789260714372\n",
      "5.392789260714372\n"
     ]
    }
   ],
   "source": [
    "ideal_dcg = 0\n",
    "for i, val in enumerate(ys_true_sorted_ideal[:10]):\n",
    "    val = float(2 ** val - 1) / math.log2(i+2)\n",
    "    ideal_dcg += val\n",
    "    print(ideal_dcg)"
   ]
  },
  {
   "cell_type": "code",
   "execution_count": 36,
   "id": "b1fa5f05-2951-4e70-b57b-c7d495b0b6b6",
   "metadata": {},
   "outputs": [
    {
     "data": {
      "text/plain": [
       "7.0"
      ]
     },
     "execution_count": 36,
     "metadata": {},
     "output_type": "execute_result"
    }
   ],
   "source": [
    "float(2 ** 3 - 1) / math.log2(2)"
   ]
  },
  {
   "cell_type": "code",
   "execution_count": 38,
   "id": "d95f5ee8-df0b-4e96-9b89-5d3eb9e1e7af",
   "metadata": {},
   "outputs": [
    {
     "name": "stdout",
     "output_type": "stream",
     "text": [
      "tensor([0., 0., 0., 0., 0., 0., 0., 0., 0., 0., 0., 0., 0., 0., 0., 0., 0., 0.,\n",
      "        0., 2., 0., 0., 0., 0., 0., 0., 0., 0., 0., 0., 0., 0., 0., 0., 0., 0.,\n",
      "        0., 0., 0., 0., 0., 0., 0., 0., 0., 0., 0., 0., 0., 0., 0., 0., 0., 0.,\n",
      "        0., 0., 0., 0., 0., 0., 0., 0., 1., 0., 0., 0., 0., 0., 0., 0., 0., 0.,\n",
      "        0., 0., 0., 0., 0., 0., 0., 0., 0., 0., 0., 0., 0., 0., 0., 0., 0., 0.,\n",
      "        0., 0., 0., 0., 0., 0., 0., 0., 0., 0., 0., 0., 0., 0., 0., 0., 0., 0.,\n",
      "        0., 2., 0., 0., 0., 0., 0.])\n",
      "0\n",
      "0.0\n",
      "0.0\n",
      "0.0\n",
      "0.0\n",
      "0.0\n",
      "0.0\n",
      "0.0\n",
      "0.0\n",
      "0.0\n"
     ]
    },
    {
     "data": {
      "text/plain": [
       "0.0"
      ]
     },
     "execution_count": 38,
     "metadata": {},
     "output_type": "execute_result"
    }
   ],
   "source": [
    "_, indices = torch.sort(batch_pred, 0, descending=True)\n",
    "\n",
    "ys_true_sorted = batch_y[indices]\n",
    "print(ys_true_sorted)\n",
    "\n",
    "res1 = 0\n",
    "for i, val in enumerate(ys_true_sorted[:10]):\n",
    "    val = float(2 ** val - 1) / math.log2(i+2)\n",
    "    print(res1)\n",
    "    res1 += val\n",
    "    \n",
    "\n",
    "res1/ideal_dcg"
   ]
  },
  {
   "cell_type": "code",
   "execution_count": null,
   "id": "b308d73a-c1e6-43c2-bd83-dc5c30aa1422",
   "metadata": {},
   "outputs": [],
   "source": [
    "_, indices = torch.sort(ys_pred, 0, descending=True)\n",
    "        ys_true_sorted = ys_true[indices]\n",
    "        res = 0\n",
    "        try:\n",
    "            for i, val in enumerate(ys_true_sorted[:ndcg_top_k]):\n",
    "                val = float(2 ** val - 1) / math.log2(i+2)\n",
    "                res += val"
   ]
  },
  {
   "cell_type": "code",
   "execution_count": 14,
   "id": "9bdd108d-c9d6-44bf-9b4a-fd11074fb286",
   "metadata": {},
   "outputs": [
    {
     "data": {
      "text/plain": [
       "tensor([ 89,  46, 114, 101,  98, 123, 109,  45, 129,   0,   7,  26,   3,  56,\n",
       "         99,   1,  20,  58,  21,  17, 112,  93, 128,  90, 134,  77, 106, 133,\n",
       "        126,  88,  87, 120,  84, 136,  97, 116,   8,  30,  61, 122,  31,  86,\n",
       "        110,  57,  52,  96,  33, 135,  83,  69,   5, 102,  25, 117, 127,   6,\n",
       "        118, 121, 119,  41,  23,   4, 125,  95, 105,  65,  28,  12,  91,  48,\n",
       "        115, 131,  14, 104, 100,  76, 124, 130,  68,  49,  92,  16, 107,  51,\n",
       "         82,  64,  39,  63,   9,  80,  38,  37,  15,  55,  27,  24,  22,  53,\n",
       "         43,  32,  67,  29,  18,  50,  62,  19,  71,  75,  70,  35,  10,  73,\n",
       "         47,  36,  60,  85,  11,   2,  34,  66,  54,  72,  74,  79,  59,  81,\n",
       "         78,  42,  44, 113,  40, 108,  13, 111,  94, 137, 132, 103])"
      ]
     },
     "execution_count": 14,
     "metadata": {},
     "output_type": "execute_result"
    }
   ],
   "source": [
    "indices"
   ]
  },
  {
   "cell_type": "code",
   "execution_count": null,
   "id": "687d8dba-d8f7-4102-8d33-e3896e50fcdb",
   "metadata": {},
   "outputs": [],
   "source": []
  },
  {
   "cell_type": "code",
   "execution_count": null,
   "id": "1b5aa68a-cc9b-41ce-9447-ed3c812168ee",
   "metadata": {},
   "outputs": [],
   "source": []
  },
  {
   "cell_type": "code",
   "execution_count": null,
   "id": "ec1395f3-118d-4da9-aac6-463a7f776f66",
   "metadata": {},
   "outputs": [],
   "source": [
    "ys_true_sorted_ideal, _ = torch.sort(ys_true, 0, descending=True)\n",
    "        ideal_dcg = 0\n",
    "        try:\n",
    "            for i, val in enumerate(ys_true_sorted_ideal[:ndcg_top_k]):\n",
    "                val = float(2 ** val - 1) / math.log2(i+2)\n",
    "                ideal_dcg += val\n",
    "            res = self._dcg_k(ys_true, ys_pred, ndcg_top_k)"
   ]
  },
  {
   "cell_type": "code",
   "execution_count": 7,
   "id": "c44e7348-7ab4-4bf7-bfac-0f3e165c0375",
   "metadata": {},
   "outputs": [],
   "source": [
    "rand_idx = torch.randperm(len(entity.key_query_ids_train))"
   ]
  },
  {
   "cell_type": "code",
   "execution_count": 8,
   "id": "fc1e2984-96b0-4557-915d-e902c46a1a01",
   "metadata": {},
   "outputs": [
    {
     "data": {
      "text/plain": [
       "tensor([0.3526, 0.3519, 0.3532, 0.3537, 0.3521, 0.3527, 0.3525, 0.3528, 0.3519,\n",
       "        0.3519, 0.3514, 0.3577, 0.3521, 0.3527, 0.3525, 0.3520, 0.3527, 0.3524,\n",
       "        0.3529, 0.3527, 0.3521, 0.3519, 0.3524, 0.3521, 0.3524, 0.3519, 0.3524,\n",
       "        0.3502, 0.3519, 0.3527, 0.3524, 0.3519, 0.3531, 0.3510, 0.3530, 0.3521,\n",
       "        0.3523, 0.3522, 0.3533, 0.3529, 0.3532, 0.3519, 0.3522, 0.3521, 0.3525,\n",
       "        0.3520, 0.3528, 0.3523, 0.3531, 0.3519, 0.3521, 0.3521, 0.3527, 0.3519,\n",
       "        0.3530, 0.3525, 0.3527, 0.3564, 0.3520, 0.3525, 0.3521, 0.3523, 0.3519,\n",
       "        0.3525, 0.3524, 0.3522, 0.3521, 0.3519, 0.3519, 0.3529, 0.3519, 0.3519,\n",
       "        0.3521, 0.3519, 0.3525, 0.3519, 0.3527, 0.3519, 0.3519, 0.3525, 0.3526,\n",
       "        0.3525, 0.3526, 0.3521, 0.3529, 0.3524], grad_fn=<ViewBackward>)"
      ]
     },
     "execution_count": 8,
     "metadata": {},
     "output_type": "execute_result"
    }
   ],
   "source": [
    "torch.reshape(entity.model(entity.X_train[np.where(entity.query_ids_train==entity.key_query_ids_train[0])]), (-1,))"
   ]
  },
  {
   "cell_type": "code",
   "execution_count": 19,
   "id": "34044455-c298-420a-aec9-17db4b0fcf71",
   "metadata": {},
   "outputs": [
    {
     "data": {
      "text/plain": [
       "(array([ 0,  1,  2,  3,  4,  5,  6,  7,  8,  9, 10, 11, 12, 13, 14, 15, 16,\n",
       "        17, 18, 19, 20, 21, 22, 23, 24, 25, 26, 27, 28, 29, 30, 31, 32, 33,\n",
       "        34, 35, 36, 37, 38, 39, 40, 41, 42, 43, 44, 45, 46, 47, 48, 49, 50,\n",
       "        51, 52, 53, 54, 55, 56, 57, 58, 59, 60, 61, 62, 63, 64, 65, 66, 67,\n",
       "        68, 69, 70, 71, 72, 73, 74, 75, 76, 77, 78, 79, 80, 81, 82, 83, 84,\n",
       "        85]),)"
      ]
     },
     "execution_count": 19,
     "metadata": {},
     "output_type": "execute_result"
    }
   ],
   "source": [
    "np.where(entity.query_ids_train==entity.key_query_ids_train[0])\n"
   ]
  },
  {
   "cell_type": "code",
   "execution_count": 17,
   "id": "c7b04989-8e4d-4f15-84fe-35c67d4f32db",
   "metadata": {},
   "outputs": [
    {
     "data": {
      "text/plain": [
       "torch.Size([86, 136])"
      ]
     },
     "execution_count": 17,
     "metadata": {},
     "output_type": "execute_result"
    }
   ],
   "source": [
    "entity.X_train[np.where(entity.query_ids_train==entity.key_query_ids_train[0])].shape"
   ]
  },
  {
   "cell_type": "code",
   "execution_count": 16,
   "id": "da409c88-a5b5-4847-b9e7-639c424b9181",
   "metadata": {},
   "outputs": [
    {
     "data": {
      "text/plain": [
       "torch.Size([86])"
      ]
     },
     "execution_count": 16,
     "metadata": {},
     "output_type": "execute_result"
    }
   ],
   "source": [
    "entity.ys_train[np.where(entity.query_ids_train==entity.key_query_ids_train[0])].shape"
   ]
  },
  {
   "cell_type": "code",
   "execution_count": 4,
   "id": "112eefa9-4259-4b4e-88ba-0fff522aabfe",
   "metadata": {},
   "outputs": [
    {
     "data": {
      "text/plain": [
       "array([ 0,  0,  0, ..., 86, 87, 87])"
      ]
     },
     "execution_count": 4,
     "metadata": {},
     "output_type": "execute_result"
    }
   ],
   "source": [
    "entity.index_query_ids_test"
   ]
  },
  {
   "cell_type": "code",
   "execution_count": 9,
   "id": "2379127f-4bba-4d2e-b686-433743ee62be",
   "metadata": {},
   "outputs": [
    {
     "data": {
      "text/plain": [
       "array([ 0,  0,  0, ..., 86, 86, 86])"
      ]
     },
     "execution_count": 9,
     "metadata": {},
     "output_type": "execute_result"
    }
   ],
   "source": [
    "entity.index_query_ids_train"
   ]
  },
  {
   "cell_type": "code",
   "execution_count": 6,
   "id": "d4d98e7b-cd42-4a85-9a9f-7241424238b7",
   "metadata": {},
   "outputs": [
    {
     "data": {
      "text/plain": [
       "array([ 0,  0,  0, ..., 86, 87, 87])"
      ]
     },
     "execution_count": 6,
     "metadata": {},
     "output_type": "execute_result"
    }
   ],
   "source": [
    "entity.index_query_ids_test"
   ]
  },
  {
   "cell_type": "code",
   "execution_count": 10,
   "id": "fb84d1d6-f856-4183-ba02-cdd0d5e8fba7",
   "metadata": {},
   "outputs": [
    {
     "data": {
      "text/plain": [
       "tensor([[ 0.3903, -0.5018,  0.6980,  ..., -0.1440, -0.1159, -0.4529],\n",
       "        [ 0.3903, -0.5018,  0.6980,  ..., -0.1440, -0.1159, -0.4529],\n",
       "        [ 0.3903, -0.5018,  0.6980,  ..., -0.1440, -0.1159, -0.4529],\n",
       "        ...,\n",
       "        [ 0.3903, -0.5018,  0.6980,  ..., -0.1440, -0.0888,  1.1247],\n",
       "        [-2.5623,  1.9928, -1.4327,  ..., -0.1440, -0.1159, -0.4529],\n",
       "        [ 0.3903, -0.5018,  0.6980,  ..., -0.1440, -0.1159, -0.4529]])"
      ]
     },
     "execution_count": 10,
     "metadata": {},
     "output_type": "execute_result"
    }
   ],
   "source": [
    "entity.X_train[np.where(entity.index_query_ids_train==67)]"
   ]
  },
  {
   "cell_type": "code",
   "execution_count": 5,
   "id": "aaff88e7-1ba7-40c9-af1e-270d7577d11b",
   "metadata": {},
   "outputs": [
    {
     "data": {
      "text/plain": [
       "0.0    5481\n",
       "1.0    3000\n",
       "2.0    1326\n",
       "3.0     142\n",
       "4.0      51\n",
       "dtype: int64"
      ]
     },
     "execution_count": 5,
     "metadata": {},
     "output_type": "execute_result"
    }
   ],
   "source": [
    "import pandas as pd \n",
    "pd.Series(y_train).value_counts()"
   ]
  },
  {
   "cell_type": "code",
   "execution_count": 6,
   "id": "3652af74-a5d5-4d01-a6d1-3f4373afc7e9",
   "metadata": {},
   "outputs": [
    {
     "data": {
      "text/plain": [
       "1        86\n",
       "16      106\n",
       "31       92\n",
       "46      120\n",
       "61       59\n",
       "       ... \n",
       "1231    156\n",
       "1246    133\n",
       "1261    107\n",
       "1276     52\n",
       "1291    124\n",
       "Length: 87, dtype: int64"
      ]
     },
     "execution_count": 6,
     "metadata": {},
     "output_type": "execute_result"
    }
   ],
   "source": [
    "pd.Series(query_ids_train).value_counts().sort_index(ascending=True)"
   ]
  },
  {
   "cell_type": "code",
   "execution_count": 51,
   "id": "8fe0322f-9d1b-42e8-b503-f34bbb8c6bf0",
   "metadata": {},
   "outputs": [],
   "source": [
    "key_query_ids, index_query_ids = np.unique(query_ids_train, return_inverse=True)\n",
    "\n",
    "batch = X_train[np.where(index_query_ids == 0)]\n",
    "scaled_X = StandardScaler().fit_transform(batch)\n",
    "\n",
    "for i in range(len(key_query_ids) - 1):\n",
    "    batch = X_train[np.where(index_query_ids == i+1)]\n",
    "    scaled_batch = StandardScaler().fit_transform(batch)\n",
    "    scaled_X = np.concatenate((scaled_X, scaled_batch), axis=0)"
   ]
  },
  {
   "cell_type": "code",
   "execution_count": 52,
   "id": "0f025d3e-4305-424e-966b-e12926f361ae",
   "metadata": {},
   "outputs": [
    {
     "data": {
      "text/plain": [
       "(10000, 136)"
      ]
     },
     "execution_count": 52,
     "metadata": {},
     "output_type": "execute_result"
    }
   ],
   "source": [
    "scaled_X.shape"
   ]
  },
  {
   "cell_type": "code",
   "execution_count": 47,
   "id": "f699075c-8930-4791-9218-0f7c86188e9f",
   "metadata": {},
   "outputs": [
    {
     "data": {
      "text/plain": [
       "(172, 136)"
      ]
     },
     "execution_count": 47,
     "metadata": {},
     "output_type": "execute_result"
    }
   ],
   "source": [
    "np.concatenate((scaled_X, scaled_batch), axis=0).shape"
   ]
  },
  {
   "cell_type": "code",
   "execution_count": 24,
   "id": "1b8a41a1-c236-4baa-8ca7-f3139513be4a",
   "metadata": {},
   "outputs": [
    {
     "ename": "ValueError",
     "evalue": "Function did not transform",
     "output_type": "error",
     "traceback": [
      "\u001b[0;31m---------------------------------------------------------------------------\u001b[0m",
      "\u001b[0;31mValueError\u001b[0m                                Traceback (most recent call last)",
      "Input \u001b[0;32mIn [24]\u001b[0m, in \u001b[0;36m<module>\u001b[0;34m\u001b[0m\n\u001b[0;32m----> 1\u001b[0m \u001b[43mpd\u001b[49m\u001b[38;5;241;43m.\u001b[39;49m\u001b[43mDataFrame\u001b[49m\u001b[43m(\u001b[49m\u001b[43mX_train\u001b[49m\u001b[43m[\u001b[49m\u001b[43m:\u001b[49m\u001b[43m,\u001b[49m\u001b[38;5;241;43m0\u001b[39;49m\u001b[43m]\u001b[49m\u001b[43m)\u001b[49m\u001b[38;5;241;43m.\u001b[39;49m\u001b[43mtransform\u001b[49m\u001b[43m(\u001b[49m\u001b[38;5;28;43;01mlambda\u001b[39;49;00m\u001b[43m \u001b[49m\u001b[43mx\u001b[49m\u001b[43m:\u001b[49m\u001b[43m \u001b[49m\u001b[43mStandardScaler\u001b[49m\u001b[43m(\u001b[49m\u001b[43m)\u001b[49m\u001b[38;5;241;43m.\u001b[39;49m\u001b[43mfit_transform\u001b[49m\u001b[43m(\u001b[49m\u001b[43mx\u001b[49m\u001b[43m)\u001b[49m\u001b[43m)\u001b[49m\n",
      "File \u001b[0;32m/opt/conda/lib/python3.8/site-packages/pandas/core/frame.py:7621\u001b[0m, in \u001b[0;36mDataFrame.transform\u001b[0;34m(self, func, axis, *args, **kwargs)\u001b[0m\n\u001b[1;32m   7613\u001b[0m \u001b[38;5;129m@doc\u001b[39m(\n\u001b[1;32m   7614\u001b[0m     _shared_docs[\u001b[38;5;124m\"\u001b[39m\u001b[38;5;124mtransform\u001b[39m\u001b[38;5;124m\"\u001b[39m],\n\u001b[1;32m   7615\u001b[0m     klass\u001b[38;5;241m=\u001b[39m_shared_doc_kwargs[\u001b[38;5;124m\"\u001b[39m\u001b[38;5;124mklass\u001b[39m\u001b[38;5;124m\"\u001b[39m],\n\u001b[0;32m   (...)\u001b[0m\n\u001b[1;32m   7619\u001b[0m     \u001b[38;5;28mself\u001b[39m, func: AggFuncType, axis: Axis \u001b[38;5;241m=\u001b[39m \u001b[38;5;241m0\u001b[39m, \u001b[38;5;241m*\u001b[39margs, \u001b[38;5;241m*\u001b[39m\u001b[38;5;241m*\u001b[39mkwargs\n\u001b[1;32m   7620\u001b[0m ) \u001b[38;5;241m-\u001b[39m\u001b[38;5;241m>\u001b[39m DataFrame:\n\u001b[0;32m-> 7621\u001b[0m     result \u001b[38;5;241m=\u001b[39m \u001b[43mtransform\u001b[49m\u001b[43m(\u001b[49m\u001b[38;5;28;43mself\u001b[39;49m\u001b[43m,\u001b[49m\u001b[43m \u001b[49m\u001b[43mfunc\u001b[49m\u001b[43m,\u001b[49m\u001b[43m \u001b[49m\u001b[43maxis\u001b[49m\u001b[43m,\u001b[49m\u001b[43m \u001b[49m\u001b[38;5;241;43m*\u001b[39;49m\u001b[43margs\u001b[49m\u001b[43m,\u001b[49m\u001b[43m \u001b[49m\u001b[38;5;241;43m*\u001b[39;49m\u001b[38;5;241;43m*\u001b[39;49m\u001b[43mkwargs\u001b[49m\u001b[43m)\u001b[49m\n\u001b[1;32m   7622\u001b[0m     \u001b[38;5;28;01massert\u001b[39;00m \u001b[38;5;28misinstance\u001b[39m(result, DataFrame)\n\u001b[1;32m   7623\u001b[0m     \u001b[38;5;28;01mreturn\u001b[39;00m result\n",
      "File \u001b[0;32m/opt/conda/lib/python3.8/site-packages/pandas/core/aggregation.py:464\u001b[0m, in \u001b[0;36mtransform\u001b[0;34m(obj, func, axis, *args, **kwargs)\u001b[0m\n\u001b[1;32m    460\u001b[0m     \u001b[38;5;28;01mraise\u001b[39;00m \u001b[38;5;167;01mValueError\u001b[39;00m(\u001b[38;5;124m\"\u001b[39m\u001b[38;5;124mTransform function failed\u001b[39m\u001b[38;5;124m\"\u001b[39m)\n\u001b[1;32m    461\u001b[0m \u001b[38;5;28;01mif\u001b[39;00m \u001b[38;5;129;01mnot\u001b[39;00m \u001b[38;5;28misinstance\u001b[39m(result, (ABCSeries, ABCDataFrame)) \u001b[38;5;129;01mor\u001b[39;00m \u001b[38;5;129;01mnot\u001b[39;00m result\u001b[38;5;241m.\u001b[39mindex\u001b[38;5;241m.\u001b[39mequals(\n\u001b[1;32m    462\u001b[0m     obj\u001b[38;5;241m.\u001b[39mindex\n\u001b[1;32m    463\u001b[0m ):\n\u001b[0;32m--> 464\u001b[0m     \u001b[38;5;28;01mraise\u001b[39;00m \u001b[38;5;167;01mValueError\u001b[39;00m(\u001b[38;5;124m\"\u001b[39m\u001b[38;5;124mFunction did not transform\u001b[39m\u001b[38;5;124m\"\u001b[39m)\n\u001b[1;32m    466\u001b[0m \u001b[38;5;28;01mreturn\u001b[39;00m result\n",
      "\u001b[0;31mValueError\u001b[0m: Function did not transform"
     ]
    }
   ],
   "source": [
    "pd.DataFrame(X_train[:,0]).transform(lambda x: StandardScaler().fit_transform(x))"
   ]
  },
  {
   "cell_type": "code",
   "execution_count": 21,
   "id": "b48cca2b-b8eb-487d-904e-ae427bb802d5",
   "metadata": {},
   "outputs": [
    {
     "ename": "TypeError",
     "evalue": "'StandardScaler' object is not callable",
     "output_type": "error",
     "traceback": [
      "\u001b[0;31m---------------------------------------------------------------------------\u001b[0m",
      "\u001b[0;31mTypeError\u001b[0m                                 Traceback (most recent call last)",
      "Input \u001b[0;32mIn [21]\u001b[0m, in \u001b[0;36m<module>\u001b[0;34m\u001b[0m\n\u001b[0;32m----> 1\u001b[0m \u001b[43mpd\u001b[49m\u001b[38;5;241;43m.\u001b[39;49m\u001b[43mDataFrame\u001b[49m\u001b[43m(\u001b[49m\u001b[43mX_train\u001b[49m\u001b[43m[\u001b[49m\u001b[43m:\u001b[49m\u001b[43m,\u001b[49m\u001b[38;5;241;43m0\u001b[39;49m\u001b[43m]\u001b[49m\u001b[43m)\u001b[49m\u001b[38;5;241;43m.\u001b[39;49m\u001b[43mgroupby\u001b[49m\u001b[43m(\u001b[49m\u001b[43mquery_ids_train\u001b[49m\u001b[43m)\u001b[49m\u001b[43m[\u001b[49m\u001b[38;5;241;43m0\u001b[39;49m\u001b[43m]\u001b[49m\u001b[38;5;241;43m.\u001b[39;49m\u001b[43mtransform\u001b[49m\u001b[43m(\u001b[49m\u001b[38;5;28;43;01mlambda\u001b[39;49;00m\u001b[43m \u001b[49m\u001b[43mx\u001b[49m\u001b[43m:\u001b[49m\u001b[43m \u001b[49m\u001b[43mscaler\u001b[49m\u001b[43m(\u001b[49m\u001b[43m)\u001b[49m\u001b[38;5;241;43m.\u001b[39;49m\u001b[43mfit_transform\u001b[49m\u001b[43m(\u001b[49m\u001b[43mx\u001b[49m\u001b[43m)\u001b[49m\u001b[43m)\u001b[49m\n",
      "File \u001b[0;32m/opt/conda/lib/python3.8/site-packages/pandas/core/groupby/generic.py:507\u001b[0m, in \u001b[0;36mSeriesGroupBy.transform\u001b[0;34m(self, func, engine, engine_kwargs, *args, **kwargs)\u001b[0m\n\u001b[1;32m    504\u001b[0m func \u001b[38;5;241m=\u001b[39m \u001b[38;5;28mself\u001b[39m\u001b[38;5;241m.\u001b[39m_get_cython_func(func) \u001b[38;5;129;01mor\u001b[39;00m func\n\u001b[1;32m    506\u001b[0m \u001b[38;5;28;01mif\u001b[39;00m \u001b[38;5;129;01mnot\u001b[39;00m \u001b[38;5;28misinstance\u001b[39m(func, \u001b[38;5;28mstr\u001b[39m):\n\u001b[0;32m--> 507\u001b[0m     \u001b[38;5;28;01mreturn\u001b[39;00m \u001b[38;5;28;43mself\u001b[39;49m\u001b[38;5;241;43m.\u001b[39;49m\u001b[43m_transform_general\u001b[49m\u001b[43m(\u001b[49m\u001b[43mfunc\u001b[49m\u001b[43m,\u001b[49m\u001b[43m \u001b[49m\u001b[38;5;241;43m*\u001b[39;49m\u001b[43margs\u001b[49m\u001b[43m,\u001b[49m\u001b[43m \u001b[49m\u001b[38;5;241;43m*\u001b[39;49m\u001b[38;5;241;43m*\u001b[39;49m\u001b[43mkwargs\u001b[49m\u001b[43m)\u001b[49m\n\u001b[1;32m    509\u001b[0m \u001b[38;5;28;01melif\u001b[39;00m func \u001b[38;5;129;01mnot\u001b[39;00m \u001b[38;5;129;01min\u001b[39;00m base\u001b[38;5;241m.\u001b[39mtransform_kernel_allowlist:\n\u001b[1;32m    510\u001b[0m     msg \u001b[38;5;241m=\u001b[39m \u001b[38;5;124mf\u001b[39m\u001b[38;5;124m\"\u001b[39m\u001b[38;5;124m'\u001b[39m\u001b[38;5;132;01m{\u001b[39;00mfunc\u001b[38;5;132;01m}\u001b[39;00m\u001b[38;5;124m'\u001b[39m\u001b[38;5;124m is not a valid function name for transform(name)\u001b[39m\u001b[38;5;124m\"\u001b[39m\n",
      "File \u001b[0;32m/opt/conda/lib/python3.8/site-packages/pandas/core/groupby/generic.py:532\u001b[0m, in \u001b[0;36mSeriesGroupBy._transform_general\u001b[0;34m(self, func, *args, **kwargs)\u001b[0m\n\u001b[1;32m    530\u001b[0m \u001b[38;5;28;01mfor\u001b[39;00m name, group \u001b[38;5;129;01min\u001b[39;00m \u001b[38;5;28mself\u001b[39m:\n\u001b[1;32m    531\u001b[0m     \u001b[38;5;28mobject\u001b[39m\u001b[38;5;241m.\u001b[39m\u001b[38;5;21m__setattr__\u001b[39m(group, \u001b[38;5;124m\"\u001b[39m\u001b[38;5;124mname\u001b[39m\u001b[38;5;124m\"\u001b[39m, name)\n\u001b[0;32m--> 532\u001b[0m     res \u001b[38;5;241m=\u001b[39m \u001b[43mfunc\u001b[49m\u001b[43m(\u001b[49m\u001b[43mgroup\u001b[49m\u001b[43m,\u001b[49m\u001b[43m \u001b[49m\u001b[38;5;241;43m*\u001b[39;49m\u001b[43margs\u001b[49m\u001b[43m,\u001b[49m\u001b[43m \u001b[49m\u001b[38;5;241;43m*\u001b[39;49m\u001b[38;5;241;43m*\u001b[39;49m\u001b[43mkwargs\u001b[49m\u001b[43m)\u001b[49m\n\u001b[1;32m    534\u001b[0m     \u001b[38;5;28;01mif\u001b[39;00m \u001b[38;5;28misinstance\u001b[39m(res, (DataFrame, Series)):\n\u001b[1;32m    535\u001b[0m         res \u001b[38;5;241m=\u001b[39m res\u001b[38;5;241m.\u001b[39m_values\n",
      "Input \u001b[0;32mIn [21]\u001b[0m, in \u001b[0;36m<lambda>\u001b[0;34m(x)\u001b[0m\n\u001b[0;32m----> 1\u001b[0m pd\u001b[38;5;241m.\u001b[39mDataFrame(X_train[:,\u001b[38;5;241m0\u001b[39m])\u001b[38;5;241m.\u001b[39mgroupby(query_ids_train)[\u001b[38;5;241m0\u001b[39m]\u001b[38;5;241m.\u001b[39mtransform(\u001b[38;5;28;01mlambda\u001b[39;00m x: \u001b[43mscaler\u001b[49m\u001b[43m(\u001b[49m\u001b[43m)\u001b[49m\u001b[38;5;241m.\u001b[39mfit_transform(x))\n",
      "\u001b[0;31mTypeError\u001b[0m: 'StandardScaler' object is not callable"
     ]
    }
   ],
   "source": [
    "pd.DataFrame(X_train[:,0]).groupby(query_ids_train)[0].transform(lambda x: scaler().fit_transform(x))"
   ]
  },
  {
   "cell_type": "code",
   "execution_count": 16,
   "id": "282c3283-b7ce-44cb-89aa-be84e4d516d0",
   "metadata": {},
   "outputs": [
    {
     "ename": "TypeError",
     "evalue": "Transform function invalid for data types",
     "output_type": "error",
     "traceback": [
      "\u001b[0;31m---------------------------------------------------------------------------\u001b[0m",
      "\u001b[0;31mTypeError\u001b[0m                                 Traceback (most recent call last)",
      "File \u001b[0;32m/opt/conda/lib/python3.8/site-packages/pandas/core/groupby/generic.py:1306\u001b[0m, in \u001b[0;36mDataFrameGroupBy._transform_general\u001b[0;34m(self, func, *args, **kwargs)\u001b[0m\n\u001b[1;32m   1305\u001b[0m \u001b[38;5;28;01mtry\u001b[39;00m:\n\u001b[0;32m-> 1306\u001b[0m     path, res \u001b[38;5;241m=\u001b[39m \u001b[38;5;28;43mself\u001b[39;49m\u001b[38;5;241;43m.\u001b[39;49m\u001b[43m_choose_path\u001b[49m\u001b[43m(\u001b[49m\u001b[43mfast_path\u001b[49m\u001b[43m,\u001b[49m\u001b[43m \u001b[49m\u001b[43mslow_path\u001b[49m\u001b[43m,\u001b[49m\u001b[43m \u001b[49m\u001b[43mgroup\u001b[49m\u001b[43m)\u001b[49m\n\u001b[1;32m   1307\u001b[0m \u001b[38;5;28;01mexcept\u001b[39;00m \u001b[38;5;167;01mTypeError\u001b[39;00m:\n",
      "File \u001b[0;32m/opt/conda/lib/python3.8/site-packages/pandas/core/groupby/generic.py:1417\u001b[0m, in \u001b[0;36mDataFrameGroupBy._choose_path\u001b[0;34m(self, fast_path, slow_path, group)\u001b[0m\n\u001b[1;32m   1416\u001b[0m path \u001b[38;5;241m=\u001b[39m slow_path\n\u001b[0;32m-> 1417\u001b[0m res \u001b[38;5;241m=\u001b[39m \u001b[43mslow_path\u001b[49m\u001b[43m(\u001b[49m\u001b[43mgroup\u001b[49m\u001b[43m)\u001b[49m\n\u001b[1;32m   1419\u001b[0m \u001b[38;5;66;03m# if we make it here, test if we can use the fast path\u001b[39;00m\n",
      "File \u001b[0;32m/opt/conda/lib/python3.8/site-packages/pandas/core/groupby/generic.py:1410\u001b[0m, in \u001b[0;36mDataFrameGroupBy._define_paths.<locals>.<lambda>\u001b[0;34m(group)\u001b[0m\n\u001b[1;32m   1409\u001b[0m     fast_path \u001b[38;5;241m=\u001b[39m \u001b[38;5;28;01mlambda\u001b[39;00m group: func(group, \u001b[38;5;241m*\u001b[39margs, \u001b[38;5;241m*\u001b[39m\u001b[38;5;241m*\u001b[39mkwargs)\n\u001b[0;32m-> 1410\u001b[0m     slow_path \u001b[38;5;241m=\u001b[39m \u001b[38;5;28;01mlambda\u001b[39;00m group: \u001b[43mgroup\u001b[49m\u001b[38;5;241;43m.\u001b[39;49m\u001b[43mapply\u001b[49m\u001b[43m(\u001b[49m\n\u001b[1;32m   1411\u001b[0m \u001b[43m        \u001b[49m\u001b[38;5;28;43;01mlambda\u001b[39;49;00m\u001b[43m \u001b[49m\u001b[43mx\u001b[49m\u001b[43m:\u001b[49m\u001b[43m \u001b[49m\u001b[43mfunc\u001b[49m\u001b[43m(\u001b[49m\u001b[43mx\u001b[49m\u001b[43m,\u001b[49m\u001b[43m \u001b[49m\u001b[38;5;241;43m*\u001b[39;49m\u001b[43margs\u001b[49m\u001b[43m,\u001b[49m\u001b[43m \u001b[49m\u001b[38;5;241;43m*\u001b[39;49m\u001b[38;5;241;43m*\u001b[39;49m\u001b[43mkwargs\u001b[49m\u001b[43m)\u001b[49m\u001b[43m,\u001b[49m\u001b[43m \u001b[49m\u001b[43maxis\u001b[49m\u001b[38;5;241;43m=\u001b[39;49m\u001b[38;5;28;43mself\u001b[39;49m\u001b[38;5;241;43m.\u001b[39;49m\u001b[43maxis\u001b[49m\n\u001b[1;32m   1412\u001b[0m \u001b[43m    \u001b[49m\u001b[43m)\u001b[49m\n\u001b[1;32m   1413\u001b[0m \u001b[38;5;28;01mreturn\u001b[39;00m fast_path, slow_path\n",
      "File \u001b[0;32m/opt/conda/lib/python3.8/site-packages/pandas/core/frame.py:7768\u001b[0m, in \u001b[0;36mDataFrame.apply\u001b[0;34m(self, func, axis, raw, result_type, args, **kwds)\u001b[0m\n\u001b[1;32m   7759\u001b[0m op \u001b[38;5;241m=\u001b[39m frame_apply(\n\u001b[1;32m   7760\u001b[0m     \u001b[38;5;28mself\u001b[39m,\n\u001b[1;32m   7761\u001b[0m     func\u001b[38;5;241m=\u001b[39mfunc,\n\u001b[0;32m   (...)\u001b[0m\n\u001b[1;32m   7766\u001b[0m     kwds\u001b[38;5;241m=\u001b[39mkwds,\n\u001b[1;32m   7767\u001b[0m )\n\u001b[0;32m-> 7768\u001b[0m \u001b[38;5;28;01mreturn\u001b[39;00m \u001b[43mop\u001b[49m\u001b[38;5;241;43m.\u001b[39;49m\u001b[43mget_result\u001b[49m\u001b[43m(\u001b[49m\u001b[43m)\u001b[49m\n",
      "File \u001b[0;32m/opt/conda/lib/python3.8/site-packages/pandas/core/apply.py:185\u001b[0m, in \u001b[0;36mFrameApply.get_result\u001b[0;34m(self)\u001b[0m\n\u001b[1;32m    183\u001b[0m     \u001b[38;5;28;01mreturn\u001b[39;00m \u001b[38;5;28mself\u001b[39m\u001b[38;5;241m.\u001b[39mapply_raw()\n\u001b[0;32m--> 185\u001b[0m \u001b[38;5;28;01mreturn\u001b[39;00m \u001b[38;5;28;43mself\u001b[39;49m\u001b[38;5;241;43m.\u001b[39;49m\u001b[43mapply_standard\u001b[49m\u001b[43m(\u001b[49m\u001b[43m)\u001b[49m\n",
      "File \u001b[0;32m/opt/conda/lib/python3.8/site-packages/pandas/core/apply.py:276\u001b[0m, in \u001b[0;36mFrameApply.apply_standard\u001b[0;34m(self)\u001b[0m\n\u001b[1;32m    275\u001b[0m \u001b[38;5;28;01mdef\u001b[39;00m \u001b[38;5;21mapply_standard\u001b[39m(\u001b[38;5;28mself\u001b[39m):\n\u001b[0;32m--> 276\u001b[0m     results, res_index \u001b[38;5;241m=\u001b[39m \u001b[38;5;28;43mself\u001b[39;49m\u001b[38;5;241;43m.\u001b[39;49m\u001b[43mapply_series_generator\u001b[49m\u001b[43m(\u001b[49m\u001b[43m)\u001b[49m\n\u001b[1;32m    278\u001b[0m     \u001b[38;5;66;03m# wrap results\u001b[39;00m\n",
      "File \u001b[0;32m/opt/conda/lib/python3.8/site-packages/pandas/core/apply.py:290\u001b[0m, in \u001b[0;36mFrameApply.apply_series_generator\u001b[0;34m(self)\u001b[0m\n\u001b[1;32m    288\u001b[0m \u001b[38;5;28;01mfor\u001b[39;00m i, v \u001b[38;5;129;01min\u001b[39;00m \u001b[38;5;28menumerate\u001b[39m(series_gen):\n\u001b[1;32m    289\u001b[0m     \u001b[38;5;66;03m# ignore SettingWithCopy here in case the user mutates\u001b[39;00m\n\u001b[0;32m--> 290\u001b[0m     results[i] \u001b[38;5;241m=\u001b[39m \u001b[38;5;28;43mself\u001b[39;49m\u001b[38;5;241;43m.\u001b[39;49m\u001b[43mf\u001b[49m\u001b[43m(\u001b[49m\u001b[43mv\u001b[49m\u001b[43m)\u001b[49m\n\u001b[1;32m    291\u001b[0m     \u001b[38;5;28;01mif\u001b[39;00m \u001b[38;5;28misinstance\u001b[39m(results[i], ABCSeries):\n\u001b[1;32m    292\u001b[0m         \u001b[38;5;66;03m# If we have a view on v, we need to make a copy because\u001b[39;00m\n\u001b[1;32m    293\u001b[0m         \u001b[38;5;66;03m#  series_generator will swap out the underlying data\u001b[39;00m\n",
      "File \u001b[0;32m/opt/conda/lib/python3.8/site-packages/pandas/core/groupby/generic.py:1411\u001b[0m, in \u001b[0;36mDataFrameGroupBy._define_paths.<locals>.<lambda>.<locals>.<lambda>\u001b[0;34m(x)\u001b[0m\n\u001b[1;32m   1409\u001b[0m     fast_path \u001b[38;5;241m=\u001b[39m \u001b[38;5;28;01mlambda\u001b[39;00m group: func(group, \u001b[38;5;241m*\u001b[39margs, \u001b[38;5;241m*\u001b[39m\u001b[38;5;241m*\u001b[39mkwargs)\n\u001b[1;32m   1410\u001b[0m     slow_path \u001b[38;5;241m=\u001b[39m \u001b[38;5;28;01mlambda\u001b[39;00m group: group\u001b[38;5;241m.\u001b[39mapply(\n\u001b[0;32m-> 1411\u001b[0m         \u001b[38;5;28;01mlambda\u001b[39;00m x: \u001b[43mfunc\u001b[49m\u001b[43m(\u001b[49m\u001b[43mx\u001b[49m\u001b[43m,\u001b[49m\u001b[43m \u001b[49m\u001b[38;5;241;43m*\u001b[39;49m\u001b[43margs\u001b[49m\u001b[43m,\u001b[49m\u001b[43m \u001b[49m\u001b[38;5;241;43m*\u001b[39;49m\u001b[38;5;241;43m*\u001b[39;49m\u001b[43mkwargs\u001b[49m\u001b[43m)\u001b[49m, axis\u001b[38;5;241m=\u001b[39m\u001b[38;5;28mself\u001b[39m\u001b[38;5;241m.\u001b[39maxis\n\u001b[1;32m   1412\u001b[0m     )\n\u001b[1;32m   1413\u001b[0m \u001b[38;5;28;01mreturn\u001b[39;00m fast_path, slow_path\n",
      "Input \u001b[0;32mIn [16]\u001b[0m, in \u001b[0;36m<lambda>\u001b[0;34m(x)\u001b[0m\n\u001b[0;32m----> 1\u001b[0m pd\u001b[38;5;241m.\u001b[39mDataFrame(X_train[:, \u001b[38;5;241m0\u001b[39m])\u001b[38;5;241m.\u001b[39mgroupby(query_ids_train)\u001b[38;5;241m.\u001b[39mtransform(\u001b[38;5;28;01mlambda\u001b[39;00m x: \u001b[43mscaler\u001b[49m\u001b[43m(\u001b[49m\u001b[43m)\u001b[49m\u001b[38;5;241m.\u001b[39mfit_transform(x\u001b[38;5;241m.\u001b[39mvalues[:,np\u001b[38;5;241m.\u001b[39mnewaxis])\u001b[38;5;241m.\u001b[39mravel())\n",
      "\u001b[0;31mTypeError\u001b[0m: 'StandardScaler' object is not callable",
      "\nDuring handling of the above exception, another exception occurred:\n",
      "\u001b[0;31mTypeError\u001b[0m                                 Traceback (most recent call last)",
      "Input \u001b[0;32mIn [16]\u001b[0m, in \u001b[0;36m<module>\u001b[0;34m\u001b[0m\n\u001b[0;32m----> 1\u001b[0m \u001b[43mpd\u001b[49m\u001b[38;5;241;43m.\u001b[39;49m\u001b[43mDataFrame\u001b[49m\u001b[43m(\u001b[49m\u001b[43mX_train\u001b[49m\u001b[43m[\u001b[49m\u001b[43m:\u001b[49m\u001b[43m,\u001b[49m\u001b[43m \u001b[49m\u001b[38;5;241;43m0\u001b[39;49m\u001b[43m]\u001b[49m\u001b[43m)\u001b[49m\u001b[38;5;241;43m.\u001b[39;49m\u001b[43mgroupby\u001b[49m\u001b[43m(\u001b[49m\u001b[43mquery_ids_train\u001b[49m\u001b[43m)\u001b[49m\u001b[38;5;241;43m.\u001b[39;49m\u001b[43mtransform\u001b[49m\u001b[43m(\u001b[49m\u001b[38;5;28;43;01mlambda\u001b[39;49;00m\u001b[43m \u001b[49m\u001b[43mx\u001b[49m\u001b[43m:\u001b[49m\u001b[43m \u001b[49m\u001b[43mscaler\u001b[49m\u001b[43m(\u001b[49m\u001b[43m)\u001b[49m\u001b[38;5;241;43m.\u001b[39;49m\u001b[43mfit_transform\u001b[49m\u001b[43m(\u001b[49m\u001b[43mx\u001b[49m\u001b[38;5;241;43m.\u001b[39;49m\u001b[43mvalues\u001b[49m\u001b[43m[\u001b[49m\u001b[43m:\u001b[49m\u001b[43m,\u001b[49m\u001b[43mnp\u001b[49m\u001b[38;5;241;43m.\u001b[39;49m\u001b[43mnewaxis\u001b[49m\u001b[43m]\u001b[49m\u001b[43m)\u001b[49m\u001b[38;5;241;43m.\u001b[39;49m\u001b[43mravel\u001b[49m\u001b[43m(\u001b[49m\u001b[43m)\u001b[49m\u001b[43m)\u001b[49m\n",
      "File \u001b[0;32m/opt/conda/lib/python3.8/site-packages/pandas/core/groupby/generic.py:1359\u001b[0m, in \u001b[0;36mDataFrameGroupBy.transform\u001b[0;34m(self, func, engine, engine_kwargs, *args, **kwargs)\u001b[0m\n\u001b[1;32m   1356\u001b[0m func \u001b[38;5;241m=\u001b[39m \u001b[38;5;28mself\u001b[39m\u001b[38;5;241m.\u001b[39m_get_cython_func(func) \u001b[38;5;129;01mor\u001b[39;00m func\n\u001b[1;32m   1358\u001b[0m \u001b[38;5;28;01mif\u001b[39;00m \u001b[38;5;129;01mnot\u001b[39;00m \u001b[38;5;28misinstance\u001b[39m(func, \u001b[38;5;28mstr\u001b[39m):\n\u001b[0;32m-> 1359\u001b[0m     \u001b[38;5;28;01mreturn\u001b[39;00m \u001b[38;5;28;43mself\u001b[39;49m\u001b[38;5;241;43m.\u001b[39;49m\u001b[43m_transform_general\u001b[49m\u001b[43m(\u001b[49m\u001b[43mfunc\u001b[49m\u001b[43m,\u001b[49m\u001b[43m \u001b[49m\u001b[38;5;241;43m*\u001b[39;49m\u001b[43margs\u001b[49m\u001b[43m,\u001b[49m\u001b[43m \u001b[49m\u001b[38;5;241;43m*\u001b[39;49m\u001b[38;5;241;43m*\u001b[39;49m\u001b[43mkwargs\u001b[49m\u001b[43m)\u001b[49m\n\u001b[1;32m   1361\u001b[0m \u001b[38;5;28;01melif\u001b[39;00m func \u001b[38;5;129;01mnot\u001b[39;00m \u001b[38;5;129;01min\u001b[39;00m base\u001b[38;5;241m.\u001b[39mtransform_kernel_allowlist:\n\u001b[1;32m   1362\u001b[0m     msg \u001b[38;5;241m=\u001b[39m \u001b[38;5;124mf\u001b[39m\u001b[38;5;124m\"\u001b[39m\u001b[38;5;124m'\u001b[39m\u001b[38;5;132;01m{\u001b[39;00mfunc\u001b[38;5;132;01m}\u001b[39;00m\u001b[38;5;124m'\u001b[39m\u001b[38;5;124m is not a valid function name for transform(name)\u001b[39m\u001b[38;5;124m\"\u001b[39m\n",
      "File \u001b[0;32m/opt/conda/lib/python3.8/site-packages/pandas/core/groupby/generic.py:1308\u001b[0m, in \u001b[0;36mDataFrameGroupBy._transform_general\u001b[0;34m(self, func, *args, **kwargs)\u001b[0m\n\u001b[1;32m   1306\u001b[0m     path, res \u001b[38;5;241m=\u001b[39m \u001b[38;5;28mself\u001b[39m\u001b[38;5;241m.\u001b[39m_choose_path(fast_path, slow_path, group)\n\u001b[1;32m   1307\u001b[0m \u001b[38;5;28;01mexcept\u001b[39;00m \u001b[38;5;167;01mTypeError\u001b[39;00m:\n\u001b[0;32m-> 1308\u001b[0m     \u001b[38;5;28;01mreturn\u001b[39;00m \u001b[38;5;28;43mself\u001b[39;49m\u001b[38;5;241;43m.\u001b[39;49m\u001b[43m_transform_item_by_item\u001b[49m\u001b[43m(\u001b[49m\u001b[43mobj\u001b[49m\u001b[43m,\u001b[49m\u001b[43m \u001b[49m\u001b[43mfast_path\u001b[49m\u001b[43m)\u001b[49m\n\u001b[1;32m   1309\u001b[0m \u001b[38;5;28;01mexcept\u001b[39;00m \u001b[38;5;167;01mValueError\u001b[39;00m \u001b[38;5;28;01mas\u001b[39;00m err:\n\u001b[1;32m   1310\u001b[0m     msg \u001b[38;5;241m=\u001b[39m \u001b[38;5;124m\"\u001b[39m\u001b[38;5;124mtransform must return a scalar value for each group\u001b[39m\u001b[38;5;124m\"\u001b[39m\n",
      "File \u001b[0;32m/opt/conda/lib/python3.8/site-packages/pandas/core/groupby/generic.py:1456\u001b[0m, in \u001b[0;36mDataFrameGroupBy._transform_item_by_item\u001b[0;34m(self, obj, wrapper)\u001b[0m\n\u001b[1;32m   1453\u001b[0m         inds\u001b[38;5;241m.\u001b[39mappend(i)\n\u001b[1;32m   1455\u001b[0m \u001b[38;5;28;01mif\u001b[39;00m \u001b[38;5;129;01mnot\u001b[39;00m output:\n\u001b[0;32m-> 1456\u001b[0m     \u001b[38;5;28;01mraise\u001b[39;00m \u001b[38;5;167;01mTypeError\u001b[39;00m(\u001b[38;5;124m\"\u001b[39m\u001b[38;5;124mTransform function invalid for data types\u001b[39m\u001b[38;5;124m\"\u001b[39m)\n\u001b[1;32m   1458\u001b[0m columns \u001b[38;5;241m=\u001b[39m obj\u001b[38;5;241m.\u001b[39mcolumns\n\u001b[1;32m   1459\u001b[0m \u001b[38;5;28;01mif\u001b[39;00m \u001b[38;5;28mlen\u001b[39m(output) \u001b[38;5;241m<\u001b[39m \u001b[38;5;28mlen\u001b[39m(obj\u001b[38;5;241m.\u001b[39mcolumns):\n",
      "\u001b[0;31mTypeError\u001b[0m: Transform function invalid for data types"
     ]
    }
   ],
   "source": [
    "pd.DataFrame(X_train[:, 0]).groupby(query_ids_train).transform(lambda x: scaler().fit_transform(x.values[:,np.newaxis]).ravel())"
   ]
  },
  {
   "cell_type": "code",
   "execution_count": null,
   "id": "0ebb652d-329d-4a29-b2aa-b8e17c728063",
   "metadata": {},
   "outputs": [],
   "source": [
    "np.split(a[:,1], np.unique(a[:, 0], return_index=True)[1][1:])"
   ]
  },
  {
   "cell_type": "code",
   "execution_count": 8,
   "id": "e0b298cb-bb58-4870-b2aa-91ff41e0eca4",
   "metadata": {},
   "outputs": [
    {
     "data": {
      "text/plain": [
       "array([[3., 3., 0., ..., 0., 0., 0.],\n",
       "       [3., 0., 3., ..., 0., 0., 0.],\n",
       "       [3., 0., 2., ..., 0., 0., 0.],\n",
       "       ...,\n",
       "       [2., 0., 2., ..., 0., 0., 0.],\n",
       "       [2., 0., 1., ..., 0., 0., 0.],\n",
       "       [2., 1., 1., ..., 0., 0., 0.]])"
      ]
     },
     "execution_count": 8,
     "metadata": {},
     "output_type": "execute_result"
    }
   ],
   "source": [
    "X_train"
   ]
  },
  {
   "cell_type": "code",
   "execution_count": 17,
   "id": "37e2d23e-af6b-4966-bf71-d61dc66dffc2",
   "metadata": {},
   "outputs": [
    {
     "data": {
      "text/plain": [
       "(array([0., 1., 2., 3., 4.]), array([2, 2, 0, ..., 2, 2, 1]))"
      ]
     },
     "execution_count": 17,
     "metadata": {},
     "output_type": "execute_result"
    }
   ],
   "source": [
    "np.unique(np.stack(y_train), return_inverse=True, axis=0)"
   ]
  },
  {
   "cell_type": "code",
   "execution_count": 18,
   "id": "f08e888a-4eb8-4e7d-9bf7-0bd30909de37",
   "metadata": {},
   "outputs": [
    {
     "data": {
      "text/plain": [
       "array([2., 2., 0., ..., 2., 2., 1.])"
      ]
     },
     "execution_count": 18,
     "metadata": {},
     "output_type": "execute_result"
    }
   ],
   "source": [
    "np.stack(y_train)"
   ]
  },
  {
   "cell_type": "code",
   "execution_count": 29,
   "id": "1dc0c460-11c6-4721-aea8-31add48566bb",
   "metadata": {},
   "outputs": [],
   "source": [
    "key_query_ids, index_query_ids = np.unique(query_ids_train, return_inverse=True)"
   ]
  },
  {
   "cell_type": "code",
   "execution_count": 27,
   "id": "6e7fc84c-d8a1-49ac-b149-33ba13cadfa1",
   "metadata": {},
   "outputs": [
    {
     "data": {
      "text/plain": [
       "((87,), (10000,))"
      ]
     },
     "execution_count": 27,
     "metadata": {},
     "output_type": "execute_result"
    }
   ],
   "source": [
    "#np.unique(query_ids_train, return_inverse=True)[0].shape, np.unique(query_ids_train, return_inverse=True)[1].shape"
   ]
  },
  {
   "cell_type": "code",
   "execution_count": 28,
   "id": "cc4861ef-07a6-4305-81d5-fb7f293c2501",
   "metadata": {},
   "outputs": [
    {
     "data": {
      "text/plain": [
       "(10000, 136)"
      ]
     },
     "execution_count": 28,
     "metadata": {},
     "output_type": "execute_result"
    }
   ],
   "source": [
    "#X_train.shape"
   ]
  },
  {
   "cell_type": "code",
   "execution_count": 71,
   "id": "22d3f3c7-ab37-4552-ada0-f4f54be671a0",
   "metadata": {},
   "outputs": [
    {
     "data": {
      "text/plain": [
       "array([ 0,  0,  0, ..., 86, 86, 86])"
      ]
     },
     "execution_count": 71,
     "metadata": {},
     "output_type": "execute_result"
    },
    {
     "name": "stdout",
     "output_type": "stream",
     "text": [
      "ERROR! Session/line number was not unique in database. History logging moved to new session 39\n"
     ]
    }
   ],
   "source": [
    "index_query_ids"
   ]
  },
  {
   "cell_type": "code",
   "execution_count": null,
   "id": "f098a347-8cf7-49c1-ae76-39379343f331",
   "metadata": {},
   "outputs": [],
   "source": [
    "a = np.empty(len(key_query_ids), dtype=np.int64)\n",
    "a[0] = [0,1]"
   ]
  },
  {
   "cell_type": "code",
   "execution_count": 63,
   "id": "57d71102-d09f-4592-bfe3-225d68720b6f",
   "metadata": {},
   "outputs": [],
   "source": [
    "values = np.zeros((len(key_query_ids), X_train.shape[0]), dtype=np.int64) "
   ]
  },
  {
   "cell_type": "code",
   "execution_count": 59,
   "id": "03fda869-9c5d-4c42-90e6-368006852da2",
   "metadata": {},
   "outputs": [
    {
     "ename": "ValueError",
     "evalue": "array is not broadcastable to correct shape",
     "output_type": "error",
     "traceback": [
      "\u001b[0;31m---------------------------------------------------------------------------\u001b[0m",
      "\u001b[0;31mValueError\u001b[0m                                Traceback (most recent call last)",
      "Input \u001b[0;32mIn [59]\u001b[0m, in \u001b[0;36m<module>\u001b[0;34m\u001b[0m\n\u001b[0;32m----> 1\u001b[0m \u001b[43mnp\u001b[49m\u001b[38;5;241;43m.\u001b[39;49m\u001b[43madd\u001b[49m\u001b[38;5;241;43m.\u001b[39;49m\u001b[43mat\u001b[49m\u001b[43m(\u001b[49m\u001b[43mvalues\u001b[49m\u001b[43m,\u001b[49m\u001b[43m \u001b[49m\u001b[43mindex_query_ids\u001b[49m\u001b[43m,\u001b[49m\u001b[43m \u001b[49m\u001b[43mX_train\u001b[49m\u001b[43m)\u001b[49m\n",
      "\u001b[0;31mValueError\u001b[0m: array is not broadcastable to correct shape"
     ]
    }
   ],
   "source": [
    "np.add.at(values, index_query_ids, X_train)  "
   ]
  },
  {
   "cell_type": "code",
   "execution_count": 70,
   "id": "792e7cb0-491a-4050-82a0-af2731805bea",
   "metadata": {},
   "outputs": [
    {
     "data": {
      "text/plain": [
       "array([     94762245727120,                   0,                 639,\n",
       "                        -1,                 228,                   0,\n",
       "       8247626271117419042, 8026294580820582510, 2334102057476976749,\n",
       "       7236828443251860852, 2338621003134951712, 7813865678659675759,\n",
       "        733650707460748389, 2314885530818453514, 8387230146345652256,\n",
       "       2314885530454815333, 3255307777494491168, 2308707431035514157,\n",
       "       8367723430004400160, 8391085964746061925, 2314885437525485938,\n",
       "       2314885530818453536, 7956016061199958304, 8675467939705462887,\n",
       "       2334379873309827188, 7310579611546251107, 5269246947816841316,\n",
       "       7305437204000743540, 6998715202991122208, 2340029507616186483,\n",
       "       2314885530453831265, 2314885530818453536, 2334097595258072681,\n",
       "       8083791381042831457, 2336927755367183215, 7310011937162092912,\n",
       "       2318912240199755552, 8316293034885925152, 8367736921893462816,\n",
       "       2314885530817029480, 7142744331359625248, 8243122671931387247,\n",
       "       2334672639822686496, 7813871936583002487, 7791338854650246249,\n",
       "       7308050733459664489, 7956009395113259552,  733650668805693541,\n",
       "       2314885530818453536, 8295694424431552876, 8007448960210399860,\n",
       "        751082364807509104, 2314885530818453536, 2334386692386988064,\n",
       "       7310579611546251107, 7526676497259129888, 2338626483647444065,\n",
       "       2338619869330699113, 2314885530450290287, 8318840530307915808,\n",
       "       4188474575918428783, 8101729629966854432, 2308776924701223284,\n",
       "       2314885530818453536, 8079569230265065504, 2336927755367183215,\n",
       "       7142820508308891247, 7957614742455153269, 8101528367547315232,\n",
       "       3343199697457149045, 2314885530818447882, 7958552634293624864,\n",
       "       2314885530818447987, 3255307777713446944, 2314885530818447917,\n",
       "       4188475713901568032,  749689262151332640, 2314885530818453536,\n",
       "       2334386692386988064, 8367807273492570977, 8386098829110573157,\n",
       "       7885630463574898464,  733634176215247984, 2314885530818453536,\n",
       "       2338324130554995053,    2942788805861434,                  59])"
      ]
     },
     "execution_count": 70,
     "metadata": {},
     "output_type": "execute_result"
    },
    {
     "name": "stdout",
     "output_type": "stream",
     "text": [
      "ERROR! Session/line number was not unique in database. History logging moved to new session 38\n"
     ]
    }
   ],
   "source": [
    "a"
   ]
  },
  {
   "cell_type": "code",
   "execution_count": 62,
   "id": "56abf94f-6fd1-4de0-aa14-1da12d00ce75",
   "metadata": {},
   "outputs": [
    {
     "data": {
      "text/plain": [
       "array([   1,   16,   31,   46,   61,   76,   91,  106,  121,  136,  151,\n",
       "        166,  181,  196,  211,  226,  241,  256,  271,  286,  301,  316,\n",
       "        331,  346,  361,  376,  391,  406,  421,  436,  451,  466,  481,\n",
       "        496,  511,  526,  541,  556,  571,  586,  601,  616,  631,  646,\n",
       "        661,  676,  691,  706,  721,  736,  751,  766,  781,  796,  811,\n",
       "        826,  841,  856,  871,  886,  901,  916,  931,  946,  961,  976,\n",
       "        991, 1006, 1021, 1036, 1051, 1066, 1081, 1096, 1111, 1126, 1141,\n",
       "       1156, 1171, 1186, 1201, 1216, 1231, 1246, 1261, 1276, 1291])"
      ]
     },
     "execution_count": 62,
     "metadata": {},
     "output_type": "execute_result"
    }
   ],
   "source": [
    "key_query_ids"
   ]
  },
  {
   "cell_type": "code",
   "execution_count": 50,
   "id": "716ae47d-f4c3-424d-9daa-9388dc4246eb",
   "metadata": {},
   "outputs": [
    {
     "data": {
      "text/plain": [
       "0.0"
      ]
     },
     "execution_count": 50,
     "metadata": {},
     "output_type": "execute_result"
    }
   ],
   "source": [
    "X_train[1,1]"
   ]
  },
  {
   "cell_type": "code",
   "execution_count": 37,
   "id": "f0ed8a3e-2d56-4555-b4e4-76a6d861e49c",
   "metadata": {},
   "outputs": [
    {
     "data": {
      "text/plain": [
       "array([ 0,  0,  0, ..., 86, 86, 86])"
      ]
     },
     "execution_count": 37,
     "metadata": {},
     "output_type": "execute_result"
    }
   ],
   "source": [
    "index_query_ids"
   ]
  },
  {
   "cell_type": "code",
   "execution_count": 57,
   "id": "3ad493b4-6638-4a8e-865d-aaa2eedf00da",
   "metadata": {},
   "outputs": [
    {
     "data": {
      "text/plain": [
       "array([3., 0., 0., ..., 0., 0., 1.])"
      ]
     },
     "execution_count": 57,
     "metadata": {},
     "output_type": "execute_result"
    }
   ],
   "source": [
    "X_train[:,1]"
   ]
  },
  {
   "cell_type": "code",
   "execution_count": 42,
   "id": "32e45484-5104-4c65-ac53-c233a04d1ca8",
   "metadata": {},
   "outputs": [
    {
     "data": {
      "text/plain": [
       "array([ 3.0000000e+00,  0.0000000e+00,  3.0000000e+00,  0.0000000e+00,\n",
       "        3.0000000e+00,  1.0000000e+00,  0.0000000e+00,  1.0000000e+00,\n",
       "        0.0000000e+00,  1.0000000e+00,  4.0600000e+02,  0.0000000e+00,\n",
       "        5.0000000e+00,  5.0000000e+00,  4.1600000e+02,  6.9312750e+00,\n",
       "        2.2076928e+01,  1.9673353e+01,  2.2255383e+01,  6.9265510e+00,\n",
       "        2.8000000e+01,  0.0000000e+00,  3.0000000e+00,  0.0000000e+00,\n",
       "        3.1000000e+01,  8.0000000e+00,  0.0000000e+00,  1.0000000e+00,\n",
       "        0.0000000e+00,  9.0000000e+00,  1.0000000e+01,  0.0000000e+00,\n",
       "        1.0000000e+00,  0.0000000e+00,  1.1000000e+01,  9.3333330e+00,\n",
       "        0.0000000e+00,  1.0000000e+00,  0.0000000e+00,  1.0333333e+01,\n",
       "        8.8888900e-01,  0.0000000e+00,  0.0000000e+00,  0.0000000e+00,\n",
       "        8.8888900e-01,  6.8966000e-02,  0.0000000e+00,  6.0000000e-01,\n",
       "        0.0000000e+00,  7.4519000e-02,  1.9704000e-02,  0.0000000e+00,\n",
       "        2.0000000e-01,  0.0000000e+00,  2.1635000e-02,  2.4631000e-02,\n",
       "        0.0000000e+00,  2.0000000e-01,  0.0000000e+00,  2.6442000e-02,\n",
       "        2.2989000e-02,  0.0000000e+00,  2.0000000e-01,  0.0000000e+00,\n",
       "        2.4840000e-02,  5.0000000e-06,  0.0000000e+00,  0.0000000e+00,\n",
       "        0.0000000e+00,  5.0000000e-06,  6.3912287e+01,  0.0000000e+00,\n",
       "        1.9673353e+01,  0.0000000e+00,  7.0792754e+01,  1.1521285e+01,\n",
       "        0.0000000e+00,  5.3731630e+00,  0.0000000e+00,  1.2634581e+01,\n",
       "        3.0789171e+01,  0.0000000e+00,  7.9857840e+00,  0.0000000e+00,\n",
       "        3.3861273e+01,  2.1304096e+01,  0.0000000e+00,  6.5577840e+00,\n",
       "        0.0000000e+00,  2.3597585e+01,  6.1919565e+01,  0.0000000e+00,\n",
       "        1.1672480e+00,  0.0000000e+00,  7.5339929e+01,  1.0000000e+00,\n",
       "        0.0000000e+00,  1.0000000e+00,  0.0000000e+00,  1.0000000e+00,\n",
       "        9.9442500e-01,  0.0000000e+00,  1.0000000e+00,  0.0000000e+00,\n",
       "        9.9545500e-01,  2.0885118e+01,  0.0000000e+00,  2.4233365e+01,\n",
       "        0.0000000e+00,  2.1161666e+01, -1.1555850e+01, -2.1242171e+01,\n",
       "       -8.4290240e+00, -2.5436074e+01, -1.1297811e+01, -1.6487275e+01,\n",
       "       -2.4805464e+01, -2.1461317e+01, -2.7690319e+01, -1.6208808e+01,\n",
       "       -1.1646141e+01, -2.4041386e+01, -5.1438600e+00, -2.8119826e+01,\n",
       "       -1.1411068e+01,  2.0000000e+00,  5.4000000e+01,  1.1089534e+07,\n",
       "        2.0000000e+00,  1.2400000e+02,  6.4034000e+04,  1.0000000e+00,\n",
       "        2.0000000e+00,  0.0000000e+00,  0.0000000e+00,  0.0000000e+00])"
      ]
     },
     "execution_count": 42,
     "metadata": {},
     "output_type": "execute_result"
    }
   ],
   "source": [
    "X_train[1, :]"
   ]
  },
  {
   "cell_type": "code",
   "execution_count": null,
   "id": "f4360105-786c-4bc8-a07f-3b334d892b1d",
   "metadata": {},
   "outputs": [],
   "source": [
    "values = np.zeros(len(keys), dtype=np.int64)          # Sum-based accumulator\n",
    "np.add.at(values, index, df[:,1])  "
   ]
  }
 ],
 "metadata": {
  "kernelspec": {
   "display_name": "Python 3 (ipykernel)",
   "language": "python",
   "name": "python3"
  },
  "language_info": {
   "codemirror_mode": {
    "name": "ipython",
    "version": 3
   },
   "file_extension": ".py",
   "mimetype": "text/x-python",
   "name": "python",
   "nbconvert_exporter": "python",
   "pygments_lexer": "ipython3",
   "version": "3.8.10"
  }
 },
 "nbformat": 4,
 "nbformat_minor": 5
}
